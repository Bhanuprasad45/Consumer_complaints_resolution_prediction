{
 "cells": [
  {
   "cell_type": "code",
   "execution_count": 1,
   "metadata": {},
   "outputs": [],
   "source": [
    "import os\n",
    "import warnings\n",
    "warnings.filterwarnings('ignore')"
   ]
  },
  {
   "cell_type": "code",
   "execution_count": 2,
   "metadata": {},
   "outputs": [
    {
     "data": {
      "text/plain": [
       "'C:\\\\Users\\\\HARITHA\\\\Downloads'"
      ]
     },
     "execution_count": 2,
     "metadata": {},
     "output_type": "execute_result"
    }
   ],
   "source": [
    "os.getcwd()"
   ]
  },
  {
   "cell_type": "markdown",
   "metadata": {},
   "source": [
    "os.mkdir('C:\\\\Users\\\\HARITHA\\\\Downloads\\\\Counterfeit')"
   ]
  },
  {
   "cell_type": "code",
   "execution_count": 3,
   "metadata": {},
   "outputs": [],
   "source": [
    "os.chdir('C:\\\\Users\\\\HARITHA\\\\Downloads\\\\Counterfeit')"
   ]
  },
  {
   "cell_type": "code",
   "execution_count": 4,
   "metadata": {},
   "outputs": [
    {
     "data": {
      "text/plain": [
       "'C:\\\\Users\\\\HARITHA\\\\Downloads\\\\Counterfeit'"
      ]
     },
     "execution_count": 4,
     "metadata": {},
     "output_type": "execute_result"
    }
   ],
   "source": [
    "os.getcwd()"
   ]
  },
  {
   "cell_type": "code",
   "execution_count": 5,
   "metadata": {},
   "outputs": [],
   "source": [
    "import pandas as pd"
   ]
  },
  {
   "cell_type": "code",
   "execution_count": 6,
   "metadata": {},
   "outputs": [],
   "source": [
    "cc_train=pd.read_csv('Consumer_Complaints_train.csv')"
   ]
  },
  {
   "cell_type": "code",
   "execution_count": 7,
   "metadata": {},
   "outputs": [
    {
     "data": {
      "text/html": [
       "<div>\n",
       "<style scoped>\n",
       "    .dataframe tbody tr th:only-of-type {\n",
       "        vertical-align: middle;\n",
       "    }\n",
       "\n",
       "    .dataframe tbody tr th {\n",
       "        vertical-align: top;\n",
       "    }\n",
       "\n",
       "    .dataframe thead th {\n",
       "        text-align: right;\n",
       "    }\n",
       "</style>\n",
       "<table border=\"1\" class=\"dataframe\">\n",
       "  <thead>\n",
       "    <tr style=\"text-align: right;\">\n",
       "      <th></th>\n",
       "      <th>Date received</th>\n",
       "      <th>Product</th>\n",
       "      <th>Sub-product</th>\n",
       "      <th>Issue</th>\n",
       "      <th>Sub-issue</th>\n",
       "      <th>Consumer complaint narrative</th>\n",
       "      <th>Company public response</th>\n",
       "      <th>Company</th>\n",
       "      <th>State</th>\n",
       "      <th>ZIP code</th>\n",
       "      <th>Tags</th>\n",
       "      <th>Consumer consent provided?</th>\n",
       "      <th>Submitted via</th>\n",
       "      <th>Date sent to company</th>\n",
       "      <th>Company response to consumer</th>\n",
       "      <th>Timely response?</th>\n",
       "      <th>Consumer disputed?</th>\n",
       "      <th>Complaint ID</th>\n",
       "    </tr>\n",
       "  </thead>\n",
       "  <tbody>\n",
       "    <tr>\n",
       "      <th>0</th>\n",
       "      <td>2014-05-15</td>\n",
       "      <td>Credit card</td>\n",
       "      <td>NaN</td>\n",
       "      <td>Billing statement</td>\n",
       "      <td>NaN</td>\n",
       "      <td>NaN</td>\n",
       "      <td>NaN</td>\n",
       "      <td>Wells Fargo &amp; Company</td>\n",
       "      <td>MI</td>\n",
       "      <td>48342</td>\n",
       "      <td>Older American</td>\n",
       "      <td>NaN</td>\n",
       "      <td>Web</td>\n",
       "      <td>2014-05-16</td>\n",
       "      <td>Closed with explanation</td>\n",
       "      <td>Yes</td>\n",
       "      <td>No</td>\n",
       "      <td>856103</td>\n",
       "    </tr>\n",
       "    <tr>\n",
       "      <th>1</th>\n",
       "      <td>2014-09-18</td>\n",
       "      <td>Bank account or service</td>\n",
       "      <td>(CD) Certificate of deposit</td>\n",
       "      <td>Making/receiving payments, sending money</td>\n",
       "      <td>NaN</td>\n",
       "      <td>NaN</td>\n",
       "      <td>NaN</td>\n",
       "      <td>Santander Bank US</td>\n",
       "      <td>PA</td>\n",
       "      <td>18042</td>\n",
       "      <td>NaN</td>\n",
       "      <td>NaN</td>\n",
       "      <td>Referral</td>\n",
       "      <td>2014-09-24</td>\n",
       "      <td>Closed</td>\n",
       "      <td>Yes</td>\n",
       "      <td>No</td>\n",
       "      <td>1034666</td>\n",
       "    </tr>\n",
       "    <tr>\n",
       "      <th>2</th>\n",
       "      <td>2014-03-13</td>\n",
       "      <td>Credit reporting</td>\n",
       "      <td>NaN</td>\n",
       "      <td>Incorrect information on credit report</td>\n",
       "      <td>Account status</td>\n",
       "      <td>NaN</td>\n",
       "      <td>NaN</td>\n",
       "      <td>Equifax</td>\n",
       "      <td>CA</td>\n",
       "      <td>92427</td>\n",
       "      <td>NaN</td>\n",
       "      <td>NaN</td>\n",
       "      <td>Referral</td>\n",
       "      <td>2014-04-03</td>\n",
       "      <td>Closed with non-monetary relief</td>\n",
       "      <td>Yes</td>\n",
       "      <td>No</td>\n",
       "      <td>756363</td>\n",
       "    </tr>\n",
       "    <tr>\n",
       "      <th>3</th>\n",
       "      <td>2015-07-17</td>\n",
       "      <td>Credit card</td>\n",
       "      <td>NaN</td>\n",
       "      <td>Billing statement</td>\n",
       "      <td>NaN</td>\n",
       "      <td>My credit card statement from US Bank, XXXX. X...</td>\n",
       "      <td>Company chooses not to provide a public response</td>\n",
       "      <td>U.S. Bancorp</td>\n",
       "      <td>GA</td>\n",
       "      <td>305XX</td>\n",
       "      <td>Older American</td>\n",
       "      <td>Consent provided</td>\n",
       "      <td>Web</td>\n",
       "      <td>2015-07-17</td>\n",
       "      <td>Closed with monetary relief</td>\n",
       "      <td>Yes</td>\n",
       "      <td>No</td>\n",
       "      <td>1474177</td>\n",
       "    </tr>\n",
       "    <tr>\n",
       "      <th>4</th>\n",
       "      <td>2014-11-20</td>\n",
       "      <td>Credit card</td>\n",
       "      <td>NaN</td>\n",
       "      <td>Transaction issue</td>\n",
       "      <td>NaN</td>\n",
       "      <td>NaN</td>\n",
       "      <td>NaN</td>\n",
       "      <td>Bank of America</td>\n",
       "      <td>MA</td>\n",
       "      <td>02127</td>\n",
       "      <td>NaN</td>\n",
       "      <td>NaN</td>\n",
       "      <td>Web</td>\n",
       "      <td>2014-11-28</td>\n",
       "      <td>Closed with explanation</td>\n",
       "      <td>Yes</td>\n",
       "      <td>No</td>\n",
       "      <td>1132572</td>\n",
       "    </tr>\n",
       "  </tbody>\n",
       "</table>\n",
       "</div>"
      ],
      "text/plain": [
       "  Date received                  Product                  Sub-product  \\\n",
       "0    2014-05-15              Credit card                          NaN   \n",
       "1    2014-09-18  Bank account or service  (CD) Certificate of deposit   \n",
       "2    2014-03-13         Credit reporting                          NaN   \n",
       "3    2015-07-17              Credit card                          NaN   \n",
       "4    2014-11-20              Credit card                          NaN   \n",
       "\n",
       "                                      Issue       Sub-issue  \\\n",
       "0                         Billing statement             NaN   \n",
       "1  Making/receiving payments, sending money             NaN   \n",
       "2    Incorrect information on credit report  Account status   \n",
       "3                         Billing statement             NaN   \n",
       "4                         Transaction issue             NaN   \n",
       "\n",
       "                        Consumer complaint narrative  \\\n",
       "0                                                NaN   \n",
       "1                                                NaN   \n",
       "2                                                NaN   \n",
       "3  My credit card statement from US Bank, XXXX. X...   \n",
       "4                                                NaN   \n",
       "\n",
       "                            Company public response                Company  \\\n",
       "0                                               NaN  Wells Fargo & Company   \n",
       "1                                               NaN      Santander Bank US   \n",
       "2                                               NaN                Equifax   \n",
       "3  Company chooses not to provide a public response           U.S. Bancorp   \n",
       "4                                               NaN        Bank of America   \n",
       "\n",
       "  State ZIP code            Tags Consumer consent provided? Submitted via  \\\n",
       "0    MI    48342  Older American                        NaN           Web   \n",
       "1    PA    18042             NaN                        NaN      Referral   \n",
       "2    CA    92427             NaN                        NaN      Referral   \n",
       "3    GA    305XX  Older American           Consent provided           Web   \n",
       "4    MA    02127             NaN                        NaN           Web   \n",
       "\n",
       "  Date sent to company     Company response to consumer Timely response?  \\\n",
       "0           2014-05-16          Closed with explanation              Yes   \n",
       "1           2014-09-24                           Closed              Yes   \n",
       "2           2014-04-03  Closed with non-monetary relief              Yes   \n",
       "3           2015-07-17      Closed with monetary relief              Yes   \n",
       "4           2014-11-28          Closed with explanation              Yes   \n",
       "\n",
       "  Consumer disputed?  Complaint ID  \n",
       "0                 No        856103  \n",
       "1                 No       1034666  \n",
       "2                 No        756363  \n",
       "3                 No       1474177  \n",
       "4                 No       1132572  "
      ]
     },
     "execution_count": 7,
     "metadata": {},
     "output_type": "execute_result"
    }
   ],
   "source": [
    "cc_train.head()"
   ]
  },
  {
   "cell_type": "code",
   "execution_count": 8,
   "metadata": {},
   "outputs": [],
   "source": [
    "cc_test=pd.read_csv('Consumer_Complaints_test_share.csv')"
   ]
  },
  {
   "cell_type": "code",
   "execution_count": 9,
   "metadata": {},
   "outputs": [
    {
     "data": {
      "text/html": [
       "<div>\n",
       "<style scoped>\n",
       "    .dataframe tbody tr th:only-of-type {\n",
       "        vertical-align: middle;\n",
       "    }\n",
       "\n",
       "    .dataframe tbody tr th {\n",
       "        vertical-align: top;\n",
       "    }\n",
       "\n",
       "    .dataframe thead th {\n",
       "        text-align: right;\n",
       "    }\n",
       "</style>\n",
       "<table border=\"1\" class=\"dataframe\">\n",
       "  <thead>\n",
       "    <tr style=\"text-align: right;\">\n",
       "      <th></th>\n",
       "      <th>Date received</th>\n",
       "      <th>Product</th>\n",
       "      <th>Sub-product</th>\n",
       "      <th>Issue</th>\n",
       "      <th>Sub-issue</th>\n",
       "      <th>Consumer complaint narrative</th>\n",
       "      <th>Company public response</th>\n",
       "      <th>Company</th>\n",
       "      <th>State</th>\n",
       "      <th>ZIP code</th>\n",
       "      <th>Tags</th>\n",
       "      <th>Consumer consent provided?</th>\n",
       "      <th>Submitted via</th>\n",
       "      <th>Date sent to company</th>\n",
       "      <th>Company response to consumer</th>\n",
       "      <th>Timely response?</th>\n",
       "      <th>Complaint ID</th>\n",
       "    </tr>\n",
       "  </thead>\n",
       "  <tbody>\n",
       "    <tr>\n",
       "      <th>0</th>\n",
       "      <td>2014-01-18</td>\n",
       "      <td>Bank account or service</td>\n",
       "      <td>Cashing a check without an account</td>\n",
       "      <td>Deposits and withdrawals</td>\n",
       "      <td>NaN</td>\n",
       "      <td>NaN</td>\n",
       "      <td>NaN</td>\n",
       "      <td>Bank of America</td>\n",
       "      <td>CA</td>\n",
       "      <td>95691</td>\n",
       "      <td>NaN</td>\n",
       "      <td>NaN</td>\n",
       "      <td>Web</td>\n",
       "      <td>2014-01-17</td>\n",
       "      <td>Closed with explanation</td>\n",
       "      <td>Yes</td>\n",
       "      <td>675956</td>\n",
       "    </tr>\n",
       "    <tr>\n",
       "      <th>1</th>\n",
       "      <td>2016-03-31</td>\n",
       "      <td>Debt collection</td>\n",
       "      <td>Credit card</td>\n",
       "      <td>Cont'd attempts collect debt not owed</td>\n",
       "      <td>Debt was paid</td>\n",
       "      <td>NaN</td>\n",
       "      <td>NaN</td>\n",
       "      <td>National Credit Adjusters, LLC</td>\n",
       "      <td>FL</td>\n",
       "      <td>32086</td>\n",
       "      <td>NaN</td>\n",
       "      <td>Consent not provided</td>\n",
       "      <td>Web</td>\n",
       "      <td>2016-03-31</td>\n",
       "      <td>Closed with explanation</td>\n",
       "      <td>Yes</td>\n",
       "      <td>1858795</td>\n",
       "    </tr>\n",
       "    <tr>\n",
       "      <th>2</th>\n",
       "      <td>2012-03-08</td>\n",
       "      <td>Mortgage</td>\n",
       "      <td>Conventional adjustable mortgage (ARM)</td>\n",
       "      <td>Loan servicing, payments, escrow account</td>\n",
       "      <td>NaN</td>\n",
       "      <td>NaN</td>\n",
       "      <td>NaN</td>\n",
       "      <td>Wells Fargo &amp; Company</td>\n",
       "      <td>CA</td>\n",
       "      <td>94618</td>\n",
       "      <td>NaN</td>\n",
       "      <td>NaN</td>\n",
       "      <td>Web</td>\n",
       "      <td>2012-03-09</td>\n",
       "      <td>Closed without relief</td>\n",
       "      <td>Yes</td>\n",
       "      <td>32637</td>\n",
       "    </tr>\n",
       "    <tr>\n",
       "      <th>3</th>\n",
       "      <td>2016-01-07</td>\n",
       "      <td>Credit reporting</td>\n",
       "      <td>NaN</td>\n",
       "      <td>Unable to get credit report/credit score</td>\n",
       "      <td>Problem getting report or credit score</td>\n",
       "      <td>NaN</td>\n",
       "      <td>Company chooses not to provide a public response</td>\n",
       "      <td>TransUnion Intermediate Holdings, Inc.</td>\n",
       "      <td>FL</td>\n",
       "      <td>33584</td>\n",
       "      <td>Older American</td>\n",
       "      <td>NaN</td>\n",
       "      <td>Postal mail</td>\n",
       "      <td>2016-01-12</td>\n",
       "      <td>Closed with non-monetary relief</td>\n",
       "      <td>Yes</td>\n",
       "      <td>1731374</td>\n",
       "    </tr>\n",
       "    <tr>\n",
       "      <th>4</th>\n",
       "      <td>2013-08-23</td>\n",
       "      <td>Mortgage</td>\n",
       "      <td>FHA mortgage</td>\n",
       "      <td>Loan modification,collection,foreclosure</td>\n",
       "      <td>NaN</td>\n",
       "      <td>NaN</td>\n",
       "      <td>NaN</td>\n",
       "      <td>Bank of America</td>\n",
       "      <td>FL</td>\n",
       "      <td>33543</td>\n",
       "      <td>NaN</td>\n",
       "      <td>NaN</td>\n",
       "      <td>Web</td>\n",
       "      <td>2013-08-23</td>\n",
       "      <td>Closed with explanation</td>\n",
       "      <td>Yes</td>\n",
       "      <td>501487</td>\n",
       "    </tr>\n",
       "  </tbody>\n",
       "</table>\n",
       "</div>"
      ],
      "text/plain": [
       "  Date received                  Product  \\\n",
       "0    2014-01-18  Bank account or service   \n",
       "1    2016-03-31          Debt collection   \n",
       "2    2012-03-08                 Mortgage   \n",
       "3    2016-01-07         Credit reporting   \n",
       "4    2013-08-23                 Mortgage   \n",
       "\n",
       "                              Sub-product  \\\n",
       "0      Cashing a check without an account   \n",
       "1                             Credit card   \n",
       "2  Conventional adjustable mortgage (ARM)   \n",
       "3                                     NaN   \n",
       "4                            FHA mortgage   \n",
       "\n",
       "                                      Issue  \\\n",
       "0                  Deposits and withdrawals   \n",
       "1     Cont'd attempts collect debt not owed   \n",
       "2  Loan servicing, payments, escrow account   \n",
       "3  Unable to get credit report/credit score   \n",
       "4  Loan modification,collection,foreclosure   \n",
       "\n",
       "                                Sub-issue Consumer complaint narrative  \\\n",
       "0                                     NaN                          NaN   \n",
       "1                           Debt was paid                          NaN   \n",
       "2                                     NaN                          NaN   \n",
       "3  Problem getting report or credit score                          NaN   \n",
       "4                                     NaN                          NaN   \n",
       "\n",
       "                            Company public response  \\\n",
       "0                                               NaN   \n",
       "1                                               NaN   \n",
       "2                                               NaN   \n",
       "3  Company chooses not to provide a public response   \n",
       "4                                               NaN   \n",
       "\n",
       "                                  Company State ZIP code            Tags  \\\n",
       "0                         Bank of America    CA    95691             NaN   \n",
       "1          National Credit Adjusters, LLC    FL    32086             NaN   \n",
       "2                   Wells Fargo & Company    CA    94618             NaN   \n",
       "3  TransUnion Intermediate Holdings, Inc.    FL    33584  Older American   \n",
       "4                         Bank of America    FL    33543             NaN   \n",
       "\n",
       "  Consumer consent provided? Submitted via Date sent to company  \\\n",
       "0                        NaN           Web           2014-01-17   \n",
       "1       Consent not provided           Web           2016-03-31   \n",
       "2                        NaN           Web           2012-03-09   \n",
       "3                        NaN   Postal mail           2016-01-12   \n",
       "4                        NaN           Web           2013-08-23   \n",
       "\n",
       "      Company response to consumer Timely response?  Complaint ID  \n",
       "0          Closed with explanation              Yes        675956  \n",
       "1          Closed with explanation              Yes       1858795  \n",
       "2            Closed without relief              Yes         32637  \n",
       "3  Closed with non-monetary relief              Yes       1731374  \n",
       "4          Closed with explanation              Yes        501487  "
      ]
     },
     "execution_count": 9,
     "metadata": {},
     "output_type": "execute_result"
    }
   ],
   "source": [
    "cc_test.head()"
   ]
  },
  {
   "cell_type": "code",
   "execution_count": 10,
   "metadata": {},
   "outputs": [
    {
     "data": {
      "text/plain": [
       "(478421, 18)"
      ]
     },
     "execution_count": 10,
     "metadata": {},
     "output_type": "execute_result"
    }
   ],
   "source": [
    "cc_train.shape"
   ]
  },
  {
   "cell_type": "code",
   "execution_count": 11,
   "metadata": {},
   "outputs": [
    {
     "data": {
      "text/plain": [
       "(119606, 17)"
      ]
     },
     "execution_count": 11,
     "metadata": {},
     "output_type": "execute_result"
    }
   ],
   "source": [
    "cc_test.shape"
   ]
  },
  {
   "cell_type": "code",
   "execution_count": 12,
   "metadata": {},
   "outputs": [],
   "source": [
    "import numpy as np"
   ]
  },
  {
   "cell_type": "code",
   "execution_count": 13,
   "metadata": {},
   "outputs": [],
   "source": [
    "cc_test['Consumer disputed?']=np.nan"
   ]
  },
  {
   "cell_type": "code",
   "execution_count": 14,
   "metadata": {},
   "outputs": [
    {
     "name": "stdout",
     "output_type": "stream",
     "text": [
      "<class 'pandas.core.frame.DataFrame'>\n",
      "RangeIndex: 478421 entries, 0 to 478420\n",
      "Data columns (total 18 columns):\n",
      " #   Column                        Non-Null Count   Dtype \n",
      "---  ------                        --------------   ----- \n",
      " 0   Date received                 478421 non-null  object\n",
      " 1   Product                       478421 non-null  object\n",
      " 2   Sub-product                   339948 non-null  object\n",
      " 3   Issue                         478421 non-null  object\n",
      " 4   Sub-issue                     185796 non-null  object\n",
      " 5   Consumer complaint narrative  75094 non-null   object\n",
      " 6   Company public response       90392 non-null   object\n",
      " 7   Company                       478421 non-null  object\n",
      " 8   State                         474582 non-null  object\n",
      " 9   ZIP code                      474573 non-null  object\n",
      " 10  Tags                          67206 non-null   object\n",
      " 11  Consumer consent provided?    135487 non-null  object\n",
      " 12  Submitted via                 478421 non-null  object\n",
      " 13  Date sent to company          478421 non-null  object\n",
      " 14  Company response to consumer  478421 non-null  object\n",
      " 15  Timely response?              478421 non-null  object\n",
      " 16  Consumer disputed?            478421 non-null  object\n",
      " 17  Complaint ID                  478421 non-null  int64 \n",
      "dtypes: int64(1), object(17)\n",
      "memory usage: 65.7+ MB\n"
     ]
    }
   ],
   "source": [
    "cc_train.info()"
   ]
  },
  {
   "cell_type": "code",
   "execution_count": 15,
   "metadata": {},
   "outputs": [
    {
     "name": "stdout",
     "output_type": "stream",
     "text": [
      "<class 'pandas.core.frame.DataFrame'>\n",
      "RangeIndex: 119606 entries, 0 to 119605\n",
      "Data columns (total 18 columns):\n",
      " #   Column                        Non-Null Count   Dtype  \n",
      "---  ------                        --------------   -----  \n",
      " 0   Date received                 119606 non-null  object \n",
      " 1   Product                       119606 non-null  object \n",
      " 2   Sub-product                   84854 non-null   object \n",
      " 3   Issue                         119606 non-null  object \n",
      " 4   Sub-issue                     46546 non-null   object \n",
      " 5   Consumer complaint narrative  18557 non-null   object \n",
      " 6   Company public response       22776 non-null   object \n",
      " 7   Company                       119606 non-null  object \n",
      " 8   State                         118681 non-null  object \n",
      " 9   ZIP code                      118680 non-null  object \n",
      " 10  Tags                          16871 non-null   object \n",
      " 11  Consumer consent provided?    33864 non-null   object \n",
      " 12  Submitted via                 119605 non-null  object \n",
      " 13  Date sent to company          119606 non-null  object \n",
      " 14  Company response to consumer  119606 non-null  object \n",
      " 15  Timely response?              119606 non-null  object \n",
      " 16  Complaint ID                  119606 non-null  int64  \n",
      " 17  Consumer disputed?            0 non-null       float64\n",
      "dtypes: float64(1), int64(1), object(16)\n",
      "memory usage: 16.4+ MB\n"
     ]
    }
   ],
   "source": [
    "cc_test.info()"
   ]
  },
  {
   "cell_type": "code",
   "execution_count": 16,
   "metadata": {},
   "outputs": [
    {
     "data": {
      "text/plain": [
       "598027"
      ]
     },
     "execution_count": 16,
     "metadata": {},
     "output_type": "execute_result"
    }
   ],
   "source": [
    "478421+119606"
   ]
  },
  {
   "cell_type": "code",
   "execution_count": 17,
   "metadata": {},
   "outputs": [
    {
     "data": {
      "text/plain": [
       "Date received                        0\n",
       "Product                              0\n",
       "Sub-product                     138473\n",
       "Issue                                0\n",
       "Sub-issue                       292625\n",
       "Consumer complaint narrative    403327\n",
       "Company public response         388029\n",
       "Company                              0\n",
       "State                             3839\n",
       "ZIP code                          3848\n",
       "Tags                            411215\n",
       "Consumer consent provided?      342934\n",
       "Submitted via                        0\n",
       "Date sent to company                 0\n",
       "Company response to consumer         0\n",
       "Timely response?                     0\n",
       "Consumer disputed?                   0\n",
       "Complaint ID                         0\n",
       "dtype: int64"
      ]
     },
     "execution_count": 17,
     "metadata": {},
     "output_type": "execute_result"
    }
   ],
   "source": [
    "cc_train.isnull().sum()"
   ]
  },
  {
   "cell_type": "code",
   "execution_count": 18,
   "metadata": {},
   "outputs": [
    {
     "data": {
      "text/plain": [
       "478421"
      ]
     },
     "execution_count": 18,
     "metadata": {},
     "output_type": "execute_result"
    }
   ],
   "source": [
    "cc_train.shape[0]"
   ]
  },
  {
   "cell_type": "code",
   "execution_count": 19,
   "metadata": {},
   "outputs": [
    {
     "data": {
      "text/plain": [
       "This company continues to report on my credit report after I sent them a letter telling them that this account was not mine and I have no idea what it is or who it belongs to! \\n\\nI asked for proof of a signed contract, I asked for a license to collect in my state, I asked for copies of all information referenced for this debt and still to date, I have not received anything but harassment from this company! \\n\\nTHIS IS NOT MY DEBT! \\n\\nI WANT THIS ACCOUNT REMOVED FROM MY CREDIT REPORT AND THIS COMPANY TO STOP CONTACTING ME IMMEDIATELY! \\n                                                                                                                                                                                                                                                                                                                                                                                                                                                                                                                                                                                                                                                                                                                                                                                                                                                                                                                                                     38\n",
       "This company continues to report on my credit report after I sent them a letter telling them that this account was not mine and I have no idea what it is or who it belongs to! \\n\\nI asked for proof of a signed contract, I asked for a license to collect in my state, I asked for copies of all information referenced for this debt and still to date, I have not received anything but harassment from this company! \\n\\nTHIS IS NOT MY DEBT! \\n                                                                                                                                                                                                                                                                                                                                                                                                                                                                                                                                                                                                                                                                                                                                                                                                                                                                                                                                                                                                                                                               26\n",
       "I have been a victim of Identity Theft. I have been trying to work with the Credit Reporting Agency but they are refusing to honor my valid identity theft case thus these incorrect/fraudulent items are still on my credit report and they must be removed immediately but they are do not belong to me. I have provided all of the proof to show that I was a victim of Identity Theft and that to the best of my knowledge these fraudulent accounts do not belong to me. Please take immediate action on my behalf so I can have these items removed, deleted and permanently blocked from my credit report, so that I can get back on track to a normal life. \\n\\nRegards \\n                                                                                                                                                                                                                                                                                                                                                                                                                                                                                                                                                                                                                                                                                                                                                                                                                                   19\n",
       "I have sent several requests to Experian requesting an investigation of my accounts. It has been months and I still have not received a response to my concerns. The only thing I have received is some automated rejection letter stating that they wo n't do anything to help me ( please see attached ). \\nThis has to be a violation of my rights. I feel like I 've already wasted so much time just trying to get Experian to look at the errors on my credit report and I 'm so frustrated that Experian is intentionally not responding to my inquiries. I need to have this issue resolved immediately. There are many things I need to do with my life and they all involve my credit. But I am not able to move forward all because of this credit bureau! \\n                                                                                                                                                                                                                                                                                                                                                                                                                                                                                                                                                                                                                                                                                                                                             18\n",
       "This company continues to report on my credit report after I sent them a letter telling them that this account was not mine and I have no idea what it is or who it belongs to! \\n\\nI asked for proof of a signed contract, I asked for a license to collect in my state, I asked for copies of all information referenced for this debt and still to date, I have not received anything but harassment from this company! \\n                                                                                                                                                                                                                                                                                                                                                                                                                                                                                                                                                                                                                                                                                                                                                                                                                                                                                                                                                                                                                                                                                        15\n",
       "                                                                                                                                                                                                                                                                                                                                                                                                                                                                                                                                                                                                                                                                                                                                                                                                                                                                                                                                                                                                                                                                                                                                                                                                                                                                                                                                                                                                                                                                                                                     ..\n",
       "best buy paid it off XXXX they was taking it out my check XXXX I have tn care plus i never went to the doctor in XXXX and the online school never receive material so I should n't be obligated to pay my phone XXXX XXXX XXXX \\n                                                                                                                                                                                                                                                                                                                                                                                                                                                                                                                                                                                                                                                                                                                                                                                                                                                                                                                                                                                                                                                                                                                                                                                                                                                                                     1\n",
       "Back in 2014 I had XXXX at XXXX XXXX and they improperly coded my procedure resulting in my insurance company at the time not paying the entire balance which I just found out about and have been charging me interest monthly after checking my credit report. I have attempted to contact the collection agency and have been told that they can not do anything about correcting the issue and I have no rights other than to pay the entire balance to them. \\n                                                                                                                                                                                                                                                                                                                                                                                                                                                                                                                                                                                                                                                                                                                                                                                                                                                                                                                                                                                                                                                  1\n",
       "Deposited money in bank and bank placed a 10 day hold because of numerous overdrafts. Other items came in and more additional fees were billed.                                                                                                                                                                                                                                                                                                                                                                                                                                                                                                                                                                                                                                                                                                                                                                                                                                                                                                                                                                                                                                                                                                                                                                                                                                                                                                                                                                       1\n",
       "This vehicle has been paid off. I have made several attempts to obtain my title for the vehicle over the last several months and have not received it. The status on my credit report does not reflect as agreed. Account was to reflect paid in full. This car was sold with a false odometer statement and I have put less than XXXX miles on the vehicle since purchased 5 years ago due to mechanical issues. I got behind on payments earlier this year due to me having to purchase a more reliable vehicle. Tried to make several attempts to lower my payments with wells fargo by possibly refinancing the vehicle. My credit score was great but they would not refi due to me informing them I do n't know the actual mileage on the vehicle because I found out when I tried to trade it in the XXXX showed the miles were rolled back. This loan has caused me to go through financial hardship and tarnished my credit. Wells Fargo was not help with coming up with a solution or making any type of agreement to make payments affordable. I offered several options and they declined them all. Once I received my tax refund this year I called to pay the car off in full. I was told by the rep she could save me some money by settling for half the balance which I paid. I now feel like I was scammed. I have not received my title, and my credit report reflects the incorrect status. I have a big piece of junk sitting in my driveway I can not get rid of because I lack the title.     1\n",
       "XXXX of 2015 Quicken Loans agreed to a short sale of my home located at XXXX XXXX XXXX, XXXX Mi. XXXX. As part of this agreement, Quicken Loans included in the contract that I would receive {$1000.00} if my home were to sell by XXXX XXXX, 2015. The sell of the home took place on XXXX XXXX, 2015. As of today I have not received one penny of the {$1000.00}, which is 5 months after the sell of the home. I spoke to XXXX XXXX at XXXX XXXX weeks ago and receive no resolution. \\nDealing with Quicken Loans has been one of the most frustrating and stressful experiences I 've ever had with a company. They talk about service and doing everything they can for their customers, but in the end they care nothing about customer service. If a company signs a contract, they should honor it. \\n                                                                                                                                                                                                                                                                                                                                                                                                                                                                                                                                                                                                                                                                                                     1\n",
       "Name: Consumer complaint narrative, Length: 74019, dtype: int64"
      ]
     },
     "execution_count": 19,
     "metadata": {},
     "output_type": "execute_result"
    }
   ],
   "source": [
    "cc_train['Consumer complaint narrative'].value_counts()"
   ]
  },
  {
   "cell_type": "code",
   "execution_count": 20,
   "metadata": {},
   "outputs": [
    {
     "data": {
      "text/plain": [
       "74019"
      ]
     },
     "execution_count": 20,
     "metadata": {},
     "output_type": "execute_result"
    }
   ],
   "source": [
    "len(cc_train['Consumer complaint narrative'].value_counts())"
   ]
  },
  {
   "cell_type": "code",
   "execution_count": 21,
   "metadata": {},
   "outputs": [
    {
     "data": {
      "text/plain": [
       "74020"
      ]
     },
     "execution_count": 21,
     "metadata": {},
     "output_type": "execute_result"
    }
   ],
   "source": [
    "len(cc_train['Consumer complaint narrative'].unique())"
   ]
  },
  {
   "cell_type": "code",
   "execution_count": 22,
   "metadata": {},
   "outputs": [
    {
     "data": {
      "text/plain": [
       "12"
      ]
     },
     "execution_count": 22,
     "metadata": {},
     "output_type": "execute_result"
    }
   ],
   "source": [
    "len(cc_train['Product'].unique())"
   ]
  },
  {
   "cell_type": "code",
   "execution_count": 23,
   "metadata": {},
   "outputs": [],
   "source": [
    "cc_train['data']='train'\n",
    "cc_test['data']='test'"
   ]
  },
  {
   "cell_type": "code",
   "execution_count": 24,
   "metadata": {},
   "outputs": [
    {
     "data": {
      "text/html": [
       "<div>\n",
       "<style scoped>\n",
       "    .dataframe tbody tr th:only-of-type {\n",
       "        vertical-align: middle;\n",
       "    }\n",
       "\n",
       "    .dataframe tbody tr th {\n",
       "        vertical-align: top;\n",
       "    }\n",
       "\n",
       "    .dataframe thead th {\n",
       "        text-align: right;\n",
       "    }\n",
       "</style>\n",
       "<table border=\"1\" class=\"dataframe\">\n",
       "  <thead>\n",
       "    <tr style=\"text-align: right;\">\n",
       "      <th></th>\n",
       "      <th>Date received</th>\n",
       "      <th>Product</th>\n",
       "      <th>Sub-product</th>\n",
       "      <th>Issue</th>\n",
       "      <th>Sub-issue</th>\n",
       "      <th>Consumer complaint narrative</th>\n",
       "      <th>Company public response</th>\n",
       "      <th>Company</th>\n",
       "      <th>State</th>\n",
       "      <th>ZIP code</th>\n",
       "      <th>Tags</th>\n",
       "      <th>Consumer consent provided?</th>\n",
       "      <th>Submitted via</th>\n",
       "      <th>Date sent to company</th>\n",
       "      <th>Company response to consumer</th>\n",
       "      <th>Timely response?</th>\n",
       "      <th>Consumer disputed?</th>\n",
       "      <th>Complaint ID</th>\n",
       "      <th>data</th>\n",
       "    </tr>\n",
       "  </thead>\n",
       "  <tbody>\n",
       "    <tr>\n",
       "      <th>0</th>\n",
       "      <td>2014-05-15</td>\n",
       "      <td>Credit card</td>\n",
       "      <td>NaN</td>\n",
       "      <td>Billing statement</td>\n",
       "      <td>NaN</td>\n",
       "      <td>NaN</td>\n",
       "      <td>NaN</td>\n",
       "      <td>Wells Fargo &amp; Company</td>\n",
       "      <td>MI</td>\n",
       "      <td>48342</td>\n",
       "      <td>Older American</td>\n",
       "      <td>NaN</td>\n",
       "      <td>Web</td>\n",
       "      <td>2014-05-16</td>\n",
       "      <td>Closed with explanation</td>\n",
       "      <td>Yes</td>\n",
       "      <td>No</td>\n",
       "      <td>856103</td>\n",
       "      <td>train</td>\n",
       "    </tr>\n",
       "    <tr>\n",
       "      <th>1</th>\n",
       "      <td>2014-09-18</td>\n",
       "      <td>Bank account or service</td>\n",
       "      <td>(CD) Certificate of deposit</td>\n",
       "      <td>Making/receiving payments, sending money</td>\n",
       "      <td>NaN</td>\n",
       "      <td>NaN</td>\n",
       "      <td>NaN</td>\n",
       "      <td>Santander Bank US</td>\n",
       "      <td>PA</td>\n",
       "      <td>18042</td>\n",
       "      <td>NaN</td>\n",
       "      <td>NaN</td>\n",
       "      <td>Referral</td>\n",
       "      <td>2014-09-24</td>\n",
       "      <td>Closed</td>\n",
       "      <td>Yes</td>\n",
       "      <td>No</td>\n",
       "      <td>1034666</td>\n",
       "      <td>train</td>\n",
       "    </tr>\n",
       "    <tr>\n",
       "      <th>2</th>\n",
       "      <td>2014-03-13</td>\n",
       "      <td>Credit reporting</td>\n",
       "      <td>NaN</td>\n",
       "      <td>Incorrect information on credit report</td>\n",
       "      <td>Account status</td>\n",
       "      <td>NaN</td>\n",
       "      <td>NaN</td>\n",
       "      <td>Equifax</td>\n",
       "      <td>CA</td>\n",
       "      <td>92427</td>\n",
       "      <td>NaN</td>\n",
       "      <td>NaN</td>\n",
       "      <td>Referral</td>\n",
       "      <td>2014-04-03</td>\n",
       "      <td>Closed with non-monetary relief</td>\n",
       "      <td>Yes</td>\n",
       "      <td>No</td>\n",
       "      <td>756363</td>\n",
       "      <td>train</td>\n",
       "    </tr>\n",
       "    <tr>\n",
       "      <th>3</th>\n",
       "      <td>2015-07-17</td>\n",
       "      <td>Credit card</td>\n",
       "      <td>NaN</td>\n",
       "      <td>Billing statement</td>\n",
       "      <td>NaN</td>\n",
       "      <td>My credit card statement from US Bank, XXXX. X...</td>\n",
       "      <td>Company chooses not to provide a public response</td>\n",
       "      <td>U.S. Bancorp</td>\n",
       "      <td>GA</td>\n",
       "      <td>305XX</td>\n",
       "      <td>Older American</td>\n",
       "      <td>Consent provided</td>\n",
       "      <td>Web</td>\n",
       "      <td>2015-07-17</td>\n",
       "      <td>Closed with monetary relief</td>\n",
       "      <td>Yes</td>\n",
       "      <td>No</td>\n",
       "      <td>1474177</td>\n",
       "      <td>train</td>\n",
       "    </tr>\n",
       "    <tr>\n",
       "      <th>4</th>\n",
       "      <td>2014-11-20</td>\n",
       "      <td>Credit card</td>\n",
       "      <td>NaN</td>\n",
       "      <td>Transaction issue</td>\n",
       "      <td>NaN</td>\n",
       "      <td>NaN</td>\n",
       "      <td>NaN</td>\n",
       "      <td>Bank of America</td>\n",
       "      <td>MA</td>\n",
       "      <td>02127</td>\n",
       "      <td>NaN</td>\n",
       "      <td>NaN</td>\n",
       "      <td>Web</td>\n",
       "      <td>2014-11-28</td>\n",
       "      <td>Closed with explanation</td>\n",
       "      <td>Yes</td>\n",
       "      <td>No</td>\n",
       "      <td>1132572</td>\n",
       "      <td>train</td>\n",
       "    </tr>\n",
       "  </tbody>\n",
       "</table>\n",
       "</div>"
      ],
      "text/plain": [
       "  Date received                  Product                  Sub-product  \\\n",
       "0    2014-05-15              Credit card                          NaN   \n",
       "1    2014-09-18  Bank account or service  (CD) Certificate of deposit   \n",
       "2    2014-03-13         Credit reporting                          NaN   \n",
       "3    2015-07-17              Credit card                          NaN   \n",
       "4    2014-11-20              Credit card                          NaN   \n",
       "\n",
       "                                      Issue       Sub-issue  \\\n",
       "0                         Billing statement             NaN   \n",
       "1  Making/receiving payments, sending money             NaN   \n",
       "2    Incorrect information on credit report  Account status   \n",
       "3                         Billing statement             NaN   \n",
       "4                         Transaction issue             NaN   \n",
       "\n",
       "                        Consumer complaint narrative  \\\n",
       "0                                                NaN   \n",
       "1                                                NaN   \n",
       "2                                                NaN   \n",
       "3  My credit card statement from US Bank, XXXX. X...   \n",
       "4                                                NaN   \n",
       "\n",
       "                            Company public response                Company  \\\n",
       "0                                               NaN  Wells Fargo & Company   \n",
       "1                                               NaN      Santander Bank US   \n",
       "2                                               NaN                Equifax   \n",
       "3  Company chooses not to provide a public response           U.S. Bancorp   \n",
       "4                                               NaN        Bank of America   \n",
       "\n",
       "  State ZIP code            Tags Consumer consent provided? Submitted via  \\\n",
       "0    MI    48342  Older American                        NaN           Web   \n",
       "1    PA    18042             NaN                        NaN      Referral   \n",
       "2    CA    92427             NaN                        NaN      Referral   \n",
       "3    GA    305XX  Older American           Consent provided           Web   \n",
       "4    MA    02127             NaN                        NaN           Web   \n",
       "\n",
       "  Date sent to company     Company response to consumer Timely response?  \\\n",
       "0           2014-05-16          Closed with explanation              Yes   \n",
       "1           2014-09-24                           Closed              Yes   \n",
       "2           2014-04-03  Closed with non-monetary relief              Yes   \n",
       "3           2015-07-17      Closed with monetary relief              Yes   \n",
       "4           2014-11-28          Closed with explanation              Yes   \n",
       "\n",
       "  Consumer disputed?  Complaint ID   data  \n",
       "0                 No        856103  train  \n",
       "1                 No       1034666  train  \n",
       "2                 No        756363  train  \n",
       "3                 No       1474177  train  \n",
       "4                 No       1132572  train  "
      ]
     },
     "execution_count": 24,
     "metadata": {},
     "output_type": "execute_result"
    }
   ],
   "source": [
    "cc_train.head()"
   ]
  },
  {
   "cell_type": "code",
   "execution_count": 25,
   "metadata": {},
   "outputs": [
    {
     "data": {
      "text/html": [
       "<div>\n",
       "<style scoped>\n",
       "    .dataframe tbody tr th:only-of-type {\n",
       "        vertical-align: middle;\n",
       "    }\n",
       "\n",
       "    .dataframe tbody tr th {\n",
       "        vertical-align: top;\n",
       "    }\n",
       "\n",
       "    .dataframe thead th {\n",
       "        text-align: right;\n",
       "    }\n",
       "</style>\n",
       "<table border=\"1\" class=\"dataframe\">\n",
       "  <thead>\n",
       "    <tr style=\"text-align: right;\">\n",
       "      <th></th>\n",
       "      <th>Date received</th>\n",
       "      <th>Product</th>\n",
       "      <th>Sub-product</th>\n",
       "      <th>Issue</th>\n",
       "      <th>Sub-issue</th>\n",
       "      <th>Consumer complaint narrative</th>\n",
       "      <th>Company public response</th>\n",
       "      <th>Company</th>\n",
       "      <th>State</th>\n",
       "      <th>ZIP code</th>\n",
       "      <th>Tags</th>\n",
       "      <th>Consumer consent provided?</th>\n",
       "      <th>Submitted via</th>\n",
       "      <th>Date sent to company</th>\n",
       "      <th>Company response to consumer</th>\n",
       "      <th>Timely response?</th>\n",
       "      <th>Complaint ID</th>\n",
       "      <th>Consumer disputed?</th>\n",
       "      <th>data</th>\n",
       "    </tr>\n",
       "  </thead>\n",
       "  <tbody>\n",
       "    <tr>\n",
       "      <th>0</th>\n",
       "      <td>2014-01-18</td>\n",
       "      <td>Bank account or service</td>\n",
       "      <td>Cashing a check without an account</td>\n",
       "      <td>Deposits and withdrawals</td>\n",
       "      <td>NaN</td>\n",
       "      <td>NaN</td>\n",
       "      <td>NaN</td>\n",
       "      <td>Bank of America</td>\n",
       "      <td>CA</td>\n",
       "      <td>95691</td>\n",
       "      <td>NaN</td>\n",
       "      <td>NaN</td>\n",
       "      <td>Web</td>\n",
       "      <td>2014-01-17</td>\n",
       "      <td>Closed with explanation</td>\n",
       "      <td>Yes</td>\n",
       "      <td>675956</td>\n",
       "      <td>NaN</td>\n",
       "      <td>test</td>\n",
       "    </tr>\n",
       "    <tr>\n",
       "      <th>1</th>\n",
       "      <td>2016-03-31</td>\n",
       "      <td>Debt collection</td>\n",
       "      <td>Credit card</td>\n",
       "      <td>Cont'd attempts collect debt not owed</td>\n",
       "      <td>Debt was paid</td>\n",
       "      <td>NaN</td>\n",
       "      <td>NaN</td>\n",
       "      <td>National Credit Adjusters, LLC</td>\n",
       "      <td>FL</td>\n",
       "      <td>32086</td>\n",
       "      <td>NaN</td>\n",
       "      <td>Consent not provided</td>\n",
       "      <td>Web</td>\n",
       "      <td>2016-03-31</td>\n",
       "      <td>Closed with explanation</td>\n",
       "      <td>Yes</td>\n",
       "      <td>1858795</td>\n",
       "      <td>NaN</td>\n",
       "      <td>test</td>\n",
       "    </tr>\n",
       "    <tr>\n",
       "      <th>2</th>\n",
       "      <td>2012-03-08</td>\n",
       "      <td>Mortgage</td>\n",
       "      <td>Conventional adjustable mortgage (ARM)</td>\n",
       "      <td>Loan servicing, payments, escrow account</td>\n",
       "      <td>NaN</td>\n",
       "      <td>NaN</td>\n",
       "      <td>NaN</td>\n",
       "      <td>Wells Fargo &amp; Company</td>\n",
       "      <td>CA</td>\n",
       "      <td>94618</td>\n",
       "      <td>NaN</td>\n",
       "      <td>NaN</td>\n",
       "      <td>Web</td>\n",
       "      <td>2012-03-09</td>\n",
       "      <td>Closed without relief</td>\n",
       "      <td>Yes</td>\n",
       "      <td>32637</td>\n",
       "      <td>NaN</td>\n",
       "      <td>test</td>\n",
       "    </tr>\n",
       "    <tr>\n",
       "      <th>3</th>\n",
       "      <td>2016-01-07</td>\n",
       "      <td>Credit reporting</td>\n",
       "      <td>NaN</td>\n",
       "      <td>Unable to get credit report/credit score</td>\n",
       "      <td>Problem getting report or credit score</td>\n",
       "      <td>NaN</td>\n",
       "      <td>Company chooses not to provide a public response</td>\n",
       "      <td>TransUnion Intermediate Holdings, Inc.</td>\n",
       "      <td>FL</td>\n",
       "      <td>33584</td>\n",
       "      <td>Older American</td>\n",
       "      <td>NaN</td>\n",
       "      <td>Postal mail</td>\n",
       "      <td>2016-01-12</td>\n",
       "      <td>Closed with non-monetary relief</td>\n",
       "      <td>Yes</td>\n",
       "      <td>1731374</td>\n",
       "      <td>NaN</td>\n",
       "      <td>test</td>\n",
       "    </tr>\n",
       "    <tr>\n",
       "      <th>4</th>\n",
       "      <td>2013-08-23</td>\n",
       "      <td>Mortgage</td>\n",
       "      <td>FHA mortgage</td>\n",
       "      <td>Loan modification,collection,foreclosure</td>\n",
       "      <td>NaN</td>\n",
       "      <td>NaN</td>\n",
       "      <td>NaN</td>\n",
       "      <td>Bank of America</td>\n",
       "      <td>FL</td>\n",
       "      <td>33543</td>\n",
       "      <td>NaN</td>\n",
       "      <td>NaN</td>\n",
       "      <td>Web</td>\n",
       "      <td>2013-08-23</td>\n",
       "      <td>Closed with explanation</td>\n",
       "      <td>Yes</td>\n",
       "      <td>501487</td>\n",
       "      <td>NaN</td>\n",
       "      <td>test</td>\n",
       "    </tr>\n",
       "  </tbody>\n",
       "</table>\n",
       "</div>"
      ],
      "text/plain": [
       "  Date received                  Product  \\\n",
       "0    2014-01-18  Bank account or service   \n",
       "1    2016-03-31          Debt collection   \n",
       "2    2012-03-08                 Mortgage   \n",
       "3    2016-01-07         Credit reporting   \n",
       "4    2013-08-23                 Mortgage   \n",
       "\n",
       "                              Sub-product  \\\n",
       "0      Cashing a check without an account   \n",
       "1                             Credit card   \n",
       "2  Conventional adjustable mortgage (ARM)   \n",
       "3                                     NaN   \n",
       "4                            FHA mortgage   \n",
       "\n",
       "                                      Issue  \\\n",
       "0                  Deposits and withdrawals   \n",
       "1     Cont'd attempts collect debt not owed   \n",
       "2  Loan servicing, payments, escrow account   \n",
       "3  Unable to get credit report/credit score   \n",
       "4  Loan modification,collection,foreclosure   \n",
       "\n",
       "                                Sub-issue Consumer complaint narrative  \\\n",
       "0                                     NaN                          NaN   \n",
       "1                           Debt was paid                          NaN   \n",
       "2                                     NaN                          NaN   \n",
       "3  Problem getting report or credit score                          NaN   \n",
       "4                                     NaN                          NaN   \n",
       "\n",
       "                            Company public response  \\\n",
       "0                                               NaN   \n",
       "1                                               NaN   \n",
       "2                                               NaN   \n",
       "3  Company chooses not to provide a public response   \n",
       "4                                               NaN   \n",
       "\n",
       "                                  Company State ZIP code            Tags  \\\n",
       "0                         Bank of America    CA    95691             NaN   \n",
       "1          National Credit Adjusters, LLC    FL    32086             NaN   \n",
       "2                   Wells Fargo & Company    CA    94618             NaN   \n",
       "3  TransUnion Intermediate Holdings, Inc.    FL    33584  Older American   \n",
       "4                         Bank of America    FL    33543             NaN   \n",
       "\n",
       "  Consumer consent provided? Submitted via Date sent to company  \\\n",
       "0                        NaN           Web           2014-01-17   \n",
       "1       Consent not provided           Web           2016-03-31   \n",
       "2                        NaN           Web           2012-03-09   \n",
       "3                        NaN   Postal mail           2016-01-12   \n",
       "4                        NaN           Web           2013-08-23   \n",
       "\n",
       "      Company response to consumer Timely response?  Complaint ID  \\\n",
       "0          Closed with explanation              Yes        675956   \n",
       "1          Closed with explanation              Yes       1858795   \n",
       "2            Closed without relief              Yes         32637   \n",
       "3  Closed with non-monetary relief              Yes       1731374   \n",
       "4          Closed with explanation              Yes        501487   \n",
       "\n",
       "   Consumer disputed?  data  \n",
       "0                 NaN  test  \n",
       "1                 NaN  test  \n",
       "2                 NaN  test  \n",
       "3                 NaN  test  \n",
       "4                 NaN  test  "
      ]
     },
     "execution_count": 25,
     "metadata": {},
     "output_type": "execute_result"
    }
   ],
   "source": [
    "cc_test.head()"
   ]
  },
  {
   "cell_type": "code",
   "execution_count": 26,
   "metadata": {},
   "outputs": [],
   "source": [
    "cc_all=pd.concat([cc_train,cc_test],axis=0)"
   ]
  },
  {
   "cell_type": "code",
   "execution_count": 27,
   "metadata": {},
   "outputs": [
    {
     "data": {
      "text/html": [
       "<div>\n",
       "<style scoped>\n",
       "    .dataframe tbody tr th:only-of-type {\n",
       "        vertical-align: middle;\n",
       "    }\n",
       "\n",
       "    .dataframe tbody tr th {\n",
       "        vertical-align: top;\n",
       "    }\n",
       "\n",
       "    .dataframe thead th {\n",
       "        text-align: right;\n",
       "    }\n",
       "</style>\n",
       "<table border=\"1\" class=\"dataframe\">\n",
       "  <thead>\n",
       "    <tr style=\"text-align: right;\">\n",
       "      <th></th>\n",
       "      <th>Date received</th>\n",
       "      <th>Product</th>\n",
       "      <th>Sub-product</th>\n",
       "      <th>Issue</th>\n",
       "      <th>Sub-issue</th>\n",
       "      <th>Consumer complaint narrative</th>\n",
       "      <th>Company public response</th>\n",
       "      <th>Company</th>\n",
       "      <th>State</th>\n",
       "      <th>ZIP code</th>\n",
       "      <th>Tags</th>\n",
       "      <th>Consumer consent provided?</th>\n",
       "      <th>Submitted via</th>\n",
       "      <th>Date sent to company</th>\n",
       "      <th>Company response to consumer</th>\n",
       "      <th>Timely response?</th>\n",
       "      <th>Consumer disputed?</th>\n",
       "      <th>Complaint ID</th>\n",
       "      <th>data</th>\n",
       "    </tr>\n",
       "  </thead>\n",
       "  <tbody>\n",
       "    <tr>\n",
       "      <th>0</th>\n",
       "      <td>2014-05-15</td>\n",
       "      <td>Credit card</td>\n",
       "      <td>NaN</td>\n",
       "      <td>Billing statement</td>\n",
       "      <td>NaN</td>\n",
       "      <td>NaN</td>\n",
       "      <td>NaN</td>\n",
       "      <td>Wells Fargo &amp; Company</td>\n",
       "      <td>MI</td>\n",
       "      <td>48342</td>\n",
       "      <td>Older American</td>\n",
       "      <td>NaN</td>\n",
       "      <td>Web</td>\n",
       "      <td>2014-05-16</td>\n",
       "      <td>Closed with explanation</td>\n",
       "      <td>Yes</td>\n",
       "      <td>No</td>\n",
       "      <td>856103</td>\n",
       "      <td>train</td>\n",
       "    </tr>\n",
       "    <tr>\n",
       "      <th>1</th>\n",
       "      <td>2014-09-18</td>\n",
       "      <td>Bank account or service</td>\n",
       "      <td>(CD) Certificate of deposit</td>\n",
       "      <td>Making/receiving payments, sending money</td>\n",
       "      <td>NaN</td>\n",
       "      <td>NaN</td>\n",
       "      <td>NaN</td>\n",
       "      <td>Santander Bank US</td>\n",
       "      <td>PA</td>\n",
       "      <td>18042</td>\n",
       "      <td>NaN</td>\n",
       "      <td>NaN</td>\n",
       "      <td>Referral</td>\n",
       "      <td>2014-09-24</td>\n",
       "      <td>Closed</td>\n",
       "      <td>Yes</td>\n",
       "      <td>No</td>\n",
       "      <td>1034666</td>\n",
       "      <td>train</td>\n",
       "    </tr>\n",
       "    <tr>\n",
       "      <th>2</th>\n",
       "      <td>2014-03-13</td>\n",
       "      <td>Credit reporting</td>\n",
       "      <td>NaN</td>\n",
       "      <td>Incorrect information on credit report</td>\n",
       "      <td>Account status</td>\n",
       "      <td>NaN</td>\n",
       "      <td>NaN</td>\n",
       "      <td>Equifax</td>\n",
       "      <td>CA</td>\n",
       "      <td>92427</td>\n",
       "      <td>NaN</td>\n",
       "      <td>NaN</td>\n",
       "      <td>Referral</td>\n",
       "      <td>2014-04-03</td>\n",
       "      <td>Closed with non-monetary relief</td>\n",
       "      <td>Yes</td>\n",
       "      <td>No</td>\n",
       "      <td>756363</td>\n",
       "      <td>train</td>\n",
       "    </tr>\n",
       "    <tr>\n",
       "      <th>3</th>\n",
       "      <td>2015-07-17</td>\n",
       "      <td>Credit card</td>\n",
       "      <td>NaN</td>\n",
       "      <td>Billing statement</td>\n",
       "      <td>NaN</td>\n",
       "      <td>My credit card statement from US Bank, XXXX. X...</td>\n",
       "      <td>Company chooses not to provide a public response</td>\n",
       "      <td>U.S. Bancorp</td>\n",
       "      <td>GA</td>\n",
       "      <td>305XX</td>\n",
       "      <td>Older American</td>\n",
       "      <td>Consent provided</td>\n",
       "      <td>Web</td>\n",
       "      <td>2015-07-17</td>\n",
       "      <td>Closed with monetary relief</td>\n",
       "      <td>Yes</td>\n",
       "      <td>No</td>\n",
       "      <td>1474177</td>\n",
       "      <td>train</td>\n",
       "    </tr>\n",
       "    <tr>\n",
       "      <th>4</th>\n",
       "      <td>2014-11-20</td>\n",
       "      <td>Credit card</td>\n",
       "      <td>NaN</td>\n",
       "      <td>Transaction issue</td>\n",
       "      <td>NaN</td>\n",
       "      <td>NaN</td>\n",
       "      <td>NaN</td>\n",
       "      <td>Bank of America</td>\n",
       "      <td>MA</td>\n",
       "      <td>02127</td>\n",
       "      <td>NaN</td>\n",
       "      <td>NaN</td>\n",
       "      <td>Web</td>\n",
       "      <td>2014-11-28</td>\n",
       "      <td>Closed with explanation</td>\n",
       "      <td>Yes</td>\n",
       "      <td>No</td>\n",
       "      <td>1132572</td>\n",
       "      <td>train</td>\n",
       "    </tr>\n",
       "  </tbody>\n",
       "</table>\n",
       "</div>"
      ],
      "text/plain": [
       "  Date received                  Product                  Sub-product  \\\n",
       "0    2014-05-15              Credit card                          NaN   \n",
       "1    2014-09-18  Bank account or service  (CD) Certificate of deposit   \n",
       "2    2014-03-13         Credit reporting                          NaN   \n",
       "3    2015-07-17              Credit card                          NaN   \n",
       "4    2014-11-20              Credit card                          NaN   \n",
       "\n",
       "                                      Issue       Sub-issue  \\\n",
       "0                         Billing statement             NaN   \n",
       "1  Making/receiving payments, sending money             NaN   \n",
       "2    Incorrect information on credit report  Account status   \n",
       "3                         Billing statement             NaN   \n",
       "4                         Transaction issue             NaN   \n",
       "\n",
       "                        Consumer complaint narrative  \\\n",
       "0                                                NaN   \n",
       "1                                                NaN   \n",
       "2                                                NaN   \n",
       "3  My credit card statement from US Bank, XXXX. X...   \n",
       "4                                                NaN   \n",
       "\n",
       "                            Company public response                Company  \\\n",
       "0                                               NaN  Wells Fargo & Company   \n",
       "1                                               NaN      Santander Bank US   \n",
       "2                                               NaN                Equifax   \n",
       "3  Company chooses not to provide a public response           U.S. Bancorp   \n",
       "4                                               NaN        Bank of America   \n",
       "\n",
       "  State ZIP code            Tags Consumer consent provided? Submitted via  \\\n",
       "0    MI    48342  Older American                        NaN           Web   \n",
       "1    PA    18042             NaN                        NaN      Referral   \n",
       "2    CA    92427             NaN                        NaN      Referral   \n",
       "3    GA    305XX  Older American           Consent provided           Web   \n",
       "4    MA    02127             NaN                        NaN           Web   \n",
       "\n",
       "  Date sent to company     Company response to consumer Timely response?  \\\n",
       "0           2014-05-16          Closed with explanation              Yes   \n",
       "1           2014-09-24                           Closed              Yes   \n",
       "2           2014-04-03  Closed with non-monetary relief              Yes   \n",
       "3           2015-07-17      Closed with monetary relief              Yes   \n",
       "4           2014-11-28          Closed with explanation              Yes   \n",
       "\n",
       "  Consumer disputed?  Complaint ID   data  \n",
       "0                 No        856103  train  \n",
       "1                 No       1034666  train  \n",
       "2                 No        756363  train  \n",
       "3                 No       1474177  train  \n",
       "4                 No       1132572  train  "
      ]
     },
     "execution_count": 27,
     "metadata": {},
     "output_type": "execute_result"
    }
   ],
   "source": [
    "cc_all.head()"
   ]
  },
  {
   "cell_type": "code",
   "execution_count": 28,
   "metadata": {},
   "outputs": [
    {
     "data": {
      "text/plain": [
       "(598027, 19)"
      ]
     },
     "execution_count": 28,
     "metadata": {},
     "output_type": "execute_result"
    }
   ],
   "source": [
    "cc_all.shape"
   ]
  },
  {
   "cell_type": "code",
   "execution_count": 29,
   "metadata": {},
   "outputs": [
    {
     "data": {
      "text/plain": [
       "Index(['Date received', 'Product', 'Sub-product', 'Issue', 'Sub-issue',\n",
       "       'Consumer complaint narrative', 'Company public response', 'Company',\n",
       "       'State', 'ZIP code', 'Tags', 'Consumer consent provided?',\n",
       "       'Submitted via', 'Date sent to company', 'Company response to consumer',\n",
       "       'Timely response?', 'Consumer disputed?', 'Complaint ID', 'data'],\n",
       "      dtype='object')"
      ]
     },
     "execution_count": 29,
     "metadata": {},
     "output_type": "execute_result"
    }
   ],
   "source": [
    "cc_all.columns"
   ]
  },
  {
   "cell_type": "code",
   "execution_count": 30,
   "metadata": {},
   "outputs": [
    {
     "data": {
      "text/plain": [
       "Index(['Date received', 'Product', 'Sub-product', 'Issue', 'Sub-issue',\n",
       "       'Consumer complaint narrative', 'Company public response', 'Company',\n",
       "       'State', 'ZIP code', 'Tags', 'Consumer consent provided?',\n",
       "       'Submitted via', 'Date sent to company', 'Company response to consumer',\n",
       "       'Timely response?', 'Consumer disputed?', 'Complaint ID', 'data'],\n",
       "      dtype='object')"
      ]
     },
     "execution_count": 30,
     "metadata": {},
     "output_type": "execute_result"
    }
   ],
   "source": [
    "cc_train.columns"
   ]
  },
  {
   "cell_type": "code",
   "execution_count": 31,
   "metadata": {},
   "outputs": [
    {
     "data": {
      "text/plain": [
       "Index(['Date received', 'Product', 'Sub-product', 'Issue', 'Sub-issue',\n",
       "       'Consumer complaint narrative', 'Company public response', 'Company',\n",
       "       'State', 'ZIP code', 'Tags', 'Consumer consent provided?',\n",
       "       'Submitted via', 'Date sent to company', 'Company response to consumer',\n",
       "       'Timely response?', 'Complaint ID', 'Consumer disputed?', 'data'],\n",
       "      dtype='object')"
      ]
     },
     "execution_count": 31,
     "metadata": {},
     "output_type": "execute_result"
    }
   ],
   "source": [
    "cc_test.columns"
   ]
  },
  {
   "cell_type": "code",
   "execution_count": 32,
   "metadata": {},
   "outputs": [
    {
     "data": {
      "text/plain": [
       "(119606, 19)"
      ]
     },
     "execution_count": 32,
     "metadata": {},
     "output_type": "execute_result"
    }
   ],
   "source": [
    "cc_test.shape"
   ]
  },
  {
   "cell_type": "code",
   "execution_count": 33,
   "metadata": {},
   "outputs": [
    {
     "data": {
      "text/plain": [
       "(478421, 19)"
      ]
     },
     "execution_count": 33,
     "metadata": {},
     "output_type": "execute_result"
    }
   ],
   "source": [
    "cc_train.shape"
   ]
  },
  {
   "cell_type": "code",
   "execution_count": 34,
   "metadata": {},
   "outputs": [
    {
     "name": "stdout",
     "output_type": "stream",
     "text": [
      "<class 'pandas.core.frame.DataFrame'>\n",
      "Int64Index: 598027 entries, 0 to 119605\n",
      "Data columns (total 19 columns):\n",
      " #   Column                        Non-Null Count   Dtype \n",
      "---  ------                        --------------   ----- \n",
      " 0   Date received                 598027 non-null  object\n",
      " 1   Product                       598027 non-null  object\n",
      " 2   Sub-product                   424802 non-null  object\n",
      " 3   Issue                         598027 non-null  object\n",
      " 4   Sub-issue                     232342 non-null  object\n",
      " 5   Consumer complaint narrative  93651 non-null   object\n",
      " 6   Company public response       113168 non-null  object\n",
      " 7   Company                       598027 non-null  object\n",
      " 8   State                         593263 non-null  object\n",
      " 9   ZIP code                      593253 non-null  object\n",
      " 10  Tags                          84077 non-null   object\n",
      " 11  Consumer consent provided?    169351 non-null  object\n",
      " 12  Submitted via                 598026 non-null  object\n",
      " 13  Date sent to company          598027 non-null  object\n",
      " 14  Company response to consumer  598027 non-null  object\n",
      " 15  Timely response?              598027 non-null  object\n",
      " 16  Consumer disputed?            478421 non-null  object\n",
      " 17  Complaint ID                  598027 non-null  int64 \n",
      " 18  data                          598027 non-null  object\n",
      "dtypes: int64(1), object(18)\n",
      "memory usage: 91.3+ MB\n"
     ]
    }
   ],
   "source": [
    "cc_all.info()"
   ]
  },
  {
   "cell_type": "code",
   "execution_count": 35,
   "metadata": {},
   "outputs": [],
   "source": [
    "for col in ['Date sent to company','Date received']:\n",
    "    cc_all[col]=pd.to_datetime(cc_all[col],infer_datetime_format=True)"
   ]
  },
  {
   "cell_type": "code",
   "execution_count": 36,
   "metadata": {},
   "outputs": [
    {
     "data": {
      "text/html": [
       "<div>\n",
       "<style scoped>\n",
       "    .dataframe tbody tr th:only-of-type {\n",
       "        vertical-align: middle;\n",
       "    }\n",
       "\n",
       "    .dataframe tbody tr th {\n",
       "        vertical-align: top;\n",
       "    }\n",
       "\n",
       "    .dataframe thead th {\n",
       "        text-align: right;\n",
       "    }\n",
       "</style>\n",
       "<table border=\"1\" class=\"dataframe\">\n",
       "  <thead>\n",
       "    <tr style=\"text-align: right;\">\n",
       "      <th></th>\n",
       "      <th>Date received</th>\n",
       "      <th>Product</th>\n",
       "      <th>Sub-product</th>\n",
       "      <th>Issue</th>\n",
       "      <th>Sub-issue</th>\n",
       "      <th>Consumer complaint narrative</th>\n",
       "      <th>Company public response</th>\n",
       "      <th>Company</th>\n",
       "      <th>State</th>\n",
       "      <th>ZIP code</th>\n",
       "      <th>Tags</th>\n",
       "      <th>Consumer consent provided?</th>\n",
       "      <th>Submitted via</th>\n",
       "      <th>Date sent to company</th>\n",
       "      <th>Company response to consumer</th>\n",
       "      <th>Timely response?</th>\n",
       "      <th>Consumer disputed?</th>\n",
       "      <th>Complaint ID</th>\n",
       "      <th>data</th>\n",
       "    </tr>\n",
       "  </thead>\n",
       "  <tbody>\n",
       "    <tr>\n",
       "      <th>0</th>\n",
       "      <td>2014-05-15</td>\n",
       "      <td>Credit card</td>\n",
       "      <td>NaN</td>\n",
       "      <td>Billing statement</td>\n",
       "      <td>NaN</td>\n",
       "      <td>NaN</td>\n",
       "      <td>NaN</td>\n",
       "      <td>Wells Fargo &amp; Company</td>\n",
       "      <td>MI</td>\n",
       "      <td>48342</td>\n",
       "      <td>Older American</td>\n",
       "      <td>NaN</td>\n",
       "      <td>Web</td>\n",
       "      <td>2014-05-16</td>\n",
       "      <td>Closed with explanation</td>\n",
       "      <td>Yes</td>\n",
       "      <td>No</td>\n",
       "      <td>856103</td>\n",
       "      <td>train</td>\n",
       "    </tr>\n",
       "    <tr>\n",
       "      <th>1</th>\n",
       "      <td>2014-09-18</td>\n",
       "      <td>Bank account or service</td>\n",
       "      <td>(CD) Certificate of deposit</td>\n",
       "      <td>Making/receiving payments, sending money</td>\n",
       "      <td>NaN</td>\n",
       "      <td>NaN</td>\n",
       "      <td>NaN</td>\n",
       "      <td>Santander Bank US</td>\n",
       "      <td>PA</td>\n",
       "      <td>18042</td>\n",
       "      <td>NaN</td>\n",
       "      <td>NaN</td>\n",
       "      <td>Referral</td>\n",
       "      <td>2014-09-24</td>\n",
       "      <td>Closed</td>\n",
       "      <td>Yes</td>\n",
       "      <td>No</td>\n",
       "      <td>1034666</td>\n",
       "      <td>train</td>\n",
       "    </tr>\n",
       "    <tr>\n",
       "      <th>2</th>\n",
       "      <td>2014-03-13</td>\n",
       "      <td>Credit reporting</td>\n",
       "      <td>NaN</td>\n",
       "      <td>Incorrect information on credit report</td>\n",
       "      <td>Account status</td>\n",
       "      <td>NaN</td>\n",
       "      <td>NaN</td>\n",
       "      <td>Equifax</td>\n",
       "      <td>CA</td>\n",
       "      <td>92427</td>\n",
       "      <td>NaN</td>\n",
       "      <td>NaN</td>\n",
       "      <td>Referral</td>\n",
       "      <td>2014-04-03</td>\n",
       "      <td>Closed with non-monetary relief</td>\n",
       "      <td>Yes</td>\n",
       "      <td>No</td>\n",
       "      <td>756363</td>\n",
       "      <td>train</td>\n",
       "    </tr>\n",
       "    <tr>\n",
       "      <th>3</th>\n",
       "      <td>2015-07-17</td>\n",
       "      <td>Credit card</td>\n",
       "      <td>NaN</td>\n",
       "      <td>Billing statement</td>\n",
       "      <td>NaN</td>\n",
       "      <td>My credit card statement from US Bank, XXXX. X...</td>\n",
       "      <td>Company chooses not to provide a public response</td>\n",
       "      <td>U.S. Bancorp</td>\n",
       "      <td>GA</td>\n",
       "      <td>305XX</td>\n",
       "      <td>Older American</td>\n",
       "      <td>Consent provided</td>\n",
       "      <td>Web</td>\n",
       "      <td>2015-07-17</td>\n",
       "      <td>Closed with monetary relief</td>\n",
       "      <td>Yes</td>\n",
       "      <td>No</td>\n",
       "      <td>1474177</td>\n",
       "      <td>train</td>\n",
       "    </tr>\n",
       "    <tr>\n",
       "      <th>4</th>\n",
       "      <td>2014-11-20</td>\n",
       "      <td>Credit card</td>\n",
       "      <td>NaN</td>\n",
       "      <td>Transaction issue</td>\n",
       "      <td>NaN</td>\n",
       "      <td>NaN</td>\n",
       "      <td>NaN</td>\n",
       "      <td>Bank of America</td>\n",
       "      <td>MA</td>\n",
       "      <td>02127</td>\n",
       "      <td>NaN</td>\n",
       "      <td>NaN</td>\n",
       "      <td>Web</td>\n",
       "      <td>2014-11-28</td>\n",
       "      <td>Closed with explanation</td>\n",
       "      <td>Yes</td>\n",
       "      <td>No</td>\n",
       "      <td>1132572</td>\n",
       "      <td>train</td>\n",
       "    </tr>\n",
       "  </tbody>\n",
       "</table>\n",
       "</div>"
      ],
      "text/plain": [
       "  Date received                  Product                  Sub-product  \\\n",
       "0    2014-05-15              Credit card                          NaN   \n",
       "1    2014-09-18  Bank account or service  (CD) Certificate of deposit   \n",
       "2    2014-03-13         Credit reporting                          NaN   \n",
       "3    2015-07-17              Credit card                          NaN   \n",
       "4    2014-11-20              Credit card                          NaN   \n",
       "\n",
       "                                      Issue       Sub-issue  \\\n",
       "0                         Billing statement             NaN   \n",
       "1  Making/receiving payments, sending money             NaN   \n",
       "2    Incorrect information on credit report  Account status   \n",
       "3                         Billing statement             NaN   \n",
       "4                         Transaction issue             NaN   \n",
       "\n",
       "                        Consumer complaint narrative  \\\n",
       "0                                                NaN   \n",
       "1                                                NaN   \n",
       "2                                                NaN   \n",
       "3  My credit card statement from US Bank, XXXX. X...   \n",
       "4                                                NaN   \n",
       "\n",
       "                            Company public response                Company  \\\n",
       "0                                               NaN  Wells Fargo & Company   \n",
       "1                                               NaN      Santander Bank US   \n",
       "2                                               NaN                Equifax   \n",
       "3  Company chooses not to provide a public response           U.S. Bancorp   \n",
       "4                                               NaN        Bank of America   \n",
       "\n",
       "  State ZIP code            Tags Consumer consent provided? Submitted via  \\\n",
       "0    MI    48342  Older American                        NaN           Web   \n",
       "1    PA    18042             NaN                        NaN      Referral   \n",
       "2    CA    92427             NaN                        NaN      Referral   \n",
       "3    GA    305XX  Older American           Consent provided           Web   \n",
       "4    MA    02127             NaN                        NaN           Web   \n",
       "\n",
       "  Date sent to company     Company response to consumer Timely response?  \\\n",
       "0           2014-05-16          Closed with explanation              Yes   \n",
       "1           2014-09-24                           Closed              Yes   \n",
       "2           2014-04-03  Closed with non-monetary relief              Yes   \n",
       "3           2015-07-17      Closed with monetary relief              Yes   \n",
       "4           2014-11-28          Closed with explanation              Yes   \n",
       "\n",
       "  Consumer disputed?  Complaint ID   data  \n",
       "0                 No        856103  train  \n",
       "1                 No       1034666  train  \n",
       "2                 No        756363  train  \n",
       "3                 No       1474177  train  \n",
       "4                 No       1132572  train  "
      ]
     },
     "execution_count": 36,
     "metadata": {},
     "output_type": "execute_result"
    }
   ],
   "source": [
    "cc_all.head()"
   ]
  },
  {
   "cell_type": "code",
   "execution_count": 37,
   "metadata": {},
   "outputs": [
    {
     "data": {
      "text/plain": [
       "Date received                        0\n",
       "Product                              0\n",
       "Sub-product                     173225\n",
       "Issue                                0\n",
       "Sub-issue                       365685\n",
       "Consumer complaint narrative    504376\n",
       "Company public response         484859\n",
       "Company                              0\n",
       "State                             4764\n",
       "ZIP code                          4774\n",
       "Tags                            513950\n",
       "Consumer consent provided?      428676\n",
       "Submitted via                        1\n",
       "Date sent to company                 0\n",
       "Company response to consumer         0\n",
       "Timely response?                     0\n",
       "Consumer disputed?              119606\n",
       "Complaint ID                         0\n",
       "data                                 0\n",
       "dtype: int64"
      ]
     },
     "execution_count": 37,
     "metadata": {},
     "output_type": "execute_result"
    }
   ],
   "source": [
    "cc_all.isnull().sum()"
   ]
  },
  {
   "cell_type": "code",
   "execution_count": 38,
   "metadata": {},
   "outputs": [],
   "source": [
    "cc_all['Date_diff']=pd.to_numeric(cc_all['Date received']-cc_all['Date sent to company'])"
   ]
  },
  {
   "cell_type": "code",
   "execution_count": 39,
   "metadata": {},
   "outputs": [
    {
     "data": {
      "text/plain": [
       "0          -86400000000000\n",
       "1         -518400000000000\n",
       "2        -1814400000000000\n",
       "3                        0\n",
       "4         -691200000000000\n",
       "                ...       \n",
       "119601    -518400000000000\n",
       "119602                   0\n",
       "119603    -259200000000000\n",
       "119604     -86400000000000\n",
       "119605                   0\n",
       "Name: Date_diff, Length: 598027, dtype: int64"
      ]
     },
     "execution_count": 39,
     "metadata": {},
     "output_type": "execute_result"
    }
   ],
   "source": [
    "cc_all['Date_diff']"
   ]
  },
  {
   "cell_type": "code",
   "execution_count": 40,
   "metadata": {},
   "outputs": [
    {
     "data": {
      "text/html": [
       "<div>\n",
       "<style scoped>\n",
       "    .dataframe tbody tr th:only-of-type {\n",
       "        vertical-align: middle;\n",
       "    }\n",
       "\n",
       "    .dataframe tbody tr th {\n",
       "        vertical-align: top;\n",
       "    }\n",
       "\n",
       "    .dataframe thead th {\n",
       "        text-align: right;\n",
       "    }\n",
       "</style>\n",
       "<table border=\"1\" class=\"dataframe\">\n",
       "  <thead>\n",
       "    <tr style=\"text-align: right;\">\n",
       "      <th></th>\n",
       "      <th>Date received</th>\n",
       "      <th>Product</th>\n",
       "      <th>Sub-product</th>\n",
       "      <th>Issue</th>\n",
       "      <th>Sub-issue</th>\n",
       "      <th>Consumer complaint narrative</th>\n",
       "      <th>Company public response</th>\n",
       "      <th>Company</th>\n",
       "      <th>State</th>\n",
       "      <th>ZIP code</th>\n",
       "      <th>Tags</th>\n",
       "      <th>Consumer consent provided?</th>\n",
       "      <th>Submitted via</th>\n",
       "      <th>Date sent to company</th>\n",
       "      <th>Company response to consumer</th>\n",
       "      <th>Timely response?</th>\n",
       "      <th>Consumer disputed?</th>\n",
       "      <th>Complaint ID</th>\n",
       "      <th>data</th>\n",
       "      <th>Date_diff</th>\n",
       "    </tr>\n",
       "  </thead>\n",
       "  <tbody>\n",
       "    <tr>\n",
       "      <th>0</th>\n",
       "      <td>2014-05-15</td>\n",
       "      <td>Credit card</td>\n",
       "      <td>NaN</td>\n",
       "      <td>Billing statement</td>\n",
       "      <td>NaN</td>\n",
       "      <td>NaN</td>\n",
       "      <td>NaN</td>\n",
       "      <td>Wells Fargo &amp; Company</td>\n",
       "      <td>MI</td>\n",
       "      <td>48342</td>\n",
       "      <td>Older American</td>\n",
       "      <td>NaN</td>\n",
       "      <td>Web</td>\n",
       "      <td>2014-05-16</td>\n",
       "      <td>Closed with explanation</td>\n",
       "      <td>Yes</td>\n",
       "      <td>No</td>\n",
       "      <td>856103</td>\n",
       "      <td>train</td>\n",
       "      <td>-86400000000000</td>\n",
       "    </tr>\n",
       "    <tr>\n",
       "      <th>1</th>\n",
       "      <td>2014-09-18</td>\n",
       "      <td>Bank account or service</td>\n",
       "      <td>(CD) Certificate of deposit</td>\n",
       "      <td>Making/receiving payments, sending money</td>\n",
       "      <td>NaN</td>\n",
       "      <td>NaN</td>\n",
       "      <td>NaN</td>\n",
       "      <td>Santander Bank US</td>\n",
       "      <td>PA</td>\n",
       "      <td>18042</td>\n",
       "      <td>NaN</td>\n",
       "      <td>NaN</td>\n",
       "      <td>Referral</td>\n",
       "      <td>2014-09-24</td>\n",
       "      <td>Closed</td>\n",
       "      <td>Yes</td>\n",
       "      <td>No</td>\n",
       "      <td>1034666</td>\n",
       "      <td>train</td>\n",
       "      <td>-518400000000000</td>\n",
       "    </tr>\n",
       "    <tr>\n",
       "      <th>2</th>\n",
       "      <td>2014-03-13</td>\n",
       "      <td>Credit reporting</td>\n",
       "      <td>NaN</td>\n",
       "      <td>Incorrect information on credit report</td>\n",
       "      <td>Account status</td>\n",
       "      <td>NaN</td>\n",
       "      <td>NaN</td>\n",
       "      <td>Equifax</td>\n",
       "      <td>CA</td>\n",
       "      <td>92427</td>\n",
       "      <td>NaN</td>\n",
       "      <td>NaN</td>\n",
       "      <td>Referral</td>\n",
       "      <td>2014-04-03</td>\n",
       "      <td>Closed with non-monetary relief</td>\n",
       "      <td>Yes</td>\n",
       "      <td>No</td>\n",
       "      <td>756363</td>\n",
       "      <td>train</td>\n",
       "      <td>-1814400000000000</td>\n",
       "    </tr>\n",
       "    <tr>\n",
       "      <th>3</th>\n",
       "      <td>2015-07-17</td>\n",
       "      <td>Credit card</td>\n",
       "      <td>NaN</td>\n",
       "      <td>Billing statement</td>\n",
       "      <td>NaN</td>\n",
       "      <td>My credit card statement from US Bank, XXXX. X...</td>\n",
       "      <td>Company chooses not to provide a public response</td>\n",
       "      <td>U.S. Bancorp</td>\n",
       "      <td>GA</td>\n",
       "      <td>305XX</td>\n",
       "      <td>Older American</td>\n",
       "      <td>Consent provided</td>\n",
       "      <td>Web</td>\n",
       "      <td>2015-07-17</td>\n",
       "      <td>Closed with monetary relief</td>\n",
       "      <td>Yes</td>\n",
       "      <td>No</td>\n",
       "      <td>1474177</td>\n",
       "      <td>train</td>\n",
       "      <td>0</td>\n",
       "    </tr>\n",
       "    <tr>\n",
       "      <th>4</th>\n",
       "      <td>2014-11-20</td>\n",
       "      <td>Credit card</td>\n",
       "      <td>NaN</td>\n",
       "      <td>Transaction issue</td>\n",
       "      <td>NaN</td>\n",
       "      <td>NaN</td>\n",
       "      <td>NaN</td>\n",
       "      <td>Bank of America</td>\n",
       "      <td>MA</td>\n",
       "      <td>02127</td>\n",
       "      <td>NaN</td>\n",
       "      <td>NaN</td>\n",
       "      <td>Web</td>\n",
       "      <td>2014-11-28</td>\n",
       "      <td>Closed with explanation</td>\n",
       "      <td>Yes</td>\n",
       "      <td>No</td>\n",
       "      <td>1132572</td>\n",
       "      <td>train</td>\n",
       "      <td>-691200000000000</td>\n",
       "    </tr>\n",
       "  </tbody>\n",
       "</table>\n",
       "</div>"
      ],
      "text/plain": [
       "  Date received                  Product                  Sub-product  \\\n",
       "0    2014-05-15              Credit card                          NaN   \n",
       "1    2014-09-18  Bank account or service  (CD) Certificate of deposit   \n",
       "2    2014-03-13         Credit reporting                          NaN   \n",
       "3    2015-07-17              Credit card                          NaN   \n",
       "4    2014-11-20              Credit card                          NaN   \n",
       "\n",
       "                                      Issue       Sub-issue  \\\n",
       "0                         Billing statement             NaN   \n",
       "1  Making/receiving payments, sending money             NaN   \n",
       "2    Incorrect information on credit report  Account status   \n",
       "3                         Billing statement             NaN   \n",
       "4                         Transaction issue             NaN   \n",
       "\n",
       "                        Consumer complaint narrative  \\\n",
       "0                                                NaN   \n",
       "1                                                NaN   \n",
       "2                                                NaN   \n",
       "3  My credit card statement from US Bank, XXXX. X...   \n",
       "4                                                NaN   \n",
       "\n",
       "                            Company public response                Company  \\\n",
       "0                                               NaN  Wells Fargo & Company   \n",
       "1                                               NaN      Santander Bank US   \n",
       "2                                               NaN                Equifax   \n",
       "3  Company chooses not to provide a public response           U.S. Bancorp   \n",
       "4                                               NaN        Bank of America   \n",
       "\n",
       "  State ZIP code            Tags Consumer consent provided? Submitted via  \\\n",
       "0    MI    48342  Older American                        NaN           Web   \n",
       "1    PA    18042             NaN                        NaN      Referral   \n",
       "2    CA    92427             NaN                        NaN      Referral   \n",
       "3    GA    305XX  Older American           Consent provided           Web   \n",
       "4    MA    02127             NaN                        NaN           Web   \n",
       "\n",
       "  Date sent to company     Company response to consumer Timely response?  \\\n",
       "0           2014-05-16          Closed with explanation              Yes   \n",
       "1           2014-09-24                           Closed              Yes   \n",
       "2           2014-04-03  Closed with non-monetary relief              Yes   \n",
       "3           2015-07-17      Closed with monetary relief              Yes   \n",
       "4           2014-11-28          Closed with explanation              Yes   \n",
       "\n",
       "  Consumer disputed?  Complaint ID   data         Date_diff  \n",
       "0                 No        856103  train   -86400000000000  \n",
       "1                 No       1034666  train  -518400000000000  \n",
       "2                 No        756363  train -1814400000000000  \n",
       "3                 No       1474177  train                 0  \n",
       "4                 No       1132572  train  -691200000000000  "
      ]
     },
     "execution_count": 40,
     "metadata": {},
     "output_type": "execute_result"
    }
   ],
   "source": [
    "cc_all.head()"
   ]
  },
  {
   "cell_type": "code",
   "execution_count": 41,
   "metadata": {},
   "outputs": [],
   "source": [
    "for col in ['Date sent to company','Date received']:\n",
    "    cc_all.drop([col],axis=1,inplace=True)"
   ]
  },
  {
   "cell_type": "code",
   "execution_count": 42,
   "metadata": {},
   "outputs": [
    {
     "data": {
      "text/html": [
       "<div>\n",
       "<style scoped>\n",
       "    .dataframe tbody tr th:only-of-type {\n",
       "        vertical-align: middle;\n",
       "    }\n",
       "\n",
       "    .dataframe tbody tr th {\n",
       "        vertical-align: top;\n",
       "    }\n",
       "\n",
       "    .dataframe thead th {\n",
       "        text-align: right;\n",
       "    }\n",
       "</style>\n",
       "<table border=\"1\" class=\"dataframe\">\n",
       "  <thead>\n",
       "    <tr style=\"text-align: right;\">\n",
       "      <th></th>\n",
       "      <th>Product</th>\n",
       "      <th>Sub-product</th>\n",
       "      <th>Issue</th>\n",
       "      <th>Sub-issue</th>\n",
       "      <th>Consumer complaint narrative</th>\n",
       "      <th>Company public response</th>\n",
       "      <th>Company</th>\n",
       "      <th>State</th>\n",
       "      <th>ZIP code</th>\n",
       "      <th>Tags</th>\n",
       "      <th>Consumer consent provided?</th>\n",
       "      <th>Submitted via</th>\n",
       "      <th>Company response to consumer</th>\n",
       "      <th>Timely response?</th>\n",
       "      <th>Consumer disputed?</th>\n",
       "      <th>Complaint ID</th>\n",
       "      <th>data</th>\n",
       "      <th>Date_diff</th>\n",
       "    </tr>\n",
       "  </thead>\n",
       "  <tbody>\n",
       "    <tr>\n",
       "      <th>0</th>\n",
       "      <td>Credit card</td>\n",
       "      <td>NaN</td>\n",
       "      <td>Billing statement</td>\n",
       "      <td>NaN</td>\n",
       "      <td>NaN</td>\n",
       "      <td>NaN</td>\n",
       "      <td>Wells Fargo &amp; Company</td>\n",
       "      <td>MI</td>\n",
       "      <td>48342</td>\n",
       "      <td>Older American</td>\n",
       "      <td>NaN</td>\n",
       "      <td>Web</td>\n",
       "      <td>Closed with explanation</td>\n",
       "      <td>Yes</td>\n",
       "      <td>No</td>\n",
       "      <td>856103</td>\n",
       "      <td>train</td>\n",
       "      <td>-86400000000000</td>\n",
       "    </tr>\n",
       "    <tr>\n",
       "      <th>1</th>\n",
       "      <td>Bank account or service</td>\n",
       "      <td>(CD) Certificate of deposit</td>\n",
       "      <td>Making/receiving payments, sending money</td>\n",
       "      <td>NaN</td>\n",
       "      <td>NaN</td>\n",
       "      <td>NaN</td>\n",
       "      <td>Santander Bank US</td>\n",
       "      <td>PA</td>\n",
       "      <td>18042</td>\n",
       "      <td>NaN</td>\n",
       "      <td>NaN</td>\n",
       "      <td>Referral</td>\n",
       "      <td>Closed</td>\n",
       "      <td>Yes</td>\n",
       "      <td>No</td>\n",
       "      <td>1034666</td>\n",
       "      <td>train</td>\n",
       "      <td>-518400000000000</td>\n",
       "    </tr>\n",
       "    <tr>\n",
       "      <th>2</th>\n",
       "      <td>Credit reporting</td>\n",
       "      <td>NaN</td>\n",
       "      <td>Incorrect information on credit report</td>\n",
       "      <td>Account status</td>\n",
       "      <td>NaN</td>\n",
       "      <td>NaN</td>\n",
       "      <td>Equifax</td>\n",
       "      <td>CA</td>\n",
       "      <td>92427</td>\n",
       "      <td>NaN</td>\n",
       "      <td>NaN</td>\n",
       "      <td>Referral</td>\n",
       "      <td>Closed with non-monetary relief</td>\n",
       "      <td>Yes</td>\n",
       "      <td>No</td>\n",
       "      <td>756363</td>\n",
       "      <td>train</td>\n",
       "      <td>-1814400000000000</td>\n",
       "    </tr>\n",
       "    <tr>\n",
       "      <th>3</th>\n",
       "      <td>Credit card</td>\n",
       "      <td>NaN</td>\n",
       "      <td>Billing statement</td>\n",
       "      <td>NaN</td>\n",
       "      <td>My credit card statement from US Bank, XXXX. X...</td>\n",
       "      <td>Company chooses not to provide a public response</td>\n",
       "      <td>U.S. Bancorp</td>\n",
       "      <td>GA</td>\n",
       "      <td>305XX</td>\n",
       "      <td>Older American</td>\n",
       "      <td>Consent provided</td>\n",
       "      <td>Web</td>\n",
       "      <td>Closed with monetary relief</td>\n",
       "      <td>Yes</td>\n",
       "      <td>No</td>\n",
       "      <td>1474177</td>\n",
       "      <td>train</td>\n",
       "      <td>0</td>\n",
       "    </tr>\n",
       "    <tr>\n",
       "      <th>4</th>\n",
       "      <td>Credit card</td>\n",
       "      <td>NaN</td>\n",
       "      <td>Transaction issue</td>\n",
       "      <td>NaN</td>\n",
       "      <td>NaN</td>\n",
       "      <td>NaN</td>\n",
       "      <td>Bank of America</td>\n",
       "      <td>MA</td>\n",
       "      <td>02127</td>\n",
       "      <td>NaN</td>\n",
       "      <td>NaN</td>\n",
       "      <td>Web</td>\n",
       "      <td>Closed with explanation</td>\n",
       "      <td>Yes</td>\n",
       "      <td>No</td>\n",
       "      <td>1132572</td>\n",
       "      <td>train</td>\n",
       "      <td>-691200000000000</td>\n",
       "    </tr>\n",
       "  </tbody>\n",
       "</table>\n",
       "</div>"
      ],
      "text/plain": [
       "                   Product                  Sub-product  \\\n",
       "0              Credit card                          NaN   \n",
       "1  Bank account or service  (CD) Certificate of deposit   \n",
       "2         Credit reporting                          NaN   \n",
       "3              Credit card                          NaN   \n",
       "4              Credit card                          NaN   \n",
       "\n",
       "                                      Issue       Sub-issue  \\\n",
       "0                         Billing statement             NaN   \n",
       "1  Making/receiving payments, sending money             NaN   \n",
       "2    Incorrect information on credit report  Account status   \n",
       "3                         Billing statement             NaN   \n",
       "4                         Transaction issue             NaN   \n",
       "\n",
       "                        Consumer complaint narrative  \\\n",
       "0                                                NaN   \n",
       "1                                                NaN   \n",
       "2                                                NaN   \n",
       "3  My credit card statement from US Bank, XXXX. X...   \n",
       "4                                                NaN   \n",
       "\n",
       "                            Company public response                Company  \\\n",
       "0                                               NaN  Wells Fargo & Company   \n",
       "1                                               NaN      Santander Bank US   \n",
       "2                                               NaN                Equifax   \n",
       "3  Company chooses not to provide a public response           U.S. Bancorp   \n",
       "4                                               NaN        Bank of America   \n",
       "\n",
       "  State ZIP code            Tags Consumer consent provided? Submitted via  \\\n",
       "0    MI    48342  Older American                        NaN           Web   \n",
       "1    PA    18042             NaN                        NaN      Referral   \n",
       "2    CA    92427             NaN                        NaN      Referral   \n",
       "3    GA    305XX  Older American           Consent provided           Web   \n",
       "4    MA    02127             NaN                        NaN           Web   \n",
       "\n",
       "      Company response to consumer Timely response? Consumer disputed?  \\\n",
       "0          Closed with explanation              Yes                 No   \n",
       "1                           Closed              Yes                 No   \n",
       "2  Closed with non-monetary relief              Yes                 No   \n",
       "3      Closed with monetary relief              Yes                 No   \n",
       "4          Closed with explanation              Yes                 No   \n",
       "\n",
       "   Complaint ID   data         Date_diff  \n",
       "0        856103  train   -86400000000000  \n",
       "1       1034666  train  -518400000000000  \n",
       "2        756363  train -1814400000000000  \n",
       "3       1474177  train                 0  \n",
       "4       1132572  train  -691200000000000  "
      ]
     },
     "execution_count": 42,
     "metadata": {},
     "output_type": "execute_result"
    }
   ],
   "source": [
    "cc_all.head()"
   ]
  },
  {
   "cell_type": "code",
   "execution_count": 43,
   "metadata": {},
   "outputs": [
    {
     "name": "stdout",
     "output_type": "stream",
     "text": [
      "Product : 12\n",
      "Sub-product : 47\n",
      "Issue : 95\n",
      "Sub-issue : 68\n",
      "Consumer complaint narrative : 92118\n",
      "Company public response : 10\n",
      "Company : 3437\n",
      "State : 62\n",
      "ZIP code : 27342\n",
      "Tags : 3\n",
      "Consumer consent provided? : 4\n",
      "Submitted via : 6\n",
      "Company response to consumer : 7\n",
      "Timely response? : 2\n",
      "Consumer disputed? : 2\n",
      "data : 2\n"
     ]
    }
   ],
   "source": [
    "for col in cc_all.select_dtypes('object').columns:\n",
    "    print(col,':',cc_all[col].nunique())"
   ]
  },
  {
   "cell_type": "code",
   "execution_count": 44,
   "metadata": {},
   "outputs": [
    {
     "data": {
      "text/plain": [
       "Product                              0\n",
       "Sub-product                     173225\n",
       "Issue                                0\n",
       "Sub-issue                       365685\n",
       "Consumer complaint narrative    504376\n",
       "Company public response         484859\n",
       "Company                              0\n",
       "State                             4764\n",
       "ZIP code                          4774\n",
       "Tags                            513950\n",
       "Consumer consent provided?      428676\n",
       "Submitted via                        1\n",
       "Company response to consumer         0\n",
       "Timely response?                     0\n",
       "Consumer disputed?              119606\n",
       "Complaint ID                         0\n",
       "data                                 0\n",
       "Date_diff                            0\n",
       "dtype: int64"
      ]
     },
     "execution_count": 44,
     "metadata": {},
     "output_type": "execute_result"
    }
   ],
   "source": [
    "cc_all.isnull().sum()"
   ]
  },
  {
   "cell_type": "code",
   "execution_count": 45,
   "metadata": {},
   "outputs": [],
   "source": [
    "for col in ['Company public response','Consumer complaint narrative','Sub-product','Sub-issue','Tags',\n",
    "            'Consumer consent provided?']:\n",
    "    varname=col.replace(' ','_').replace('?','_').replace('-','_') + '_isNaN'\n",
    "    cc_all[varname]=np.where(pd.isnull(cc_all[col]),1,0)\n",
    "    del cc_all[col]"
   ]
  },
  {
   "cell_type": "code",
   "execution_count": 46,
   "metadata": {},
   "outputs": [
    {
     "name": "stdout",
     "output_type": "stream",
     "text": [
      "<class 'pandas.core.frame.DataFrame'>\n",
      "Int64Index: 598027 entries, 0 to 119605\n",
      "Data columns (total 18 columns):\n",
      " #   Column                              Non-Null Count   Dtype \n",
      "---  ------                              --------------   ----- \n",
      " 0   Product                             598027 non-null  object\n",
      " 1   Issue                               598027 non-null  object\n",
      " 2   Company                             598027 non-null  object\n",
      " 3   State                               593263 non-null  object\n",
      " 4   ZIP code                            593253 non-null  object\n",
      " 5   Submitted via                       598026 non-null  object\n",
      " 6   Company response to consumer        598027 non-null  object\n",
      " 7   Timely response?                    598027 non-null  object\n",
      " 8   Consumer disputed?                  478421 non-null  object\n",
      " 9   Complaint ID                        598027 non-null  int64 \n",
      " 10  data                                598027 non-null  object\n",
      " 11  Date_diff                           598027 non-null  int64 \n",
      " 12  Company_public_response_isNaN       598027 non-null  int32 \n",
      " 13  Consumer_complaint_narrative_isNaN  598027 non-null  int32 \n",
      " 14  Sub_product_isNaN                   598027 non-null  int32 \n",
      " 15  Sub_issue_isNaN                     598027 non-null  int32 \n",
      " 16  Tags_isNaN                          598027 non-null  int32 \n",
      " 17  Consumer_consent_provided__isNaN    598027 non-null  int32 \n",
      "dtypes: int32(6), int64(2), object(10)\n",
      "memory usage: 73.0+ MB\n"
     ]
    }
   ],
   "source": [
    "cc_all.info()"
   ]
  },
  {
   "cell_type": "code",
   "execution_count": 47,
   "metadata": {},
   "outputs": [
    {
     "data": {
      "text/html": [
       "<div>\n",
       "<style scoped>\n",
       "    .dataframe tbody tr th:only-of-type {\n",
       "        vertical-align: middle;\n",
       "    }\n",
       "\n",
       "    .dataframe tbody tr th {\n",
       "        vertical-align: top;\n",
       "    }\n",
       "\n",
       "    .dataframe thead th {\n",
       "        text-align: right;\n",
       "    }\n",
       "</style>\n",
       "<table border=\"1\" class=\"dataframe\">\n",
       "  <thead>\n",
       "    <tr style=\"text-align: right;\">\n",
       "      <th></th>\n",
       "      <th>Product</th>\n",
       "      <th>Issue</th>\n",
       "      <th>Company</th>\n",
       "      <th>State</th>\n",
       "      <th>ZIP code</th>\n",
       "      <th>Submitted via</th>\n",
       "      <th>Company response to consumer</th>\n",
       "      <th>Timely response?</th>\n",
       "      <th>Consumer disputed?</th>\n",
       "      <th>Complaint ID</th>\n",
       "      <th>data</th>\n",
       "      <th>Date_diff</th>\n",
       "      <th>Company_public_response_isNaN</th>\n",
       "      <th>Consumer_complaint_narrative_isNaN</th>\n",
       "      <th>Sub_product_isNaN</th>\n",
       "      <th>Sub_issue_isNaN</th>\n",
       "      <th>Tags_isNaN</th>\n",
       "      <th>Consumer_consent_provided__isNaN</th>\n",
       "    </tr>\n",
       "  </thead>\n",
       "  <tbody>\n",
       "    <tr>\n",
       "      <th>0</th>\n",
       "      <td>Credit card</td>\n",
       "      <td>Billing statement</td>\n",
       "      <td>Wells Fargo &amp; Company</td>\n",
       "      <td>MI</td>\n",
       "      <td>48342</td>\n",
       "      <td>Web</td>\n",
       "      <td>Closed with explanation</td>\n",
       "      <td>Yes</td>\n",
       "      <td>No</td>\n",
       "      <td>856103</td>\n",
       "      <td>train</td>\n",
       "      <td>-86400000000000</td>\n",
       "      <td>1</td>\n",
       "      <td>1</td>\n",
       "      <td>1</td>\n",
       "      <td>1</td>\n",
       "      <td>0</td>\n",
       "      <td>1</td>\n",
       "    </tr>\n",
       "    <tr>\n",
       "      <th>1</th>\n",
       "      <td>Bank account or service</td>\n",
       "      <td>Making/receiving payments, sending money</td>\n",
       "      <td>Santander Bank US</td>\n",
       "      <td>PA</td>\n",
       "      <td>18042</td>\n",
       "      <td>Referral</td>\n",
       "      <td>Closed</td>\n",
       "      <td>Yes</td>\n",
       "      <td>No</td>\n",
       "      <td>1034666</td>\n",
       "      <td>train</td>\n",
       "      <td>-518400000000000</td>\n",
       "      <td>1</td>\n",
       "      <td>1</td>\n",
       "      <td>0</td>\n",
       "      <td>1</td>\n",
       "      <td>1</td>\n",
       "      <td>1</td>\n",
       "    </tr>\n",
       "    <tr>\n",
       "      <th>2</th>\n",
       "      <td>Credit reporting</td>\n",
       "      <td>Incorrect information on credit report</td>\n",
       "      <td>Equifax</td>\n",
       "      <td>CA</td>\n",
       "      <td>92427</td>\n",
       "      <td>Referral</td>\n",
       "      <td>Closed with non-monetary relief</td>\n",
       "      <td>Yes</td>\n",
       "      <td>No</td>\n",
       "      <td>756363</td>\n",
       "      <td>train</td>\n",
       "      <td>-1814400000000000</td>\n",
       "      <td>1</td>\n",
       "      <td>1</td>\n",
       "      <td>1</td>\n",
       "      <td>0</td>\n",
       "      <td>1</td>\n",
       "      <td>1</td>\n",
       "    </tr>\n",
       "    <tr>\n",
       "      <th>3</th>\n",
       "      <td>Credit card</td>\n",
       "      <td>Billing statement</td>\n",
       "      <td>U.S. Bancorp</td>\n",
       "      <td>GA</td>\n",
       "      <td>305XX</td>\n",
       "      <td>Web</td>\n",
       "      <td>Closed with monetary relief</td>\n",
       "      <td>Yes</td>\n",
       "      <td>No</td>\n",
       "      <td>1474177</td>\n",
       "      <td>train</td>\n",
       "      <td>0</td>\n",
       "      <td>0</td>\n",
       "      <td>0</td>\n",
       "      <td>1</td>\n",
       "      <td>1</td>\n",
       "      <td>0</td>\n",
       "      <td>0</td>\n",
       "    </tr>\n",
       "    <tr>\n",
       "      <th>4</th>\n",
       "      <td>Credit card</td>\n",
       "      <td>Transaction issue</td>\n",
       "      <td>Bank of America</td>\n",
       "      <td>MA</td>\n",
       "      <td>02127</td>\n",
       "      <td>Web</td>\n",
       "      <td>Closed with explanation</td>\n",
       "      <td>Yes</td>\n",
       "      <td>No</td>\n",
       "      <td>1132572</td>\n",
       "      <td>train</td>\n",
       "      <td>-691200000000000</td>\n",
       "      <td>1</td>\n",
       "      <td>1</td>\n",
       "      <td>1</td>\n",
       "      <td>1</td>\n",
       "      <td>1</td>\n",
       "      <td>1</td>\n",
       "    </tr>\n",
       "  </tbody>\n",
       "</table>\n",
       "</div>"
      ],
      "text/plain": [
       "                   Product                                     Issue  \\\n",
       "0              Credit card                         Billing statement   \n",
       "1  Bank account or service  Making/receiving payments, sending money   \n",
       "2         Credit reporting    Incorrect information on credit report   \n",
       "3              Credit card                         Billing statement   \n",
       "4              Credit card                         Transaction issue   \n",
       "\n",
       "                 Company State ZIP code Submitted via  \\\n",
       "0  Wells Fargo & Company    MI    48342           Web   \n",
       "1      Santander Bank US    PA    18042      Referral   \n",
       "2                Equifax    CA    92427      Referral   \n",
       "3           U.S. Bancorp    GA    305XX           Web   \n",
       "4        Bank of America    MA    02127           Web   \n",
       "\n",
       "      Company response to consumer Timely response? Consumer disputed?  \\\n",
       "0          Closed with explanation              Yes                 No   \n",
       "1                           Closed              Yes                 No   \n",
       "2  Closed with non-monetary relief              Yes                 No   \n",
       "3      Closed with monetary relief              Yes                 No   \n",
       "4          Closed with explanation              Yes                 No   \n",
       "\n",
       "   Complaint ID   data         Date_diff  Company_public_response_isNaN  \\\n",
       "0        856103  train   -86400000000000                              1   \n",
       "1       1034666  train  -518400000000000                              1   \n",
       "2        756363  train -1814400000000000                              1   \n",
       "3       1474177  train                 0                              0   \n",
       "4       1132572  train  -691200000000000                              1   \n",
       "\n",
       "   Consumer_complaint_narrative_isNaN  Sub_product_isNaN  Sub_issue_isNaN  \\\n",
       "0                                   1                  1                1   \n",
       "1                                   1                  0                1   \n",
       "2                                   1                  1                0   \n",
       "3                                   0                  1                1   \n",
       "4                                   1                  1                1   \n",
       "\n",
       "   Tags_isNaN  Consumer_consent_provided__isNaN  \n",
       "0           0                                 1  \n",
       "1           1                                 1  \n",
       "2           1                                 1  \n",
       "3           0                                 0  \n",
       "4           1                                 1  "
      ]
     },
     "execution_count": 47,
     "metadata": {},
     "output_type": "execute_result"
    }
   ],
   "source": [
    "cc_all.head()"
   ]
  },
  {
   "cell_type": "code",
   "execution_count": 48,
   "metadata": {},
   "outputs": [
    {
     "name": "stdout",
     "output_type": "stream",
     "text": [
      "Product : 12\n",
      "Issue : 95\n",
      "Company : 3437\n",
      "State : 62\n",
      "ZIP code : 27342\n",
      "Submitted via : 6\n",
      "Company response to consumer : 7\n",
      "Timely response? : 2\n",
      "Consumer disputed? : 2\n",
      "data : 2\n"
     ]
    }
   ],
   "source": [
    "for col in cc_all.select_dtypes('object').columns:\n",
    "    print(col,':',cc_all[col].nunique())"
   ]
  },
  {
   "cell_type": "code",
   "execution_count": 49,
   "metadata": {},
   "outputs": [],
   "source": [
    "for col in ['ZIP code','Company']:\n",
    "    cc_all.drop([col],axis=1,inplace=True)"
   ]
  },
  {
   "cell_type": "code",
   "execution_count": 50,
   "metadata": {},
   "outputs": [],
   "source": [
    "cc_all['Consumer disputed?']=np.where(cc_all['Consumer disputed?']=='Yes',1,0)"
   ]
  },
  {
   "cell_type": "code",
   "execution_count": 51,
   "metadata": {},
   "outputs": [],
   "source": [
    "k=cc_all['Issue'].value_counts()"
   ]
  },
  {
   "cell_type": "code",
   "execution_count": 52,
   "metadata": {},
   "outputs": [
    {
     "data": {
      "text/plain": [
       "Index(['Loan modification,collection,foreclosure',\n",
       "       'Incorrect information on credit report',\n",
       "       'Loan servicing, payments, escrow account',\n",
       "       'Cont'd attempts collect debt not owed',\n",
       "       'Account opening, closing, or management',\n",
       "       'Disclosure verification of debt', 'Communication tactics',\n",
       "       'Deposits and withdrawals', 'Application, originator, mortgage broker',\n",
       "       'Billing disputes'],\n",
       "      dtype='object')"
      ]
     },
     "execution_count": 52,
     "metadata": {},
     "output_type": "execute_result"
    }
   ],
   "source": [
    "k.axes[0][0:10]"
   ]
  },
  {
   "cell_type": "code",
   "execution_count": 53,
   "metadata": {},
   "outputs": [],
   "source": [
    "for val in k.axes[0][0:10]:\n",
    "    varname='Issue_'+val.replace(',','_').replace(' ','_')\n",
    "    cc_all[varname]=np.where(cc_all['Issue']==val,1,0)\n",
    "    \n",
    "del cc_all['Issue']    "
   ]
  },
  {
   "cell_type": "code",
   "execution_count": 54,
   "metadata": {},
   "outputs": [
    {
     "data": {
      "text/html": [
       "<div>\n",
       "<style scoped>\n",
       "    .dataframe tbody tr th:only-of-type {\n",
       "        vertical-align: middle;\n",
       "    }\n",
       "\n",
       "    .dataframe tbody tr th {\n",
       "        vertical-align: top;\n",
       "    }\n",
       "\n",
       "    .dataframe thead th {\n",
       "        text-align: right;\n",
       "    }\n",
       "</style>\n",
       "<table border=\"1\" class=\"dataframe\">\n",
       "  <thead>\n",
       "    <tr style=\"text-align: right;\">\n",
       "      <th></th>\n",
       "      <th>Product</th>\n",
       "      <th>State</th>\n",
       "      <th>Submitted via</th>\n",
       "      <th>Company response to consumer</th>\n",
       "      <th>Timely response?</th>\n",
       "      <th>Consumer disputed?</th>\n",
       "      <th>Complaint ID</th>\n",
       "      <th>data</th>\n",
       "      <th>Date_diff</th>\n",
       "      <th>Company_public_response_isNaN</th>\n",
       "      <th>...</th>\n",
       "      <th>Issue_Loan_modification_collection_foreclosure</th>\n",
       "      <th>Issue_Incorrect_information_on_credit_report</th>\n",
       "      <th>Issue_Loan_servicing__payments__escrow_account</th>\n",
       "      <th>Issue_Cont'd_attempts_collect_debt_not_owed</th>\n",
       "      <th>Issue_Account_opening__closing__or_management</th>\n",
       "      <th>Issue_Disclosure_verification_of_debt</th>\n",
       "      <th>Issue_Communication_tactics</th>\n",
       "      <th>Issue_Deposits_and_withdrawals</th>\n",
       "      <th>Issue_Application__originator__mortgage_broker</th>\n",
       "      <th>Issue_Billing_disputes</th>\n",
       "    </tr>\n",
       "  </thead>\n",
       "  <tbody>\n",
       "    <tr>\n",
       "      <th>0</th>\n",
       "      <td>Credit card</td>\n",
       "      <td>MI</td>\n",
       "      <td>Web</td>\n",
       "      <td>Closed with explanation</td>\n",
       "      <td>Yes</td>\n",
       "      <td>0</td>\n",
       "      <td>856103</td>\n",
       "      <td>train</td>\n",
       "      <td>-86400000000000</td>\n",
       "      <td>1</td>\n",
       "      <td>...</td>\n",
       "      <td>0</td>\n",
       "      <td>0</td>\n",
       "      <td>0</td>\n",
       "      <td>0</td>\n",
       "      <td>0</td>\n",
       "      <td>0</td>\n",
       "      <td>0</td>\n",
       "      <td>0</td>\n",
       "      <td>0</td>\n",
       "      <td>0</td>\n",
       "    </tr>\n",
       "    <tr>\n",
       "      <th>1</th>\n",
       "      <td>Bank account or service</td>\n",
       "      <td>PA</td>\n",
       "      <td>Referral</td>\n",
       "      <td>Closed</td>\n",
       "      <td>Yes</td>\n",
       "      <td>0</td>\n",
       "      <td>1034666</td>\n",
       "      <td>train</td>\n",
       "      <td>-518400000000000</td>\n",
       "      <td>1</td>\n",
       "      <td>...</td>\n",
       "      <td>0</td>\n",
       "      <td>0</td>\n",
       "      <td>0</td>\n",
       "      <td>0</td>\n",
       "      <td>0</td>\n",
       "      <td>0</td>\n",
       "      <td>0</td>\n",
       "      <td>0</td>\n",
       "      <td>0</td>\n",
       "      <td>0</td>\n",
       "    </tr>\n",
       "    <tr>\n",
       "      <th>2</th>\n",
       "      <td>Credit reporting</td>\n",
       "      <td>CA</td>\n",
       "      <td>Referral</td>\n",
       "      <td>Closed with non-monetary relief</td>\n",
       "      <td>Yes</td>\n",
       "      <td>0</td>\n",
       "      <td>756363</td>\n",
       "      <td>train</td>\n",
       "      <td>-1814400000000000</td>\n",
       "      <td>1</td>\n",
       "      <td>...</td>\n",
       "      <td>0</td>\n",
       "      <td>1</td>\n",
       "      <td>0</td>\n",
       "      <td>0</td>\n",
       "      <td>0</td>\n",
       "      <td>0</td>\n",
       "      <td>0</td>\n",
       "      <td>0</td>\n",
       "      <td>0</td>\n",
       "      <td>0</td>\n",
       "    </tr>\n",
       "    <tr>\n",
       "      <th>3</th>\n",
       "      <td>Credit card</td>\n",
       "      <td>GA</td>\n",
       "      <td>Web</td>\n",
       "      <td>Closed with monetary relief</td>\n",
       "      <td>Yes</td>\n",
       "      <td>0</td>\n",
       "      <td>1474177</td>\n",
       "      <td>train</td>\n",
       "      <td>0</td>\n",
       "      <td>0</td>\n",
       "      <td>...</td>\n",
       "      <td>0</td>\n",
       "      <td>0</td>\n",
       "      <td>0</td>\n",
       "      <td>0</td>\n",
       "      <td>0</td>\n",
       "      <td>0</td>\n",
       "      <td>0</td>\n",
       "      <td>0</td>\n",
       "      <td>0</td>\n",
       "      <td>0</td>\n",
       "    </tr>\n",
       "    <tr>\n",
       "      <th>4</th>\n",
       "      <td>Credit card</td>\n",
       "      <td>MA</td>\n",
       "      <td>Web</td>\n",
       "      <td>Closed with explanation</td>\n",
       "      <td>Yes</td>\n",
       "      <td>0</td>\n",
       "      <td>1132572</td>\n",
       "      <td>train</td>\n",
       "      <td>-691200000000000</td>\n",
       "      <td>1</td>\n",
       "      <td>...</td>\n",
       "      <td>0</td>\n",
       "      <td>0</td>\n",
       "      <td>0</td>\n",
       "      <td>0</td>\n",
       "      <td>0</td>\n",
       "      <td>0</td>\n",
       "      <td>0</td>\n",
       "      <td>0</td>\n",
       "      <td>0</td>\n",
       "      <td>0</td>\n",
       "    </tr>\n",
       "  </tbody>\n",
       "</table>\n",
       "<p>5 rows × 25 columns</p>\n",
       "</div>"
      ],
      "text/plain": [
       "                   Product State Submitted via  \\\n",
       "0              Credit card    MI           Web   \n",
       "1  Bank account or service    PA      Referral   \n",
       "2         Credit reporting    CA      Referral   \n",
       "3              Credit card    GA           Web   \n",
       "4              Credit card    MA           Web   \n",
       "\n",
       "      Company response to consumer Timely response?  Consumer disputed?  \\\n",
       "0          Closed with explanation              Yes                   0   \n",
       "1                           Closed              Yes                   0   \n",
       "2  Closed with non-monetary relief              Yes                   0   \n",
       "3      Closed with monetary relief              Yes                   0   \n",
       "4          Closed with explanation              Yes                   0   \n",
       "\n",
       "   Complaint ID   data         Date_diff  Company_public_response_isNaN  ...  \\\n",
       "0        856103  train   -86400000000000                              1  ...   \n",
       "1       1034666  train  -518400000000000                              1  ...   \n",
       "2        756363  train -1814400000000000                              1  ...   \n",
       "3       1474177  train                 0                              0  ...   \n",
       "4       1132572  train  -691200000000000                              1  ...   \n",
       "\n",
       "   Issue_Loan_modification_collection_foreclosure  \\\n",
       "0                                               0   \n",
       "1                                               0   \n",
       "2                                               0   \n",
       "3                                               0   \n",
       "4                                               0   \n",
       "\n",
       "   Issue_Incorrect_information_on_credit_report  \\\n",
       "0                                             0   \n",
       "1                                             0   \n",
       "2                                             1   \n",
       "3                                             0   \n",
       "4                                             0   \n",
       "\n",
       "   Issue_Loan_servicing__payments__escrow_account  \\\n",
       "0                                               0   \n",
       "1                                               0   \n",
       "2                                               0   \n",
       "3                                               0   \n",
       "4                                               0   \n",
       "\n",
       "   Issue_Cont'd_attempts_collect_debt_not_owed  \\\n",
       "0                                            0   \n",
       "1                                            0   \n",
       "2                                            0   \n",
       "3                                            0   \n",
       "4                                            0   \n",
       "\n",
       "   Issue_Account_opening__closing__or_management  \\\n",
       "0                                              0   \n",
       "1                                              0   \n",
       "2                                              0   \n",
       "3                                              0   \n",
       "4                                              0   \n",
       "\n",
       "   Issue_Disclosure_verification_of_debt  Issue_Communication_tactics  \\\n",
       "0                                      0                            0   \n",
       "1                                      0                            0   \n",
       "2                                      0                            0   \n",
       "3                                      0                            0   \n",
       "4                                      0                            0   \n",
       "\n",
       "   Issue_Deposits_and_withdrawals  \\\n",
       "0                               0   \n",
       "1                               0   \n",
       "2                               0   \n",
       "3                               0   \n",
       "4                               0   \n",
       "\n",
       "   Issue_Application__originator__mortgage_broker  Issue_Billing_disputes  \n",
       "0                                               0                       0  \n",
       "1                                               0                       0  \n",
       "2                                               0                       0  \n",
       "3                                               0                       0  \n",
       "4                                               0                       0  \n",
       "\n",
       "[5 rows x 25 columns]"
      ]
     },
     "execution_count": 54,
     "metadata": {},
     "output_type": "execute_result"
    }
   ],
   "source": [
    "cc_all.head()"
   ]
  },
  {
   "cell_type": "code",
   "execution_count": 55,
   "metadata": {},
   "outputs": [],
   "source": [
    "k=cc_all['State'].value_counts()\n",
    "for val in k.axes[0][0:10]:\n",
    "    varname='State_'+val.replace(',','_').replace(' ','_')\n",
    "    cc_all[varname]=np.where(cc_all['State']==val,1,0)\n",
    "  \n",
    "del cc_all['State']"
   ]
  },
  {
   "cell_type": "code",
   "execution_count": 56,
   "metadata": {},
   "outputs": [],
   "source": [
    "for col in ['Product','Submitted via','Company response to consumer','Timely response?']:\n",
    "    \n",
    "    temp=pd.get_dummies(cc_all[col],prefix=col,drop_first=True)\n",
    "    cc_all=pd.concat([temp,cc_all],1)\n",
    "    cc_all.drop([col],axis=1,inplace=True)"
   ]
  },
  {
   "cell_type": "code",
   "execution_count": 57,
   "metadata": {},
   "outputs": [
    {
     "name": "stdout",
     "output_type": "stream",
     "text": [
      "data : 2\n"
     ]
    }
   ],
   "source": [
    "for col in cc_all.select_dtypes(['object']).columns:\n",
    "    print(col,':',cc_all[col].nunique())"
   ]
  },
  {
   "cell_type": "code",
   "execution_count": 58,
   "metadata": {},
   "outputs": [
    {
     "name": "stdout",
     "output_type": "stream",
     "text": [
      "<class 'pandas.core.frame.DataFrame'>\n",
      "Int64Index: 598027 entries, 0 to 119605\n",
      "Data columns (total 53 columns):\n",
      " #   Column                                                        Non-Null Count   Dtype \n",
      "---  ------                                                        --------------   ----- \n",
      " 0   Timely response?_Yes                                          598027 non-null  uint8 \n",
      " 1   Company response to consumer_Closed with explanation          598027 non-null  uint8 \n",
      " 2   Company response to consumer_Closed with monetary relief      598027 non-null  uint8 \n",
      " 3   Company response to consumer_Closed with non-monetary relief  598027 non-null  uint8 \n",
      " 4   Company response to consumer_Closed with relief               598027 non-null  uint8 \n",
      " 5   Company response to consumer_Closed without relief            598027 non-null  uint8 \n",
      " 6   Company response to consumer_Untimely response                598027 non-null  uint8 \n",
      " 7   Submitted via_Fax                                             598027 non-null  uint8 \n",
      " 8   Submitted via_Phone                                           598027 non-null  uint8 \n",
      " 9   Submitted via_Postal mail                                     598027 non-null  uint8 \n",
      " 10  Submitted via_Referral                                        598027 non-null  uint8 \n",
      " 11  Submitted via_Web                                             598027 non-null  uint8 \n",
      " 12  Product_Consumer Loan                                         598027 non-null  uint8 \n",
      " 13  Product_Credit card                                           598027 non-null  uint8 \n",
      " 14  Product_Credit reporting                                      598027 non-null  uint8 \n",
      " 15  Product_Debt collection                                       598027 non-null  uint8 \n",
      " 16  Product_Money transfers                                       598027 non-null  uint8 \n",
      " 17  Product_Mortgage                                              598027 non-null  uint8 \n",
      " 18  Product_Other financial service                               598027 non-null  uint8 \n",
      " 19  Product_Payday loan                                           598027 non-null  uint8 \n",
      " 20  Product_Prepaid card                                          598027 non-null  uint8 \n",
      " 21  Product_Student loan                                          598027 non-null  uint8 \n",
      " 22  Product_Virtual currency                                      598027 non-null  uint8 \n",
      " 23  Consumer disputed?                                            598027 non-null  int32 \n",
      " 24  Complaint ID                                                  598027 non-null  int64 \n",
      " 25  data                                                          598027 non-null  object\n",
      " 26  Date_diff                                                     598027 non-null  int64 \n",
      " 27  Company_public_response_isNaN                                 598027 non-null  int32 \n",
      " 28  Consumer_complaint_narrative_isNaN                            598027 non-null  int32 \n",
      " 29  Sub_product_isNaN                                             598027 non-null  int32 \n",
      " 30  Sub_issue_isNaN                                               598027 non-null  int32 \n",
      " 31  Tags_isNaN                                                    598027 non-null  int32 \n",
      " 32  Consumer_consent_provided__isNaN                              598027 non-null  int32 \n",
      " 33  Issue_Loan_modification_collection_foreclosure                598027 non-null  int32 \n",
      " 34  Issue_Incorrect_information_on_credit_report                  598027 non-null  int32 \n",
      " 35  Issue_Loan_servicing__payments__escrow_account                598027 non-null  int32 \n",
      " 36  Issue_Cont'd_attempts_collect_debt_not_owed                   598027 non-null  int32 \n",
      " 37  Issue_Account_opening__closing__or_management                 598027 non-null  int32 \n",
      " 38  Issue_Disclosure_verification_of_debt                         598027 non-null  int32 \n",
      " 39  Issue_Communication_tactics                                   598027 non-null  int32 \n",
      " 40  Issue_Deposits_and_withdrawals                                598027 non-null  int32 \n",
      " 41  Issue_Application__originator__mortgage_broker                598027 non-null  int32 \n",
      " 42  Issue_Billing_disputes                                        598027 non-null  int32 \n",
      " 43  State_CA                                                      598027 non-null  int32 \n",
      " 44  State_FL                                                      598027 non-null  int32 \n",
      " 45  State_TX                                                      598027 non-null  int32 \n",
      " 46  State_NY                                                      598027 non-null  int32 \n",
      " 47  State_GA                                                      598027 non-null  int32 \n",
      " 48  State_NJ                                                      598027 non-null  int32 \n",
      " 49  State_PA                                                      598027 non-null  int32 \n",
      " 50  State_IL                                                      598027 non-null  int32 \n",
      " 51  State_VA                                                      598027 non-null  int32 \n",
      " 52  State_MD                                                      598027 non-null  int32 \n",
      "dtypes: int32(27), int64(2), object(1), uint8(23)\n",
      "memory usage: 93.0+ MB\n"
     ]
    }
   ],
   "source": [
    "cc_all.info()"
   ]
  },
  {
   "cell_type": "code",
   "execution_count": 65,
   "metadata": {},
   "outputs": [
    {
     "data": {
      "text/plain": [
       "0    496596\n",
       "1    101431\n",
       "Name: Consumer disputed?, dtype: int64"
      ]
     },
     "execution_count": 65,
     "metadata": {},
     "output_type": "execute_result"
    }
   ],
   "source": [
    "cc_all['Consumer disputed?'].value_counts()"
   ]
  },
  {
   "cell_type": "code",
   "execution_count": 66,
   "metadata": {
    "scrolled": true
   },
   "outputs": [
    {
     "data": {
      "text/plain": [
       "0"
      ]
     },
     "execution_count": 66,
     "metadata": {},
     "output_type": "execute_result"
    }
   ],
   "source": [
    "cc_all.isnull().sum().sum()"
   ]
  },
  {
   "cell_type": "code",
   "execution_count": 67,
   "metadata": {},
   "outputs": [],
   "source": [
    "train_clean=cc_all[cc_all['data']=='train']\n",
    "del train_clean['data']\n",
    "test_clean=cc_all[cc_all['data']=='test']\n",
    "test_clean.drop(['data','Consumer disputed?'],axis=1,inplace=True)"
   ]
  },
  {
   "cell_type": "code",
   "execution_count": 68,
   "metadata": {},
   "outputs": [
    {
     "data": {
      "text/plain": [
       "((478421, 52), (119606, 51))"
      ]
     },
     "execution_count": 68,
     "metadata": {},
     "output_type": "execute_result"
    }
   ],
   "source": [
    "train_clean.shape,test_clean.shape"
   ]
  },
  {
   "cell_type": "code",
   "execution_count": 69,
   "metadata": {},
   "outputs": [],
   "source": [
    "x=train_clean.drop(['Consumer disputed?'],1)\n",
    "y=train_clean['Consumer disputed?']"
   ]
  },
  {
   "cell_type": "code",
   "execution_count": 70,
   "metadata": {},
   "outputs": [
    {
     "data": {
      "text/plain": [
       "((478421, 51), (478421,))"
      ]
     },
     "execution_count": 70,
     "metadata": {},
     "output_type": "execute_result"
    }
   ],
   "source": [
    "x.shape,y.shape"
   ]
  },
  {
   "cell_type": "code",
   "execution_count": 71,
   "metadata": {},
   "outputs": [],
   "source": [
    "from sklearn.model_selection import train_test_split"
   ]
  },
  {
   "cell_type": "code",
   "execution_count": 72,
   "metadata": {},
   "outputs": [],
   "source": [
    "x_train,x_val,y_train,y_val=train_test_split(x,y,test_size=0.2,random_state=123)"
   ]
  },
  {
   "cell_type": "code",
   "execution_count": 73,
   "metadata": {},
   "outputs": [
    {
     "data": {
      "text/plain": [
       "((382736, 51), (382736,))"
      ]
     },
     "execution_count": 73,
     "metadata": {},
     "output_type": "execute_result"
    }
   ],
   "source": [
    "x_train.shape,y_train.shape"
   ]
  },
  {
   "cell_type": "code",
   "execution_count": 74,
   "metadata": {},
   "outputs": [
    {
     "data": {
      "text/plain": [
       "((95685, 51), (95685,))"
      ]
     },
     "execution_count": 74,
     "metadata": {},
     "output_type": "execute_result"
    }
   ],
   "source": [
    "x_val.shape,y_val.shape"
   ]
  },
  {
   "cell_type": "code",
   "execution_count": 75,
   "metadata": {},
   "outputs": [],
   "source": [
    "# Logistic Regression with GridsearchCV"
   ]
  },
  {
   "cell_type": "code",
   "execution_count": 76,
   "metadata": {},
   "outputs": [],
   "source": [
    "from sklearn.linear_model import LogisticRegression"
   ]
  },
  {
   "cell_type": "code",
   "execution_count": 77,
   "metadata": {},
   "outputs": [],
   "source": [
    "params={'class_weight':['balanced',None],\n",
    "       'penalty':['l1','l2'],\n",
    "        'C':np.linspace(0.00001,1000,10)\n",
    "       }"
   ]
  },
  {
   "cell_type": "code",
   "execution_count": 78,
   "metadata": {},
   "outputs": [],
   "source": [
    "model=LogisticRegression(fit_intercept=True)"
   ]
  },
  {
   "cell_type": "code",
   "execution_count": 79,
   "metadata": {},
   "outputs": [],
   "source": [
    "from sklearn.model_selection import GridSearchCV"
   ]
  },
  {
   "cell_type": "code",
   "execution_count": 80,
   "metadata": {},
   "outputs": [],
   "source": [
    "grid_search=GridSearchCV(model,param_grid=params,cv=2,scoring='roc_auc',n_jobs=-1)"
   ]
  },
  {
   "cell_type": "code",
   "execution_count": 75,
   "metadata": {},
   "outputs": [
    {
     "data": {
      "text/plain": [
       "0"
      ]
     },
     "execution_count": 75,
     "metadata": {},
     "output_type": "execute_result"
    }
   ],
   "source": [
    "cc_all.isnull().sum().sum()"
   ]
  },
  {
   "cell_type": "code",
   "execution_count": 77,
   "metadata": {},
   "outputs": [
    {
     "data": {
      "text/plain": [
       "GridSearchCV(cv=2, estimator=LogisticRegression(), n_jobs=-1,\n",
       "             param_grid={'C': array([1.0000000e-05, 1.1111112e+02, 2.2222223e+02, 3.3333334e+02,\n",
       "       4.4444445e+02, 5.5555556e+02, 6.6666667e+02, 7.7777778e+02,\n",
       "       8.8888889e+02, 1.0000000e+03]),\n",
       "                         'class_weight': ['balanced', None],\n",
       "                         'penalty': ['l1', 'l2']},\n",
       "             scoring='roc_auc')"
      ]
     },
     "execution_count": 77,
     "metadata": {},
     "output_type": "execute_result"
    }
   ],
   "source": [
    "grid_search.fit(x_train,y_train)"
   ]
  },
  {
   "cell_type": "code",
   "execution_count": 76,
   "metadata": {},
   "outputs": [],
   "source": [
    "def report(results, n_top=3):\n",
    "    for i in range(1,n_top+1):\n",
    "        candidates = np.flatnonzero(results['rank_test_score']== i)\n",
    "        \n",
    "        for candidate in candidates:\n",
    "            print('Model with rank: {0}'.format(i))\n",
    "            print('Mean Validation Score: {0:.8f} (std:{1:.3f})'.format(\n",
    "                    results['mean_test_score'][candidate],\n",
    "                    results['std_test_score'][candidate]))\n",
    "            print(\"Parameters:{0}\".format(results['params'][candidate]))\n",
    "            print(\"\")"
   ]
  },
  {
   "cell_type": "code",
   "execution_count": 79,
   "metadata": {},
   "outputs": [
    {
     "name": "stdout",
     "output_type": "stream",
     "text": [
      "Model with rank: 1\n",
      "Mean Validation Score: 0.53395988 (std:0.000)\n",
      "Parameters:{'C': 1e-05, 'class_weight': 'balanced', 'penalty': 'l2'}\n",
      "\n",
      "Model with rank: 1\n",
      "Mean Validation Score: 0.53395988 (std:0.000)\n",
      "Parameters:{'C': 111.11112, 'class_weight': 'balanced', 'penalty': 'l2'}\n",
      "\n",
      "Model with rank: 1\n",
      "Mean Validation Score: 0.53395988 (std:0.000)\n",
      "Parameters:{'C': 222.22223, 'class_weight': 'balanced', 'penalty': 'l2'}\n",
      "\n",
      "Model with rank: 1\n",
      "Mean Validation Score: 0.53395988 (std:0.000)\n",
      "Parameters:{'C': 333.33333999999996, 'class_weight': 'balanced', 'penalty': 'l2'}\n",
      "\n",
      "Model with rank: 1\n",
      "Mean Validation Score: 0.53395988 (std:0.000)\n",
      "Parameters:{'C': 444.44444999999996, 'class_weight': 'balanced', 'penalty': 'l2'}\n",
      "\n",
      "Model with rank: 1\n",
      "Mean Validation Score: 0.53395988 (std:0.000)\n",
      "Parameters:{'C': 555.55556, 'class_weight': 'balanced', 'penalty': 'l2'}\n",
      "\n",
      "Model with rank: 1\n",
      "Mean Validation Score: 0.53395988 (std:0.000)\n",
      "Parameters:{'C': 666.66667, 'class_weight': 'balanced', 'penalty': 'l2'}\n",
      "\n",
      "Model with rank: 1\n",
      "Mean Validation Score: 0.53395988 (std:0.000)\n",
      "Parameters:{'C': 777.7777799999999, 'class_weight': 'balanced', 'penalty': 'l2'}\n",
      "\n",
      "Model with rank: 1\n",
      "Mean Validation Score: 0.53395988 (std:0.000)\n",
      "Parameters:{'C': 888.88889, 'class_weight': 'balanced', 'penalty': 'l2'}\n",
      "\n",
      "Model with rank: 1\n",
      "Mean Validation Score: 0.53395988 (std:0.000)\n",
      "Parameters:{'C': 1000.0, 'class_weight': 'balanced', 'penalty': 'l2'}\n",
      "\n"
     ]
    }
   ],
   "source": [
    "report(grid_search.cv_results_,1)"
   ]
  },
  {
   "cell_type": "code",
   "execution_count": 81,
   "metadata": {},
   "outputs": [],
   "source": [
    "test_prediction=grid_search.predict_proba(test_clean)"
   ]
  },
  {
   "cell_type": "code",
   "execution_count": 82,
   "metadata": {},
   "outputs": [
    {
     "data": {
      "text/plain": [
       "array([[0.49903365, 0.50096635],\n",
       "       [0.5       , 0.5       ],\n",
       "       [0.50096635, 0.49903365],\n",
       "       ...,\n",
       "       [0.50289903, 0.49710097],\n",
       "       [0.50096635, 0.49903365],\n",
       "       [0.5       , 0.5       ]])"
      ]
     },
     "execution_count": 82,
     "metadata": {},
     "output_type": "execute_result"
    }
   ],
   "source": [
    "test_prediction"
   ]
  },
  {
   "cell_type": "code",
   "execution_count": 83,
   "metadata": {},
   "outputs": [
    {
     "data": {
      "text/plain": [
       "array([0, 1])"
      ]
     },
     "execution_count": 83,
     "metadata": {},
     "output_type": "execute_result"
    }
   ],
   "source": [
    "grid_search.classes_"
   ]
  },
  {
   "cell_type": "code",
   "execution_count": 84,
   "metadata": {},
   "outputs": [
    {
     "data": {
      "text/plain": [
       "array([0.49903365, 0.5       , 0.50096635, ..., 0.50289903, 0.50096635,\n",
       "       0.5       ])"
      ]
     },
     "execution_count": 84,
     "metadata": {},
     "output_type": "execute_result"
    }
   ],
   "source": [
    "test_prediction[:,0]"
   ]
  },
  {
   "cell_type": "code",
   "execution_count": 85,
   "metadata": {},
   "outputs": [
    {
     "data": {
      "text/plain": [
       "array([0.50096635, 0.5       , 0.49903365, ..., 0.49710097, 0.49903365,\n",
       "       0.5       ])"
      ]
     },
     "execution_count": 85,
     "metadata": {},
     "output_type": "execute_result"
    }
   ],
   "source": [
    "test_prediction[:,1]"
   ]
  },
  {
   "cell_type": "code",
   "execution_count": 86,
   "metadata": {},
   "outputs": [],
   "source": [
    "train_score=grid_search.predict_proba(x_train)[:,1]\n",
    "real=y_train"
   ]
  },
  {
   "cell_type": "code",
   "execution_count": 87,
   "metadata": {},
   "outputs": [
    {
     "data": {
      "text/plain": [
       "array([0.5       , 0.49710097, 0.5       , ..., 0.5       , 0.5       ,\n",
       "       0.4980673 ])"
      ]
     },
     "execution_count": 87,
     "metadata": {},
     "output_type": "execute_result"
    }
   ],
   "source": [
    "train_score"
   ]
  },
  {
   "cell_type": "code",
   "execution_count": 88,
   "metadata": {},
   "outputs": [],
   "source": [
    "cutoffs=np.linspace(0.001,0.999,999)"
   ]
  },
  {
   "cell_type": "code",
   "execution_count": 89,
   "metadata": {},
   "outputs": [],
   "source": [
    "\n",
    "KS_all =[]\n",
    "for cutoff in cutoffs:\n",
    "    \n",
    "    predicted = (train_score > cutoff).astype(int)\n",
    "    \n",
    "    TP = ((real==1)&(predicted==1)).sum()\n",
    "    FP= ((real==0) &(predicted==1)).sum()\n",
    "    TN = ((real==0)&(predicted==0)).sum()\n",
    "    FN = ((real==1)&(predicted==0)).sum()\n",
    "    \n",
    "    P = TP+FN\n",
    "    N = TN+FP\n",
    "    \n",
    "    KS = (TP/P)-(FP/N)\n",
    "    \n",
    "    KS_all.append(KS)"
   ]
  },
  {
   "cell_type": "code",
   "execution_count": 90,
   "metadata": {},
   "outputs": [],
   "source": [
    "temp=pd.DataFrame({'cutoffs':cutoffs,'KS_all':KS_all})"
   ]
  },
  {
   "cell_type": "code",
   "execution_count": 91,
   "metadata": {},
   "outputs": [],
   "source": [
    "import seaborn as sns\n",
    "%matplotlib inline"
   ]
  },
  {
   "cell_type": "code",
   "execution_count": 92,
   "metadata": {},
   "outputs": [
    {
     "data": {
      "text/plain": [
       "<seaborn.axisgrid.FacetGrid at 0x29d6f6eb7c0>"
      ]
     },
     "execution_count": 92,
     "metadata": {},
     "output_type": "execute_result"
    },
    {
     "data": {
      "image/png": "[encoded data removed]",
      "text/plain": [
       "<Figure size 360x360 with 1 Axes>"
      ]
     },
     "metadata": {
      "needs_background": "light"
     },
     "output_type": "display_data"
    }
   ],
   "source": [
    "sns.lmplot(x='cutoffs',y='KS_all',data=temp,fit_reg=False)"
   ]
  },
  {
   "cell_type": "code",
   "execution_count": 93,
   "metadata": {},
   "outputs": [
    {
     "data": {
      "text/plain": [
       "0.498"
      ]
     },
     "execution_count": 93,
     "metadata": {},
     "output_type": "execute_result"
    }
   ],
   "source": [
    "cutoffs[KS_all==max(KS_all)][0]"
   ]
  },
  {
   "cell_type": "code",
   "execution_count": 94,
   "metadata": {},
   "outputs": [],
   "source": [
    "mycutoff=cutoffs[KS_all==max(KS_all)][0]"
   ]
  },
  {
   "cell_type": "code",
   "execution_count": 95,
   "metadata": {},
   "outputs": [],
   "source": [
    "test_hard_classes=(test_prediction>mycutoff).astype(int)"
   ]
  },
  {
   "cell_type": "code",
   "execution_count": 96,
   "metadata": {},
   "outputs": [],
   "source": [
    "# OR\n",
    "test_hard_classes=(test_prediction>cutoffs[KS_all==max(KS_all)][0]).astype(int)"
   ]
  },
  {
   "cell_type": "code",
   "execution_count": 97,
   "metadata": {},
   "outputs": [
    {
     "data": {
      "text/plain": [
       "array([[1, 1],\n",
       "       [1, 1],\n",
       "       [1, 1],\n",
       "       ...,\n",
       "       [1, 0],\n",
       "       [1, 1],\n",
       "       [1, 1]])"
      ]
     },
     "execution_count": 97,
     "metadata": {},
     "output_type": "execute_result"
    }
   ],
   "source": [
    "test_hard_classes"
   ]
  },
  {
   "cell_type": "code",
   "execution_count": 98,
   "metadata": {},
   "outputs": [
    {
     "data": {
      "text/plain": [
       "[(0.001, 0.0),\n",
       " (0.002, 0.0),\n",
       " (0.003, 0.0),\n",
       " (0.004, 0.0),\n",
       " (0.005, 0.0),\n",
       " (0.006, 0.0),\n",
       " (0.007, 0.0),\n",
       " (0.008, 0.0),\n",
       " (0.009000000000000001, 0.0),\n",
       " (0.010000000000000002, 0.0),\n",
       " (0.011, 0.0),\n",
       " (0.012, 0.0),\n",
       " (0.013000000000000001, 0.0),\n",
       " (0.014000000000000002, 0.0),\n",
       " (0.015, 0.0),\n",
       " (0.016, 0.0),\n",
       " (0.017, 0.0),\n",
       " (0.018000000000000002, 0.0),\n",
       " (0.019000000000000003, 0.0),\n",
       " (0.02, 0.0),\n",
       " (0.021, 0.0),\n",
       " (0.022000000000000002, 0.0),\n",
       " (0.023, 0.0),\n",
       " (0.024, 0.0),\n",
       " (0.025, 0.0),\n",
       " (0.026000000000000002, 0.0),\n",
       " (0.027000000000000003, 0.0),\n",
       " (0.028, 0.0),\n",
       " (0.029, 0.0),\n",
       " (0.030000000000000002, 0.0),\n",
       " (0.031, 0.0),\n",
       " (0.032, 0.0),\n",
       " (0.033, 0.0),\n",
       " (0.034, 0.0),\n",
       " (0.035, 0.0),\n",
       " (0.036000000000000004, 0.0),\n",
       " (0.037000000000000005, 0.0),\n",
       " (0.038, 0.0),\n",
       " (0.039, 3.317310722561473e-06),\n",
       " (0.04, 3.317310722561473e-06),\n",
       " (0.041, 3.317310722561473e-06),\n",
       " (0.042, 3.317310722561473e-06),\n",
       " (0.043000000000000003, 3.317310722561473e-06),\n",
       " (0.044000000000000004, 3.317310722561473e-06),\n",
       " (0.045, 3.317310722561473e-06),\n",
       " (0.046, 3.317310722561473e-06),\n",
       " (0.047, 3.317310722561473e-06),\n",
       " (0.048, 3.317310722561473e-06),\n",
       " (0.049, 3.317310722561473e-06),\n",
       " (0.05, 3.317310722561473e-06),\n",
       " (0.051000000000000004, 3.317310722561473e-06),\n",
       " (0.052000000000000005, 3.317310722561473e-06),\n",
       " (0.053000000000000005, 3.317310722561473e-06),\n",
       " (0.054, 3.317310722561473e-06),\n",
       " (0.055, 3.317310722561473e-06),\n",
       " (0.056, 3.317310722561473e-06),\n",
       " (0.057, 3.317310722561473e-06),\n",
       " (0.058, 3.317310722561473e-06),\n",
       " (0.059000000000000004, 3.317310722561473e-06),\n",
       " (0.060000000000000005, 3.317310722561473e-06),\n",
       " (0.061, 3.317310722561473e-06),\n",
       " (0.062, 3.317310722561473e-06),\n",
       " (0.063, 3.317310722561473e-06),\n",
       " (0.064, 3.317310722561473e-06),\n",
       " (0.065, 3.317310722561473e-06),\n",
       " (0.066, 3.317310722561473e-06),\n",
       " (0.067, 6.634621445122946e-06),\n",
       " (0.068, 6.634621445122946e-06),\n",
       " (0.069, 6.634621445122946e-06),\n",
       " (0.07, 9.951932167684419e-06),\n",
       " (0.07100000000000001, 9.951932167684419e-06),\n",
       " (0.07200000000000001, 9.951932167684419e-06),\n",
       " (0.07300000000000001, 9.951932167684419e-06),\n",
       " (0.074, 9.951932167684419e-06),\n",
       " (0.075, 9.951932167684419e-06),\n",
       " (0.076, 9.951932167684419e-06),\n",
       " (0.077, 9.951932167684419e-06),\n",
       " (0.078, -2.350157957464738e-06),\n",
       " (0.079, -2.350157957464738e-06),\n",
       " (0.08, -2.350157957464738e-06),\n",
       " (0.081, -1.1334937360052422e-05),\n",
       " (0.082, -4.700315914929476e-06),\n",
       " (0.083, -4.700315914929476e-06),\n",
       " (0.084, -1.3830051923680031e-06),\n",
       " (0.085, 1.9343055301934697e-06),\n",
       " (0.08600000000000001, 8.568926975205393e-06),\n",
       " (0.08700000000000001, 8.568926975205393e-06),\n",
       " (0.08800000000000001, 1.1886237697766866e-05),\n",
       " (0.089, 1.1886237697766866e-05),\n",
       " (0.09, 1.5203548420328339e-05),\n",
       " (0.091, 1.5203548420328339e-05),\n",
       " (0.092, 1.5203548420328339e-05),\n",
       " (0.093, 1.5203548420328339e-05),\n",
       " (0.094, 1.8520859142889812e-05),\n",
       " (0.095, 2.1838169865451285e-05),\n",
       " (0.096, 2.5155480588012757e-05),\n",
       " (0.097, 3.5107412755586154e-05),\n",
       " (0.098, 3.8424723478147627e-05),\n",
       " (0.099, 4.17420342007091e-05),\n",
       " (0.1, 4.505934492327057e-05),\n",
       " (0.101, 4.837665564572102e-05),\n",
       " (0.10200000000000001, 4.837665564572102e-05),\n",
       " (0.10300000000000001, 4.837665564572102e-05),\n",
       " (0.10400000000000001, 4.837665564572102e-05),\n",
       " (0.10500000000000001, 4.837665564572102e-05),\n",
       " (0.106, 4.837665564572102e-05),\n",
       " (0.107, 4.837665564572102e-05),\n",
       " (0.108, 4.837665564572102e-05),\n",
       " (0.109, 3.6074565520571866e-05),\n",
       " (0.11, 3.6074565520571866e-05),\n",
       " (0.111, 3.6074565520571866e-05),\n",
       " (0.112, 3.6074565520571866e-05),\n",
       " (0.113, 3.6074565520571866e-05),\n",
       " (0.114, 3.6074565520571866e-05),\n",
       " (0.115, 3.6074565520571866e-05),\n",
       " (0.116, 3.6074565520571866e-05),\n",
       " (0.117, 3.939187624313334e-05),\n",
       " (0.11800000000000001, 3.939187624313334e-05),\n",
       " (0.11900000000000001, 4.270918696569481e-05),\n",
       " (0.12000000000000001, 4.270918696569481e-05),\n",
       " (0.121, 4.270918696569481e-05),\n",
       " (0.122, 4.6026497688256285e-05),\n",
       " (0.123, 4.934380841081776e-05),\n",
       " (0.124, 4.934380841081776e-05),\n",
       " (0.125, 4.934380841081776e-05),\n",
       " (0.126, 4.934380841081776e-05),\n",
       " (0.127, 4.934380841081776e-05),\n",
       " (0.128, 4.934380841081776e-05),\n",
       " (0.129, 5.266111913337923e-05),\n",
       " (0.13, 5.266111913337923e-05),\n",
       " (0.131, 5.266111913337923e-05),\n",
       " (0.132, 5.266111913337923e-05),\n",
       " (0.133, 5.266111913337923e-05),\n",
       " (0.134, 5.266111913337923e-05),\n",
       " (0.135, 5.597842985582968e-05),\n",
       " (0.136, 5.597842985582968e-05),\n",
       " (0.137, 5.597842985582968e-05),\n",
       " (0.138, 5.597842985582968e-05),\n",
       " (0.139, 5.597842985582968e-05),\n",
       " (0.14, 5.597842985582968e-05),\n",
       " (0.14100000000000001, 5.597842985582968e-05),\n",
       " (0.14200000000000002, 5.597842985582968e-05),\n",
       " (0.14300000000000002, 5.9295740578391154e-05),\n",
       " (0.14400000000000002, 3.469156032820386e-05),\n",
       " (0.14500000000000002, 3.8008871050765336e-05),\n",
       " (0.146, 3.8008871050765336e-05),\n",
       " (0.147, 3.8008871050765336e-05),\n",
       " (0.148, 3.8008871050765336e-05),\n",
       " (0.149, 3.8008871050765336e-05),\n",
       " (0.15, 3.8008871050765336e-05),\n",
       " (0.151, 3.8008871050765336e-05),\n",
       " (0.152, 3.8008871050765336e-05),\n",
       " (0.153, 3.8008871050765336e-05),\n",
       " (0.154, 3.8008871050765336e-05),\n",
       " (0.155, 4.132618177332681e-05),\n",
       " (0.156, 4.132618177332681e-05),\n",
       " (0.157, 2.9024091648177652e-05),\n",
       " (0.158, 3.2341402370739125e-05),\n",
       " (0.159, 3.2341402370739125e-05),\n",
       " (0.16, 3.2341402370739125e-05),\n",
       " (0.161, 3.2341402370739125e-05),\n",
       " (0.162, 3.2341402370739125e-05),\n",
       " (0.163, 3.56587130933006e-05),\n",
       " (0.164, 3.56587130933006e-05),\n",
       " (0.165, 3.56587130933006e-05),\n",
       " (0.166, 3.56587130933006e-05),\n",
       " (0.167, 3.56587130933006e-05),\n",
       " (0.168, 3.897602381575105e-05),\n",
       " (0.169, 3.897602381575105e-05),\n",
       " (0.17, 3.897602381575105e-05),\n",
       " (0.171, 3.897602381575105e-05),\n",
       " (0.17200000000000001, 4.229333453831252e-05),\n",
       " (0.17300000000000001, 4.5610645260873994e-05),\n",
       " (0.17400000000000002, 4.5610645260873994e-05),\n",
       " (0.17500000000000002, 4.5610645260873994e-05),\n",
       " (0.17600000000000002, 3.662586585828631e-05),\n",
       " (0.177, 3.9943176580847783e-05),\n",
       " (0.178, 4.3260487303409256e-05),\n",
       " (0.179, 4.657779802597073e-05),\n",
       " (0.18, 4.989510874842118e-05),\n",
       " (0.181, 5.98470409161056e-05),\n",
       " (0.182, 5.98470409161056e-05),\n",
       " (0.183, 6.316435163866707e-05),\n",
       " (0.184, 6.316435163866707e-05),\n",
       " (0.185, 6.316435163866707e-05),\n",
       " (0.186, 6.648166236122854e-05),\n",
       " (0.187, 6.648166236122854e-05),\n",
       " (0.188, 6.648166236122854e-05),\n",
       " (0.189, 5.749688295864086e-05),\n",
       " (0.19, 4.5194792833491704e-05),\n",
       " (0.191, 4.5194792833491704e-05),\n",
       " (0.192, 5.182941427861465e-05),\n",
       " (0.193, 5.182941427861465e-05),\n",
       " (0.194, 5.182941427861465e-05),\n",
       " (0.195, 5.182941427861465e-05),\n",
       " (0.196, 5.514672500117612e-05),\n",
       " (0.197, 5.8464035723737595e-05),\n",
       " (0.198, 5.279656704360036e-05),\n",
       " (0.199, 5.279656704360036e-05),\n",
       " (0.2, 5.943118848872331e-05),\n",
       " (0.201, 6.274849921128478e-05),\n",
       " (0.202, 7.601774210141965e-05),\n",
       " (0.203, 7.601774210141965e-05),\n",
       " (0.20400000000000001, 7.601774210141965e-05),\n",
       " (0.20500000000000002, 7.933505282398112e-05),\n",
       " (0.20600000000000002, 8.26523635465426e-05),\n",
       " (0.20700000000000002, 8.26523635465426e-05),\n",
       " (0.20800000000000002, 8.928698499166554e-05),\n",
       " (0.20900000000000002, 7.698489486662741e-05),\n",
       " (0.21, 7.698489486662741e-05),\n",
       " (0.211, 8.030220558907786e-05),\n",
       " (0.212, 8.030220558907786e-05),\n",
       " (0.213, 8.030220558907786e-05),\n",
       " (0.214, 8.030220558907786e-05),\n",
       " (0.215, 8.361951631163933e-05),\n",
       " (0.216, 7.795204763161312e-05),\n",
       " (0.217, 7.795204763161312e-05),\n",
       " (0.218, 7.795204763161312e-05),\n",
       " (0.219, 7.560188967403736e-05),\n",
       " (0.22, 7.891920039659883e-05),\n",
       " (0.221, 8.555382184172178e-05),\n",
       " (0.222, 7.656904243924512e-05),\n",
       " (0.223, 7.421888448166936e-05),\n",
       " (0.224, 7.421888448166936e-05),\n",
       " (0.225, 8.417081664935377e-05),\n",
       " (0.226, 8.417081664935377e-05),\n",
       " (0.227, 7.850334796932756e-05),\n",
       " (0.228, 7.850334796932756e-05),\n",
       " (0.229, 7.850334796932756e-05),\n",
       " (0.23, 8.513796941433949e-05),\n",
       " (0.231, 8.513796941433949e-05),\n",
       " (0.232, 8.845528013690096e-05),\n",
       " (0.233, 8.845528013690096e-05),\n",
       " (0.234, 6.385109988671367e-05),\n",
       " (0.23500000000000001, 6.385109988671367e-05),\n",
       " (0.23600000000000002, 5.4866320484125986e-05),\n",
       " (0.23700000000000002, 5.818363120668746e-05),\n",
       " (0.23800000000000002, 7.145287409682233e-05),\n",
       " (0.23900000000000002, 8.140480626450675e-05),\n",
       " (0.24000000000000002, 6.910271613946861e-05),\n",
       " (0.241, 7.242002686191906e-05),\n",
       " (0.242, 7.573733758448054e-05),\n",
       " (0.243, 7.573733758448054e-05),\n",
       " (0.244, 7.905464830704201e-05),\n",
       " (0.245, 8.568926975216495e-05),\n",
       " (0.246, 8.002180107202772e-05),\n",
       " (0.247, 7.103702166944004e-05),\n",
       " (0.248, 7.767164311456298e-05),\n",
       " (0.249, 6.868686371208632e-05),\n",
       " (0.25, 7.532148515709824e-05),\n",
       " (0.251, 7.863879587965972e-05),\n",
       " (0.252, 8.195610660222119e-05),\n",
       " (0.253, 8.527341732478266e-05),\n",
       " (0.254, 7.628863792219498e-05),\n",
       " (0.255, 7.628863792219498e-05),\n",
       " (0.256, 7.628863792219498e-05),\n",
       " (0.257, 9.950981298001427e-05),\n",
       " (0.258, 0.00010614443442502619),\n",
       " (0.259, 9.149218634252332e-05),\n",
       " (0.26, 9.149218634252332e-05),\n",
       " (0.261, 9.149218634252332e-05),\n",
       " (0.262, 0.00010476142923265819),\n",
       " (0.263, 0.00010904589272020537),\n",
       " (0.264, 0.00012563244633301274),\n",
       " (0.265, 0.00011761481969552179),\n",
       " (0.266, 9.632795016778495e-05),\n",
       " (0.267, 9.96452608902354e-05),\n",
       " (0.268, 0.00010296257161279687),\n",
       " (0.269, 0.00010627988233535834),\n",
       " (0.27, 0.00013378552088083584),\n",
       " (0.271, 0.00015037207449353218),\n",
       " (0.272, 0.00016695862810633955),\n",
       " (0.273, 0.00018216217652655686),\n",
       " (0.274, 0.00019073110350176226),\n",
       " (0.275, 0.00017041138673912215),\n",
       " (0.276, 0.0001869979403518185),\n",
       " (0.277, 0.0001969498725195029),\n",
       " (0.278, 0.0002069018046870763),\n",
       " (0.279, 0.0002012343360070501),\n",
       " (0.28, 0.0002211382003423079),\n",
       " (0.281, 0.0002187880423849542),\n",
       " (0.28200000000000003, 0.00024200921744266246),\n",
       " (0.28300000000000003, 0.0002486438388877854),\n",
       " (0.28400000000000003, 0.0002496109916527711),\n",
       " (0.28500000000000003, 0.0002458778285029384),\n",
       " (0.28600000000000003, 0.00025347960271304704),\n",
       " (0.28700000000000003, 0.00025444675547814377),\n",
       " (0.28800000000000003, 0.00025776406620070524),\n",
       " (0.28900000000000003, 0.0002753177725784983),\n",
       " (0.29, 0.00030185625835876806),\n",
       " (0.291, 0.00032936189690413453),\n",
       " (0.292, 0.00036253500412963824),\n",
       " (0.293, 0.0003734540890624194),\n",
       " (0.294, 0.00038769048471754),\n",
       " (0.295, 0.00036972092591247563),\n",
       " (0.296, 0.0003872746322902687),\n",
       " (0.297, 0.00040772979696312994),\n",
       " (0.298, 0.0004342682827435107),\n",
       " (0.299, 0.00044753752563364557),\n",
       " (0.3, 0.0004518219891213038),\n",
       " (0.301, 0.0005001986447670248),\n",
       " (0.302, 0.0005310215940350638),\n",
       " (0.303, 0.0005405576737752549),\n",
       " (0.304, 0.000551476758707925),\n",
       " (0.305, 0.0005623958436405951),\n",
       " (0.306, 0.0005572796752982834),\n",
       " (0.307, 0.0005900369300964048),\n",
       " (0.308, 0.0006062076312817188),\n",
       " (0.309, 0.0006346804225922931),\n",
       " (0.31, 0.0006039929212346973),\n",
       " (0.311, 0.0006225137803774761),\n",
       " (0.312, 0.0005984609004648922),\n",
       " (0.313, 0.0005730250153600513),\n",
       " (0.314, 0.0006110338864108167),\n",
       " (0.315, 0.0006021845549184501),\n",
       " (0.316, 0.0006306573462290244),\n",
       " (0.317, 0.0006421277314994089),\n",
       " (0.318, 0.0006782022970200918),\n",
       " (0.319, 0.0006863553715678039),\n",
       " (0.32, 0.0006746045817804802),\n",
       " (0.321, 0.0006983770571759029),\n",
       " (0.322, 0.0007003113627060964),\n",
       " (0.323, 0.0007074972844888228),\n",
       " (0.324, 0.0006881447204913904),\n",
       " (0.325, 0.0006574572191337946),\n",
       " (0.326, 0.0006618771305315629),\n",
       " (0.327, 0.0006837153003970142),\n",
       " (0.328, 0.0006819164427772639),\n",
       " (0.329, 0.0007349934143380255),\n",
       " (0.33, 0.0007601488949258162),\n",
       " (0.331, 0.0007597330424984339),\n",
       " (0.332, 0.0007944246028267488),\n",
       " (0.333, 0.0007930415976342697),\n",
       " (0.334, 0.0007949759031643522),\n",
       " (0.335, 0.0008381009425574293),\n",
       " (0.336, 0.0008197155313249826),\n",
       " (0.337, 0.0007956626514125098),\n",
       " (0.338, 0.0007811458512402281),\n",
       " (0.339, 0.0007986995576179101),\n",
       " (0.34, 0.0007973165524255421),\n",
       " (0.341, 0.0008115529480807737),\n",
       " (0.342, 0.0007945505420406951),\n",
       " (0.343, 0.0008244063385436373),\n",
       " (0.34400000000000003, 0.0008089223856063699),\n",
       " (0.34500000000000003, 0.0008387781821092011),\n",
       " (0.34600000000000003, 0.0008274432447490376),\n",
       " (0.34700000000000003, 0.0008407124876392835),\n",
       " (0.34800000000000003, 0.0008270273923217664),\n",
       " (0.34900000000000003, 0.000860200499547159),\n",
       " (0.35000000000000003, 0.000865452115799914),\n",
       " (0.35100000000000003, 0.0008650362633725317),\n",
       " (0.35200000000000004, 0.0009499033369662069),\n",
       " (0.353, 0.0009575051111763155),\n",
       " (0.354, 0.0009551549532188508),\n",
       " (0.355, 0.0009646910329591529),\n",
       " (0.356, 0.0009964811349921776),\n",
       " (0.357, 0.0009960652825647953),\n",
       " (0.358, 0.0009913649666498658),\n",
       " (0.359, 0.001007535667835291),\n",
       " (0.36, 0.0010307568428929992),\n",
       " (0.361, 0.001042643080590766),\n",
       " (0.362, 0.0010568794762459977),\n",
       " (0.363, 0.0010834179620263784),\n",
       " (0.364, 0.0010754003353887764),\n",
       " (0.365, 0.0010763674881539842),\n",
       " (0.366, 0.0010783017936839556),\n",
       " (0.367, 0.0010792689464491634),\n",
       " (0.368, 0.001058533377259141),\n",
       " (0.369, 0.0010614348355543202),\n",
       " (0.37, 0.001074704078444455),\n",
       " (0.371, 0.0010780213891670165),\n",
       " (0.372, 0.0010832730054196604),\n",
       " (0.373, 0.0010842401581847572),\n",
       " (0.374, 0.001096126395882413),\n",
       " (0.375, 0.0010824413005648958),\n",
       " (0.376, 0.0010697233580124754),\n",
       " (0.377, 0.0010683403528199964),\n",
       " (0.378, 0.0010646071896701637),\n",
       " (0.379, 0.0010655743424352604),\n",
       " (0.38, 0.001112016692550899),\n",
       " (0.381, 0.001103999065913297),\n",
       " (0.382, 0.0011149181508460781),\n",
       " (0.383, 0.0010799461860008241),\n",
       " (0.384, 0.0010686112486407717),\n",
       " (0.385, 0.001051608842600693),\n",
       " (0.386, 0.0010791144811460596),\n",
       " (0.387, 0.0010328075789408642),\n",
       " (0.388, 0.0010314245737483851),\n",
       " (0.389, 0.0010267242578334557),\n",
       " (0.39, 0.0010575472071013836),\n",
       " (0.391, 0.0010561642019090156),\n",
       " (0.392, 0.0010760680662442734),\n",
       " (0.393, 0.001090304461899394),\n",
       " (0.394, 0.0011301121905699096),\n",
       " (0.395, 0.001126379027420077),\n",
       " (0.396, 0.00114393273379787),\n",
       " (0.397, 0.0010933413681050164),\n",
       " (0.398, 0.0011165625431628357),\n",
       " (0.399, 0.001149319797960957),\n",
       " (0.4, 0.0011678406571037359),\n",
       " (0.401, 0.001196313448414199),\n",
       " (0.402, 0.0011916131324992696),\n",
       " (0.403, 0.0011968647487519135),\n",
       " (0.404, 0.0012210530765748295),\n",
       " (0.405, 0.0012428912464400588),\n",
       " (0.406, 0.0012770315064306592),\n",
       " (0.40700000000000003, 0.001313106071951342),\n",
       " (0.40800000000000003, 0.0013150403774813135),\n",
       " (0.40900000000000003, 0.0013179418357764927),\n",
       " (0.41000000000000003, 0.0013161429781567424),\n",
       " (0.41100000000000003, 0.0012811710133115994),\n",
       " (0.41200000000000003, 0.001275087692204191),\n",
       " (0.41300000000000003, 0.001370457998303265),\n",
       " (0.41400000000000003, 0.001354422745028172),\n",
       " (0.41500000000000004, 0.001319450780183029),\n",
       " (0.41600000000000004, 0.0013924316160789374),\n",
       " (0.41700000000000004, 0.0013584268039987801),\n",
       " (0.418, 0.0013665798785467143),\n",
       " (0.419, 0.001364781020926853),\n",
       " (0.42, 0.0013639493160720884),\n",
       " (0.421, 0.001341830741689809),\n",
       " (0.422, 0.0013423820420274124),\n",
       " (0.423, 0.0013661545174230572),\n",
       " (0.424, 0.0014145311730686672),\n",
       " (0.425, 0.0014851618510072218),\n",
       " (0.426, 0.001472028056027308),\n",
       " (0.427, 0.001498701989718021),\n",
       " (0.428, 0.0014666314831680571),\n",
       " (0.429, 0.0013854880640278289),\n",
       " (0.43, 0.0014201796243561438),\n",
       " (0.431, 0.001432617162391514),\n",
       " (0.432, 0.0013911460240115803),\n",
       " (0.433, 0.0014259730322501163),\n",
       " (0.434, 0.0015156758696691641),\n",
       " (0.435, 0.001551750435189736),\n",
       " (0.436, 0.0014690885629469186),\n",
       " (0.437, 0.001485810564469947),\n",
       " (0.438, 0.001517736114413304),\n",
       " (0.439, 0.0015227073261488977),\n",
       " (0.44, 0.0014931224254667308),\n",
       " (0.441, 0.0015392843710653192),\n",
       " (0.442, 0.0016067331861916445),\n",
       " (0.443, 0.0016107372451621416),\n",
       " (0.444, 0.0016871708396910545),\n",
       " (0.445, 0.0017157790789118499),\n",
       " (0.446, 0.0017482559291929212),\n",
       " (0.447, 0.0018367112093298221),\n",
       " (0.448, 0.0020235832104676943),\n",
       " (0.449, 0.0022523326937164967),\n",
       " (0.45, 0.0023861277232936073),\n",
       " (0.451, 0.002539962065116308),\n",
       " (0.452, 0.0025982811442334386),\n",
       " (0.453, 0.0027888767998248687),\n",
       " (0.454, 0.0031190799102801536),\n",
       " (0.455, 0.0033674528533471637),\n",
       " (0.456, 0.0035538994933613788),\n",
       " (0.457, 0.003748779612440356),\n",
       " (0.458, 0.003830455314525527),\n",
       " (0.459, 0.0042282426880174695),\n",
       " (0.46, 0.004515582146203956),\n",
       " (0.461, 0.004789381465679643),\n",
       " (0.462, 0.005188967696791336),\n",
       " (0.463, 0.005482535432691948),\n",
       " (0.464, 0.0057065750913294355),\n",
       " (0.465, 0.006002492985187513),\n",
       " (0.466, 0.0062146368974309585),\n",
       " (0.467, 0.00664834437114048),\n",
       " (0.468, 0.007087448417709252),\n",
       " (0.46900000000000003, 0.007456753491194457),\n",
       " (0.47000000000000003, 0.007748928713206205),\n",
       " (0.47100000000000003, 0.00786763662488077),\n",
       " (0.47200000000000003, 0.00815912509864447),\n",
       " (0.47300000000000003, 0.009051695526651526),\n",
       " (0.47400000000000003, 0.009532947951152004),\n",
       " (0.47500000000000003, 0.010359210199493374),\n",
       " (0.47600000000000003, 0.010697266962586771),\n",
       " (0.47700000000000004, 0.011043205904407438),\n",
       " (0.47800000000000004, 0.011360527098310813),\n",
       " (0.47900000000000004, 0.012167698169778918),\n",
       " (0.48000000000000004, 0.013693874945791662),\n",
       " (0.481, 0.015207333779251986),\n",
       " (0.482, 0.016648237137939947),\n",
       " (0.483, 0.017345086233316764),\n",
       " (0.484, 0.01840448935021588),\n",
       " (0.485, 0.019265676019920797),\n",
       " (0.486, 0.02066783621582835),\n",
       " (0.487, 0.022099010994687807),\n",
       " (0.488, 0.02335795651179562),\n",
       " (0.489, 0.023964214012720753),\n",
       " (0.49, 0.024633771313194996),\n",
       " (0.491, 0.025024085177852373),\n",
       " (0.492, 0.025740859481118927),\n",
       " (0.493, 0.026480422415784965),\n",
       " (0.494, 0.029117698397177594),\n",
       " (0.495, 0.033072476488153923),\n",
       " (0.496, 0.03953560235107123),\n",
       " (0.497, 0.042457266054613196),\n",
       " (0.498, 0.043227332887097014),\n",
       " (0.499, 0.04299726361312195),\n",
       " (0.5, 0.0007538352429941383),\n",
       " (0.501, 0.0),\n",
       " (0.502, 0.0),\n",
       " (0.503, 0.0),\n",
       " (0.504, 0.0),\n",
       " (0.505, 0.0),\n",
       " (0.506, 0.0),\n",
       " (0.507, 0.0),\n",
       " (0.508, 0.0),\n",
       " (0.509, 0.0),\n",
       " (0.51, 0.0),\n",
       " (0.511, 0.0),\n",
       " (0.512, 0.0),\n",
       " (0.513, 0.0),\n",
       " (0.514, 0.0),\n",
       " (0.515, 0.0),\n",
       " (0.516, 0.0),\n",
       " (0.517, 0.0),\n",
       " (0.518, 0.0),\n",
       " (0.519, 0.0),\n",
       " (0.52, 0.0),\n",
       " (0.521, 0.0),\n",
       " (0.522, 0.0),\n",
       " (0.523, 0.0),\n",
       " (0.524, 0.0),\n",
       " (0.525, 0.0),\n",
       " (0.526, 0.0),\n",
       " (0.527, 0.0),\n",
       " (0.528, 0.0),\n",
       " (0.529, 0.0),\n",
       " (0.53, 0.0),\n",
       " (0.531, 0.0),\n",
       " (0.532, 0.0),\n",
       " (0.533, 0.0),\n",
       " (0.534, 0.0),\n",
       " (0.535, 0.0),\n",
       " (0.536, 0.0),\n",
       " (0.537, 0.0),\n",
       " (0.538, 0.0),\n",
       " (0.539, 0.0),\n",
       " (0.54, 0.0),\n",
       " (0.541, 0.0),\n",
       " (0.542, 0.0),\n",
       " (0.543, 0.0),\n",
       " (0.544, 0.0),\n",
       " (0.545, 0.0),\n",
       " (0.546, 0.0),\n",
       " (0.547, 0.0),\n",
       " (0.548, 0.0),\n",
       " (0.549, 0.0),\n",
       " (0.55, 0.0),\n",
       " (0.551, 0.0),\n",
       " (0.552, 0.0),\n",
       " (0.553, 0.0),\n",
       " (0.554, 0.0),\n",
       " (0.555, 0.0),\n",
       " (0.556, 0.0),\n",
       " (0.557, 0.0),\n",
       " (0.558, 0.0),\n",
       " (0.559, 0.0),\n",
       " (0.56, 0.0),\n",
       " (0.561, 0.0),\n",
       " (0.562, 0.0),\n",
       " (0.5630000000000001, 0.0),\n",
       " (0.5640000000000001, 0.0),\n",
       " (0.5650000000000001, 0.0),\n",
       " (0.5660000000000001, 0.0),\n",
       " (0.5670000000000001, 0.0),\n",
       " (0.5680000000000001, 0.0),\n",
       " (0.5690000000000001, 0.0),\n",
       " (0.5700000000000001, 0.0),\n",
       " (0.5710000000000001, 0.0),\n",
       " (0.5720000000000001, 0.0),\n",
       " (0.5730000000000001, 0.0),\n",
       " (0.5740000000000001, 0.0),\n",
       " (0.5750000000000001, 0.0),\n",
       " (0.5760000000000001, 0.0),\n",
       " (0.5770000000000001, 0.0),\n",
       " (0.578, 0.0),\n",
       " (0.579, 0.0),\n",
       " (0.58, 0.0),\n",
       " (0.581, 0.0),\n",
       " (0.582, 0.0),\n",
       " (0.583, 0.0),\n",
       " (0.584, 0.0),\n",
       " (0.585, 0.0),\n",
       " (0.586, 0.0),\n",
       " (0.587, 0.0),\n",
       " (0.588, 0.0),\n",
       " (0.589, 0.0),\n",
       " (0.59, 0.0),\n",
       " (0.591, 0.0),\n",
       " (0.592, 0.0),\n",
       " (0.593, 0.0),\n",
       " (0.594, 0.0),\n",
       " (0.595, 0.0),\n",
       " (0.596, 0.0),\n",
       " (0.597, 0.0),\n",
       " (0.598, 0.0),\n",
       " (0.599, 0.0),\n",
       " (0.6, 0.0),\n",
       " (0.601, 0.0),\n",
       " (0.602, 0.0),\n",
       " (0.603, 0.0),\n",
       " (0.604, 0.0),\n",
       " (0.605, 0.0),\n",
       " (0.606, 0.0),\n",
       " (0.607, 0.0),\n",
       " (0.608, 0.0),\n",
       " (0.609, 0.0),\n",
       " (0.61, 0.0),\n",
       " (0.611, 0.0),\n",
       " (0.612, 0.0),\n",
       " (0.613, 0.0),\n",
       " (0.614, 0.0),\n",
       " (0.615, 0.0),\n",
       " (0.616, 0.0),\n",
       " (0.617, 0.0),\n",
       " (0.618, 0.0),\n",
       " (0.619, 0.0),\n",
       " (0.62, 0.0),\n",
       " (0.621, 0.0),\n",
       " (0.622, 0.0),\n",
       " (0.623, 0.0),\n",
       " (0.624, 0.0),\n",
       " (0.625, 0.0),\n",
       " (0.626, 0.0),\n",
       " (0.627, 0.0),\n",
       " (0.628, 0.0),\n",
       " (0.629, 0.0),\n",
       " (0.63, 0.0),\n",
       " (0.631, 0.0),\n",
       " (0.632, 0.0),\n",
       " (0.633, 0.0),\n",
       " (0.634, 0.0),\n",
       " (0.635, 0.0),\n",
       " (0.636, 0.0),\n",
       " (0.637, 0.0),\n",
       " (0.638, 0.0),\n",
       " (0.639, 0.0),\n",
       " (0.64, 0.0),\n",
       " (0.641, 0.0),\n",
       " (0.642, 0.0),\n",
       " (0.643, 0.0),\n",
       " (0.644, 0.0),\n",
       " (0.645, 0.0),\n",
       " (0.646, 0.0),\n",
       " (0.647, 0.0),\n",
       " (0.648, 0.0),\n",
       " (0.649, 0.0),\n",
       " (0.65, 0.0),\n",
       " (0.651, 0.0),\n",
       " (0.652, 0.0),\n",
       " (0.653, 0.0),\n",
       " (0.654, 0.0),\n",
       " (0.655, 0.0),\n",
       " (0.656, 0.0),\n",
       " (0.657, 0.0),\n",
       " (0.658, 0.0),\n",
       " (0.659, 0.0),\n",
       " (0.66, 0.0),\n",
       " (0.661, 0.0),\n",
       " (0.662, 0.0),\n",
       " (0.663, 0.0),\n",
       " (0.664, 0.0),\n",
       " (0.665, 0.0),\n",
       " (0.666, 0.0),\n",
       " (0.667, 0.0),\n",
       " (0.668, 0.0),\n",
       " (0.669, 0.0),\n",
       " (0.67, 0.0),\n",
       " (0.671, 0.0),\n",
       " (0.672, 0.0),\n",
       " (0.673, 0.0),\n",
       " (0.674, 0.0),\n",
       " (0.675, 0.0),\n",
       " (0.676, 0.0),\n",
       " (0.677, 0.0),\n",
       " (0.678, 0.0),\n",
       " (0.679, 0.0),\n",
       " (0.68, 0.0),\n",
       " (0.681, 0.0),\n",
       " (0.682, 0.0),\n",
       " (0.683, 0.0),\n",
       " (0.684, 0.0),\n",
       " (0.685, 0.0),\n",
       " (0.686, 0.0),\n",
       " (0.687, 0.0),\n",
       " (0.6880000000000001, 0.0),\n",
       " (0.6890000000000001, 0.0),\n",
       " (0.6900000000000001, 0.0),\n",
       " (0.6910000000000001, 0.0),\n",
       " (0.6920000000000001, 0.0),\n",
       " (0.6930000000000001, 0.0),\n",
       " (0.6940000000000001, 0.0),\n",
       " (0.6950000000000001, 0.0),\n",
       " (0.6960000000000001, 0.0),\n",
       " (0.6970000000000001, 0.0),\n",
       " (0.6980000000000001, 0.0),\n",
       " (0.6990000000000001, 0.0),\n",
       " (0.7000000000000001, 0.0),\n",
       " (0.7010000000000001, 0.0),\n",
       " (0.7020000000000001, 0.0),\n",
       " (0.7030000000000001, 0.0),\n",
       " (0.7040000000000001, 0.0),\n",
       " (0.705, 0.0),\n",
       " (0.706, 0.0),\n",
       " (0.707, 0.0),\n",
       " (0.708, 0.0),\n",
       " (0.709, 0.0),\n",
       " (0.71, 0.0),\n",
       " (0.711, 0.0),\n",
       " (0.712, 0.0),\n",
       " (0.713, 0.0),\n",
       " (0.714, 0.0),\n",
       " (0.715, 0.0),\n",
       " (0.716, 0.0),\n",
       " (0.717, 0.0),\n",
       " (0.718, 0.0),\n",
       " (0.719, 0.0),\n",
       " (0.72, 0.0),\n",
       " (0.721, 0.0),\n",
       " (0.722, 0.0),\n",
       " (0.723, 0.0),\n",
       " (0.724, 0.0),\n",
       " (0.725, 0.0),\n",
       " (0.726, 0.0),\n",
       " (0.727, 0.0),\n",
       " (0.728, 0.0),\n",
       " (0.729, 0.0),\n",
       " (0.73, 0.0),\n",
       " (0.731, 0.0),\n",
       " (0.732, 0.0),\n",
       " (0.733, 0.0),\n",
       " (0.734, 0.0),\n",
       " (0.735, 0.0),\n",
       " (0.736, 0.0),\n",
       " (0.737, 0.0),\n",
       " (0.738, 0.0),\n",
       " (0.739, 0.0),\n",
       " (0.74, 0.0),\n",
       " (0.741, 0.0),\n",
       " (0.742, 0.0),\n",
       " (0.743, 0.0),\n",
       " (0.744, 0.0),\n",
       " (0.745, 0.0),\n",
       " (0.746, 0.0),\n",
       " (0.747, 0.0),\n",
       " (0.748, 0.0),\n",
       " (0.749, 0.0),\n",
       " (0.75, 0.0),\n",
       " (0.751, 0.0),\n",
       " (0.752, 0.0),\n",
       " (0.753, 0.0),\n",
       " (0.754, 0.0),\n",
       " (0.755, 0.0),\n",
       " (0.756, 0.0),\n",
       " (0.757, 0.0),\n",
       " (0.758, 0.0),\n",
       " (0.759, 0.0),\n",
       " (0.76, 0.0),\n",
       " (0.761, 0.0),\n",
       " (0.762, 0.0),\n",
       " (0.763, 0.0),\n",
       " (0.764, 0.0),\n",
       " (0.765, 0.0),\n",
       " (0.766, 0.0),\n",
       " (0.767, 0.0),\n",
       " (0.768, 0.0),\n",
       " (0.769, 0.0),\n",
       " (0.77, 0.0),\n",
       " (0.771, 0.0),\n",
       " (0.772, 0.0),\n",
       " (0.773, 0.0),\n",
       " (0.774, 0.0),\n",
       " (0.775, 0.0),\n",
       " (0.776, 0.0),\n",
       " (0.777, 0.0),\n",
       " (0.778, 0.0),\n",
       " (0.779, 0.0),\n",
       " (0.78, 0.0),\n",
       " (0.781, 0.0),\n",
       " (0.782, 0.0),\n",
       " (0.783, 0.0),\n",
       " (0.784, 0.0),\n",
       " (0.785, 0.0),\n",
       " (0.786, 0.0),\n",
       " (0.787, 0.0),\n",
       " (0.788, 0.0),\n",
       " (0.789, 0.0),\n",
       " (0.79, 0.0),\n",
       " (0.791, 0.0),\n",
       " (0.792, 0.0),\n",
       " (0.793, 0.0),\n",
       " (0.794, 0.0),\n",
       " (0.795, 0.0),\n",
       " (0.796, 0.0),\n",
       " (0.797, 0.0),\n",
       " (0.798, 0.0),\n",
       " (0.799, 0.0),\n",
       " (0.8, 0.0),\n",
       " (0.801, 0.0),\n",
       " (0.802, 0.0),\n",
       " (0.803, 0.0),\n",
       " (0.804, 0.0),\n",
       " (0.805, 0.0),\n",
       " (0.806, 0.0),\n",
       " (0.807, 0.0),\n",
       " (0.808, 0.0),\n",
       " (0.809, 0.0),\n",
       " (0.81, 0.0),\n",
       " (0.811, 0.0),\n",
       " (0.812, 0.0),\n",
       " (0.8130000000000001, 0.0),\n",
       " (0.8140000000000001, 0.0),\n",
       " (0.8150000000000001, 0.0),\n",
       " (0.8160000000000001, 0.0),\n",
       " (0.8170000000000001, 0.0),\n",
       " (0.8180000000000001, 0.0),\n",
       " (0.8190000000000001, 0.0),\n",
       " (0.8200000000000001, 0.0),\n",
       " (0.8210000000000001, 0.0),\n",
       " (0.8220000000000001, 0.0),\n",
       " (0.8230000000000001, 0.0),\n",
       " (0.8240000000000001, 0.0),\n",
       " (0.8250000000000001, 0.0),\n",
       " (0.8260000000000001, 0.0),\n",
       " (0.8270000000000001, 0.0),\n",
       " (0.8280000000000001, 0.0),\n",
       " (0.8290000000000001, 0.0),\n",
       " (0.8300000000000001, 0.0),\n",
       " (0.8310000000000001, 0.0),\n",
       " (0.8320000000000001, 0.0),\n",
       " (0.8330000000000001, 0.0),\n",
       " (0.834, 0.0),\n",
       " (0.835, 0.0),\n",
       " (0.836, 0.0),\n",
       " (0.837, 0.0),\n",
       " (0.838, 0.0),\n",
       " (0.839, 0.0),\n",
       " (0.84, 0.0),\n",
       " (0.841, 0.0),\n",
       " (0.842, 0.0),\n",
       " (0.843, 0.0),\n",
       " (0.844, 0.0),\n",
       " (0.845, 0.0),\n",
       " (0.846, 0.0),\n",
       " (0.847, 0.0),\n",
       " (0.848, 0.0),\n",
       " (0.849, 0.0),\n",
       " (0.85, 0.0),\n",
       " (0.851, 0.0),\n",
       " (0.852, 0.0),\n",
       " (0.853, 0.0),\n",
       " (0.854, 0.0),\n",
       " (0.855, 0.0),\n",
       " (0.856, 0.0),\n",
       " (0.857, 0.0),\n",
       " (0.858, 0.0),\n",
       " (0.859, 0.0),\n",
       " (0.86, 0.0),\n",
       " (0.861, 0.0),\n",
       " (0.862, 0.0),\n",
       " (0.863, 0.0),\n",
       " (0.864, 0.0),\n",
       " (0.865, 0.0),\n",
       " (0.866, 0.0),\n",
       " (0.867, 0.0),\n",
       " (0.868, 0.0),\n",
       " (0.869, 0.0),\n",
       " (0.87, 0.0),\n",
       " (0.871, 0.0),\n",
       " (0.872, 0.0),\n",
       " (0.873, 0.0),\n",
       " (0.874, 0.0),\n",
       " (0.875, 0.0),\n",
       " (0.876, 0.0),\n",
       " (0.877, 0.0),\n",
       " (0.878, 0.0),\n",
       " (0.879, 0.0),\n",
       " (0.88, 0.0),\n",
       " (0.881, 0.0),\n",
       " (0.882, 0.0),\n",
       " (0.883, 0.0),\n",
       " (0.884, 0.0),\n",
       " (0.885, 0.0),\n",
       " (0.886, 0.0),\n",
       " (0.887, 0.0),\n",
       " (0.888, 0.0),\n",
       " (0.889, 0.0),\n",
       " (0.89, 0.0),\n",
       " (0.891, 0.0),\n",
       " (0.892, 0.0),\n",
       " (0.893, 0.0),\n",
       " (0.894, 0.0),\n",
       " (0.895, 0.0),\n",
       " (0.896, 0.0),\n",
       " (0.897, 0.0),\n",
       " (0.898, 0.0),\n",
       " (0.899, 0.0),\n",
       " (0.9, 0.0),\n",
       " (0.901, 0.0),\n",
       " (0.902, 0.0),\n",
       " (0.903, 0.0),\n",
       " (0.904, 0.0),\n",
       " (0.905, 0.0),\n",
       " (0.906, 0.0),\n",
       " (0.907, 0.0),\n",
       " (0.908, 0.0),\n",
       " (0.909, 0.0),\n",
       " (0.91, 0.0),\n",
       " (0.911, 0.0),\n",
       " (0.912, 0.0),\n",
       " (0.913, 0.0),\n",
       " (0.914, 0.0),\n",
       " (0.915, 0.0),\n",
       " (0.916, 0.0),\n",
       " (0.917, 0.0),\n",
       " (0.918, 0.0),\n",
       " (0.919, 0.0),\n",
       " (0.92, 0.0),\n",
       " (0.921, 0.0),\n",
       " (0.922, 0.0),\n",
       " (0.923, 0.0),\n",
       " (0.924, 0.0),\n",
       " (0.925, 0.0),\n",
       " (0.926, 0.0),\n",
       " (0.927, 0.0),\n",
       " (0.928, 0.0),\n",
       " (0.929, 0.0),\n",
       " (0.93, 0.0),\n",
       " (0.931, 0.0),\n",
       " (0.932, 0.0),\n",
       " (0.933, 0.0),\n",
       " (0.934, 0.0),\n",
       " (0.935, 0.0),\n",
       " (0.936, 0.0),\n",
       " (0.937, 0.0),\n",
       " (0.9380000000000001, 0.0),\n",
       " (0.9390000000000001, 0.0),\n",
       " (0.9400000000000001, 0.0),\n",
       " (0.9410000000000001, 0.0),\n",
       " (0.9420000000000001, 0.0),\n",
       " (0.9430000000000001, 0.0),\n",
       " (0.9440000000000001, 0.0),\n",
       " (0.9450000000000001, 0.0),\n",
       " (0.9460000000000001, 0.0),\n",
       " (0.9470000000000001, 0.0),\n",
       " (0.9480000000000001, 0.0),\n",
       " (0.9490000000000001, 0.0),\n",
       " (0.9500000000000001, 0.0),\n",
       " (0.9510000000000001, 0.0),\n",
       " (0.9520000000000001, 0.0),\n",
       " (0.9530000000000001, 0.0),\n",
       " (0.9540000000000001, 0.0),\n",
       " (0.9550000000000001, 0.0),\n",
       " (0.9560000000000001, 0.0),\n",
       " (0.9570000000000001, 0.0),\n",
       " (0.9580000000000001, 0.0),\n",
       " (0.9590000000000001, 0.0),\n",
       " (0.9600000000000001, 0.0),\n",
       " (0.961, 0.0),\n",
       " (0.962, 0.0),\n",
       " (0.963, 0.0),\n",
       " (0.964, 0.0),\n",
       " (0.965, 0.0),\n",
       " (0.966, 0.0),\n",
       " (0.967, 0.0),\n",
       " (0.968, 0.0),\n",
       " (0.969, 0.0),\n",
       " (0.97, 0.0),\n",
       " (0.971, 0.0),\n",
       " (0.972, 0.0),\n",
       " (0.973, 0.0),\n",
       " (0.974, 0.0),\n",
       " (0.975, 0.0),\n",
       " (0.976, 0.0),\n",
       " (0.977, 0.0),\n",
       " (0.978, 0.0),\n",
       " (0.979, 0.0),\n",
       " (0.98, 0.0),\n",
       " (0.981, 0.0),\n",
       " (0.982, 0.0),\n",
       " (0.983, 0.0),\n",
       " (0.984, 0.0),\n",
       " (0.985, 0.0),\n",
       " (0.986, 0.0),\n",
       " (0.987, 0.0),\n",
       " (0.988, 0.0),\n",
       " (0.989, 0.0),\n",
       " (0.99, 0.0),\n",
       " (0.991, 0.0),\n",
       " (0.992, 0.0),\n",
       " (0.993, 0.0),\n",
       " (0.994, 0.0),\n",
       " (0.995, 0.0),\n",
       " (0.996, 0.0),\n",
       " (0.997, 0.0),\n",
       " (0.998, 0.0),\n",
       " (0.999, 0.0)]"
      ]
     },
     "execution_count": 98,
     "metadata": {},
     "output_type": "execute_result"
    }
   ],
   "source": [
    "list(zip(cutoffs,KS_all))"
   ]
  },
  {
   "cell_type": "code",
   "execution_count": 135,
   "metadata": {},
   "outputs": [],
   "source": [
    "# Decision tree classifier with Random Search CV\n",
    "from sklearn.model_selection import RandomizedSearchCV"
   ]
  },
  {
   "cell_type": "code",
   "execution_count": 136,
   "metadata": {},
   "outputs": [],
   "source": [
    "from sklearn.tree import DecisionTreeClassifier"
   ]
  },
  {
   "cell_type": "code",
   "execution_count": 137,
   "metadata": {},
   "outputs": [],
   "source": [
    "params={\n",
    "    'class_weight':['balanced',None],\n",
    "    'criterion':['entropy','gini'],\n",
    "    'max_depth':[None,5,10,15,20,30,50,70],\n",
    "    'min_samples_leaf':[1,2,5,10,15,20],\n",
    "    'min_samples_split':[2,5,10,15,20]\n",
    "}"
   ]
  },
  {
   "cell_type": "code",
   "execution_count": 138,
   "metadata": {},
   "outputs": [],
   "source": [
    "clf=DecisionTreeClassifier()"
   ]
  },
  {
   "cell_type": "code",
   "execution_count": 139,
   "metadata": {},
   "outputs": [],
   "source": [
    "random_search=RandomizedSearchCV(clf,cv=10,param_distributions=params,scoring='roc_auc',n_iter=20,n_jobs=-1,verbose=False)"
   ]
  },
  {
   "cell_type": "code",
   "execution_count": 82,
   "metadata": {},
   "outputs": [
    {
     "data": {
      "text/plain": [
       "RandomizedSearchCV(cv=10, estimator=DecisionTreeClassifier(), n_iter=20,\n",
       "                   n_jobs=-1,\n",
       "                   param_distributions={'class_weight': ['balanced', None],\n",
       "                                        'criterion': ['entropy', 'gini'],\n",
       "                                        'max_depth': [None, 5, 10, 15, 20, 30,\n",
       "                                                      50, 70],\n",
       "                                        'min_samples_leaf': [1, 2, 5, 10, 15,\n",
       "                                                             20],\n",
       "                                        'min_samples_split': [2, 5, 10, 15,\n",
       "                                                              20]},\n",
       "                   scoring='roc_auc', verbose=False)"
      ]
     },
     "execution_count": 82,
     "metadata": {},
     "output_type": "execute_result"
    }
   ],
   "source": [
    "random_search.fit(x_train,y_train)"
   ]
  },
  {
   "cell_type": "code",
   "execution_count": 83,
   "metadata": {},
   "outputs": [],
   "source": [
    "def report(results, n_top=3):\n",
    "    for i in range(1,n_top+1):\n",
    "        candidates = np.flatnonzero(results['rank_test_score']== i)\n",
    "        \n",
    "        for candidate in candidates:\n",
    "            print('Model with rank: {0}'.format(i))\n",
    "            print('Mean Validation Score: {0:.8f} (std:{1:.3f})'.format(\n",
    "                    results['mean_test_score'][candidate],\n",
    "                    results['std_test_score'][candidate]))\n",
    "            print(\"Parameters:{0}\".format(results['params'][candidate]))\n",
    "            print(\"\")"
   ]
  },
  {
   "cell_type": "code",
   "execution_count": 84,
   "metadata": {},
   "outputs": [
    {
     "name": "stdout",
     "output_type": "stream",
     "text": [
      "Model with rank: 1\n",
      "Mean Validation Score: 0.62572253 (std:0.003)\n",
      "Parameters:{'min_samples_split': 10, 'min_samples_leaf': 15, 'max_depth': 10, 'criterion': 'gini', 'class_weight': None}\n",
      "\n",
      "Model with rank: 2\n",
      "Mean Validation Score: 0.62188867 (std:0.002)\n",
      "Parameters:{'min_samples_split': 10, 'min_samples_leaf': 5, 'max_depth': 15, 'criterion': 'gini', 'class_weight': None}\n",
      "\n",
      "Model with rank: 3\n",
      "Mean Validation Score: 0.62136421 (std:0.004)\n",
      "Parameters:{'min_samples_split': 10, 'min_samples_leaf': 10, 'max_depth': 15, 'criterion': 'entropy', 'class_weight': None}\n",
      "\n"
     ]
    }
   ],
   "source": [
    "report(random_search.cv_results_,3)"
   ]
  },
  {
   "cell_type": "code",
   "execution_count": 85,
   "metadata": {},
   "outputs": [
    {
     "data": {
      "text/plain": [
       "DecisionTreeClassifier(max_depth=10, min_samples_leaf=15, min_samples_split=10)"
      ]
     },
     "execution_count": 85,
     "metadata": {},
     "output_type": "execute_result"
    }
   ],
   "source": [
    "random_search.best_estimator_"
   ]
  },
  {
   "cell_type": "code",
   "execution_count": 86,
   "metadata": {},
   "outputs": [],
   "source": [
    "dtree=random_search.best_estimator_"
   ]
  },
  {
   "cell_type": "code",
   "execution_count": 87,
   "metadata": {},
   "outputs": [
    {
     "data": {
      "text/plain": [
       "DecisionTreeClassifier(max_depth=10, min_samples_leaf=15, min_samples_split=10)"
      ]
     },
     "execution_count": 87,
     "metadata": {},
     "output_type": "execute_result"
    }
   ],
   "source": [
    "dtree.fit(x_train,y_train)"
   ]
  },
  {
   "cell_type": "code",
   "execution_count": 89,
   "metadata": {},
   "outputs": [
    {
     "data": {
      "text/plain": [
       "array([[0.77486769, 0.22513231],\n",
       "       [0.917926  , 0.082074  ],\n",
       "       [0.73633686, 0.26366314],\n",
       "       ...,\n",
       "       [0.76454733, 0.23545267],\n",
       "       [0.77486769, 0.22513231],\n",
       "       [0.80779944, 0.19220056]])"
      ]
     },
     "execution_count": 89,
     "metadata": {},
     "output_type": "execute_result"
    }
   ],
   "source": [
    "dtree.predict_proba(x_train)"
   ]
  },
  {
   "cell_type": "code",
   "execution_count": 90,
   "metadata": {},
   "outputs": [
    {
     "data": {
      "text/plain": [
       "array([0, 1])"
      ]
     },
     "execution_count": 90,
     "metadata": {},
     "output_type": "execute_result"
    }
   ],
   "source": [
    "dtree.classes_"
   ]
  },
  {
   "cell_type": "code",
   "execution_count": 91,
   "metadata": {},
   "outputs": [],
   "source": [
    "train_score=dtree.predict_proba(x_train)[:,1]"
   ]
  },
  {
   "cell_type": "code",
   "execution_count": 92,
   "metadata": {},
   "outputs": [
    {
     "data": {
      "text/plain": [
       "array([0.22513231, 0.082074  , 0.26366314, ..., 0.23545267, 0.22513231,\n",
       "       0.19220056])"
      ]
     },
     "execution_count": 92,
     "metadata": {},
     "output_type": "execute_result"
    }
   ],
   "source": [
    "train_score"
   ]
  },
  {
   "cell_type": "code",
   "execution_count": 93,
   "metadata": {},
   "outputs": [],
   "source": [
    "real=y_train"
   ]
  },
  {
   "cell_type": "code",
   "execution_count": 94,
   "metadata": {},
   "outputs": [
    {
     "data": {
      "text/plain": [
       "array([0.01, 0.02, 0.03, 0.04, 0.05, 0.06, 0.07, 0.08, 0.09, 0.1 , 0.11,\n",
       "       0.12, 0.13, 0.14, 0.15, 0.16, 0.17, 0.18, 0.19, 0.2 , 0.21, 0.22,\n",
       "       0.23, 0.24, 0.25, 0.26, 0.27, 0.28, 0.29, 0.3 , 0.31, 0.32, 0.33,\n",
       "       0.34, 0.35, 0.36, 0.37, 0.38, 0.39, 0.4 , 0.41, 0.42, 0.43, 0.44,\n",
       "       0.45, 0.46, 0.47, 0.48, 0.49, 0.5 , 0.51, 0.52, 0.53, 0.54, 0.55,\n",
       "       0.56, 0.57, 0.58, 0.59, 0.6 , 0.61, 0.62, 0.63, 0.64, 0.65, 0.66,\n",
       "       0.67, 0.68, 0.69, 0.7 , 0.71, 0.72, 0.73, 0.74, 0.75, 0.76, 0.77,\n",
       "       0.78, 0.79, 0.8 , 0.81, 0.82, 0.83, 0.84, 0.85, 0.86, 0.87, 0.88,\n",
       "       0.89, 0.9 , 0.91, 0.92, 0.93, 0.94, 0.95, 0.96, 0.97, 0.98, 0.99])"
      ]
     },
     "execution_count": 94,
     "metadata": {},
     "output_type": "execute_result"
    }
   ],
   "source": [
    "cutoffs=np.linspace(0.01,0.99,99)\n",
    "cutoffs"
   ]
  },
  {
   "cell_type": "code",
   "execution_count": 95,
   "metadata": {},
   "outputs": [],
   "source": [
    "KS_all =[]\n",
    "for cutoff in cutoffs:\n",
    "    \n",
    "    predicted = (train_score > cutoff).astype(int)\n",
    "    \n",
    "    TP = ((real==1)&(predicted==1)).sum()\n",
    "    FP= ((real==0) &(predicted==1)).sum()\n",
    "    TN = ((real==0)&(predicted==0)).sum()\n",
    "    FN = ((real==1)&(predicted==0)).sum()\n",
    "    \n",
    "    P = TP+FN\n",
    "    N = TN+FP\n",
    "    \n",
    "    KS = (TP/P)-(FP/N)\n",
    "    \n",
    "    KS_all.append(KS)"
   ]
  },
  {
   "cell_type": "code",
   "execution_count": 96,
   "metadata": {},
   "outputs": [
    {
     "data": {
      "text/plain": [
       "[(0.01, 0.0012804819389017341),\n",
       " (0.02, 0.0020065571347114286),\n",
       " (0.03, 0.0037314137538273506),\n",
       " (0.04, 0.00974331940975215),\n",
       " (0.05, 0.010003588099213312),\n",
       " (0.060000000000000005, 0.023154802643426065),\n",
       " (0.06999999999999999, 0.02653565553525017),\n",
       " (0.08, 0.03408228787677037),\n",
       " (0.09, 0.042606395754676285),\n",
       " (0.09999999999999999, 0.05505876266326948),\n",
       " (0.11, 0.08295374073803663),\n",
       " (0.12, 0.12843037985996764),\n",
       " (0.13, 0.14875923039877204),\n",
       " (0.14, 0.15362894977866426),\n",
       " (0.15000000000000002, 0.15742235154004602),\n",
       " (0.16, 0.16249111188945276),\n",
       " (0.17, 0.1667889610504656),\n",
       " (0.18000000000000002, 0.17716325583765047),\n",
       " (0.19, 0.1847172399930158),\n",
       " (0.2, 0.1867690629297094),\n",
       " (0.21000000000000002, 0.18950966452718926),\n",
       " (0.22, 0.18904262907285269),\n",
       " (0.23, 0.18213664282021896),\n",
       " (0.24000000000000002, 0.1777229652501245),\n",
       " (0.25, 0.17400914768573444),\n",
       " (0.26, 0.16007474039036013),\n",
       " (0.27, 0.11493794472780536),\n",
       " (0.28, 0.09864459225605691),\n",
       " (0.29000000000000004, 0.09254981300635896),\n",
       " (0.3, 0.077899914877673),\n",
       " (0.31, 0.07357060801090004),\n",
       " (0.32, 0.07058106698874919),\n",
       " (0.33, 0.06379405105516063),\n",
       " (0.34, 0.05514660595881367),\n",
       " (0.35000000000000003, 0.05318815691008906),\n",
       " (0.36000000000000004, 0.05027966189395329),\n",
       " (0.37, 0.04822003962253926),\n",
       " (0.38, 0.0441442100323176),\n",
       " (0.39, 0.043636632965679475),\n",
       " (0.4, 0.04334358800402759),\n",
       " (0.41000000000000003, 0.042398242352531416),\n",
       " (0.42000000000000004, 0.04016612943224145),\n",
       " (0.43, 0.03959317330391751),\n",
       " (0.44, 0.03948065563517172),\n",
       " (0.45, 0.03847504709033206),\n",
       " (0.46, 0.03838284913834889),\n",
       " (0.47000000000000003, 0.03820412070306258),\n",
       " (0.48000000000000004, 0.03805801407466399),\n",
       " (0.49, 0.037627711816105754),\n",
       " (0.5, 0.037268320640002996),\n",
       " (0.51, 0.037268320640002996),\n",
       " (0.52, 0.03702808175409113),\n",
       " (0.53, 0.036850736323997234),\n",
       " (0.54, 0.03677554077805414),\n",
       " (0.55, 0.03656460638830745),\n",
       " (0.56, 0.03621793315475717),\n",
       " (0.5700000000000001, 0.035789429753818706),\n",
       " (0.5800000000000001, 0.03567166046882025),\n",
       " (0.59, 0.03523320513571415),\n",
       " (0.6, 0.03464905902663684),\n",
       " (0.61, 0.03464905902663684),\n",
       " (0.62, 0.03464905902663684),\n",
       " (0.63, 0.03464905902663684),\n",
       " (0.64, 0.03464905902663684),\n",
       " (0.65, 0.034396933903027206),\n",
       " (0.66, 0.03423894103693088),\n",
       " (0.67, 0.03423894103693088),\n",
       " (0.68, 0.03403505712105663),\n",
       " (0.6900000000000001, 0.033496250761419516),\n",
       " (0.7000000000000001, 0.033496250761419516),\n",
       " (0.7100000000000001, 0.03295080978033732),\n",
       " (0.72, 0.03255437688594889),\n",
       " (0.73, 0.03255437688594889),\n",
       " (0.74, 0.03234385834862956),\n",
       " (0.75, 0.03220950251001838),\n",
       " (0.76, 0.03220950251001838),\n",
       " (0.77, 0.03220950251001838),\n",
       " (0.78, 0.03220950251001838),\n",
       " (0.79, 0.031833389332392575),\n",
       " (0.8, 0.031558043033725135),\n",
       " (0.81, 0.03136217674448841),\n",
       " (0.8200000000000001, 0.03136217674448841),\n",
       " (0.8300000000000001, 0.031141706275001443),\n",
       " (0.8400000000000001, 0.031141706275001443),\n",
       " (0.85, 0.03095482476516728),\n",
       " (0.86, 0.03095482476516728),\n",
       " (0.87, 0.030801532214985904),\n",
       " (0.88, 0.03055314025452618),\n",
       " (0.89, 0.03018504470353787),\n",
       " (0.9, 0.03018504470353787),\n",
       " (0.91, 0.03018504470353787),\n",
       " (0.92, 0.03018504470353787),\n",
       " (0.93, 0.029583209440172432),\n",
       " (0.9400000000000001, 0.029414297489143405),\n",
       " (0.9500000000000001, 0.029414297489143405),\n",
       " (0.9600000000000001, 0.029414297489143405),\n",
       " (0.97, 0.029414297489143405),\n",
       " (0.98, 0.029414297489143405),\n",
       " (0.99, 0.029414297489143405)]"
      ]
     },
     "execution_count": 96,
     "metadata": {},
     "output_type": "execute_result"
    }
   ],
   "source": [
    "list(zip(cutoffs,KS_all))"
   ]
  },
  {
   "cell_type": "code",
   "execution_count": 97,
   "metadata": {},
   "outputs": [
    {
     "data": {
      "text/plain": [
       "0.21000000000000002"
      ]
     },
     "execution_count": 97,
     "metadata": {},
     "output_type": "execute_result"
    }
   ],
   "source": [
    "mycutoff=cutoffs[KS_all==max(KS_all)][0]\n",
    "mycutoff"
   ]
  },
  {
   "cell_type": "code",
   "execution_count": 98,
   "metadata": {},
   "outputs": [
    {
     "data": {
      "text/plain": [
       "array([0.1142183 , 0.09718988, 0.22513231, ..., 0.23545267, 0.23545267,\n",
       "       0.29241803])"
      ]
     },
     "execution_count": 98,
     "metadata": {},
     "output_type": "execute_result"
    }
   ],
   "source": [
    "test_score=dtree.predict_proba(x_val)[:,1]\n",
    "test_score"
   ]
  },
  {
   "cell_type": "code",
   "execution_count": 99,
   "metadata": {},
   "outputs": [
    {
     "data": {
      "text/plain": [
       "array([0, 0, 1, ..., 1, 1, 1])"
      ]
     },
     "execution_count": 99,
     "metadata": {},
     "output_type": "execute_result"
    }
   ],
   "source": [
    "test_classes=(test_score>mycutoff).astype(int)\n",
    "test_classes"
   ]
  },
  {
   "cell_type": "code",
   "execution_count": 100,
   "metadata": {},
   "outputs": [],
   "source": [
    "real_y=y_val"
   ]
  },
  {
   "cell_type": "code",
   "execution_count": 101,
   "metadata": {},
   "outputs": [],
   "source": [
    "TP = ((real_y==1)&(test_classes==1)).sum()\n",
    "FP= ((real_y==0) &(test_classes==1)).sum()\n",
    "TN = ((real_y==0)&(test_classes==0)).sum()\n",
    "FN = ((real_y==1)&(test_classes==0)).sum()\n",
    "    \n",
    "P = TP+FN\n",
    "N = TN+FP"
   ]
  },
  {
   "cell_type": "code",
   "execution_count": 102,
   "metadata": {},
   "outputs": [
    {
     "data": {
      "text/plain": [
       "((95685,), (95685,))"
      ]
     },
     "execution_count": 102,
     "metadata": {},
     "output_type": "execute_result"
    }
   ],
   "source": [
    "test_classes.shape,real_y.shape"
   ]
  },
  {
   "cell_type": "code",
   "execution_count": 103,
   "metadata": {},
   "outputs": [
    {
     "data": {
      "text/plain": [
       "0.1785807795921101"
      ]
     },
     "execution_count": 103,
     "metadata": {},
     "output_type": "execute_result"
    }
   ],
   "source": [
    "KS=(TP/P)-(FP/N)\n",
    "KS"
   ]
  },
  {
   "cell_type": "code",
   "execution_count": 104,
   "metadata": {},
   "outputs": [],
   "source": [
    "from sklearn.metrics import roc_auc_score"
   ]
  },
  {
   "cell_type": "code",
   "execution_count": 105,
   "metadata": {},
   "outputs": [],
   "source": [
    "score=roc_auc_score(real_y,test_classes )"
   ]
  },
  {
   "cell_type": "code",
   "execution_count": 106,
   "metadata": {},
   "outputs": [
    {
     "data": {
      "text/plain": [
       "RandomizedSearchCV(cv=10, estimator=DecisionTreeClassifier(), n_iter=20,\n",
       "                   n_jobs=-1,\n",
       "                   param_distributions={'class_weight': ['balanced', None],\n",
       "                                        'criterion': ['entropy', 'gini'],\n",
       "                                        'max_depth': [None, 5, 10, 15, 20, 30,\n",
       "                                                      50, 70],\n",
       "                                        'min_samples_leaf': [1, 2, 5, 10, 15,\n",
       "                                                             20],\n",
       "                                        'min_samples_split': [2, 5, 10, 15,\n",
       "                                                              20]},\n",
       "                   scoring='roc_auc', verbose=False)"
      ]
     },
     "execution_count": 106,
     "metadata": {},
     "output_type": "execute_result"
    }
   ],
   "source": [
    "random_search.fit(x,y)"
   ]
  },
  {
   "cell_type": "code",
   "execution_count": 107,
   "metadata": {},
   "outputs": [
    {
     "name": "stdout",
     "output_type": "stream",
     "text": [
      "Model with rank: 1\n",
      "Mean Validation Score: 0.62716942 (std:0.003)\n",
      "Parameters:{'min_samples_split': 20, 'min_samples_leaf': 1, 'max_depth': 10, 'criterion': 'gini', 'class_weight': None}\n",
      "\n",
      "Model with rank: 2\n",
      "Mean Validation Score: 0.62395138 (std:0.002)\n",
      "Parameters:{'min_samples_split': 10, 'min_samples_leaf': 15, 'max_depth': 15, 'criterion': 'entropy', 'class_weight': None}\n",
      "\n",
      "Model with rank: 3\n",
      "Mean Validation Score: 0.62274613 (std:0.003)\n",
      "Parameters:{'min_samples_split': 2, 'min_samples_leaf': 1, 'max_depth': 15, 'criterion': 'gini', 'class_weight': 'balanced'}\n",
      "\n",
      "Model with rank: 4\n",
      "Mean Validation Score: 0.61426461 (std:0.003)\n",
      "Parameters:{'min_samples_split': 15, 'min_samples_leaf': 2, 'max_depth': 20, 'criterion': 'entropy', 'class_weight': None}\n",
      "\n",
      "Model with rank: 5\n",
      "Mean Validation Score: 0.61333779 (std:0.004)\n",
      "Parameters:{'min_samples_split': 20, 'min_samples_leaf': 2, 'max_depth': 5, 'criterion': 'entropy', 'class_weight': None}\n",
      "\n",
      "Model with rank: 5\n",
      "Mean Validation Score: 0.61333779 (std:0.004)\n",
      "Parameters:{'min_samples_split': 15, 'min_samples_leaf': 1, 'max_depth': 5, 'criterion': 'entropy', 'class_weight': None}\n",
      "\n"
     ]
    }
   ],
   "source": [
    "report(random_search.cv_results_,5)"
   ]
  },
  {
   "cell_type": "code",
   "execution_count": 108,
   "metadata": {},
   "outputs": [
    {
     "data": {
      "text/plain": [
       "DecisionTreeClassifier(max_depth=10, min_samples_split=20)"
      ]
     },
     "execution_count": 108,
     "metadata": {},
     "output_type": "execute_result"
    }
   ],
   "source": [
    "random_search.best_estimator_"
   ]
  },
  {
   "cell_type": "code",
   "execution_count": 109,
   "metadata": {},
   "outputs": [],
   "source": [
    "dtree_act=random_search.best_estimator_"
   ]
  },
  {
   "cell_type": "code",
   "execution_count": 146,
   "metadata": {},
   "outputs": [
    {
     "data": {
      "text/plain": [
       "DecisionTreeClassifier(max_depth=15, min_samples_split=10)"
      ]
     },
     "execution_count": 146,
     "metadata": {},
     "output_type": "execute_result"
    }
   ],
   "source": [
    "dtree_act.fit(x,y)"
   ]
  },
  {
   "cell_type": "code",
   "execution_count": 150,
   "metadata": {},
   "outputs": [
    {
     "data": {
      "text/plain": [
       "(478421,)"
      ]
     },
     "execution_count": 150,
     "metadata": {},
     "output_type": "execute_result"
    }
   ],
   "source": [
    "train_score_total=dtree_act.predict_proba(x)[:,1]\n",
    "train_score_total.shape"
   ]
  },
  {
   "cell_type": "code",
   "execution_count": 151,
   "metadata": {},
   "outputs": [
    {
     "data": {
      "text/plain": [
       "(478421,)"
      ]
     },
     "execution_count": 151,
     "metadata": {},
     "output_type": "execute_result"
    }
   ],
   "source": [
    "test_score_total=dtree_act.predict_proba(x)[:,1]\n",
    "test_score_total.shape"
   ]
  },
  {
   "cell_type": "code",
   "execution_count": 153,
   "metadata": {},
   "outputs": [],
   "source": [
    "KS_all_act =[]\n",
    "for cutoff in cutoffs:\n",
    "    \n",
    "    predicted = (train_score_total > cutoff).astype(int)\n",
    "    \n",
    "    TP = ((y==1)&(predicted==1)).sum()\n",
    "    FP= ((y==0) &(predicted==1)).sum()\n",
    "    TN = ((y==0)&(predicted==0)).sum()\n",
    "    FN = ((y==1)&(predicted==0)).sum()\n",
    "    \n",
    "    P = TP+FN\n",
    "    N = TN+FP\n",
    "    \n",
    "    KS = (TP/P)-(FP/N)\n",
    "    \n",
    "    KS_all_act.append(KS)"
   ]
  },
  {
   "cell_type": "code",
   "execution_count": 154,
   "metadata": {},
   "outputs": [
    {
     "data": {
      "text/plain": [
       "[(0.005453658827861418, 0.01),\n",
       " (0.007124200426830929, 0.02),\n",
       " (0.007124200426830929, 0.03),\n",
       " (0.007124200426830929, 0.04),\n",
       " (0.007124200426830929, 0.05),\n",
       " (0.007317571601503481, 0.060000000000000005),\n",
       " (0.007317571601503481, 0.06999999999999999),\n",
       " (0.007317571601503481, 0.08),\n",
       " (0.00767542530711085, 0.09),\n",
       " (0.00767542530711085, 0.09999999999999999),\n",
       " (0.008322436345917117, 0.11),\n",
       " (0.011746713699044009, 0.12),\n",
       " (0.013790718895772214, 0.13),\n",
       " (0.013854714952265534, 0.14),\n",
       " (0.015796434816932603, 0.15000000000000002),\n",
       " (0.015796434816932603, 0.16),\n",
       " (0.01584716163053579, 0.17),\n",
       " (0.01589125382269385, 0.18000000000000002),\n",
       " (0.01589125382269385, 0.19),\n",
       " (0.016812489542099573, 0.2),\n",
       " (0.02952552915772333, 0.21000000000000002),\n",
       " (0.02952552915772333, 0.22),\n",
       " (0.029703832231885885, 0.23),\n",
       " (0.03063473947894213, 0.24000000000000002),\n",
       " (0.03800430679488542, 0.25),\n",
       " (0.03800430679488542, 0.26),\n",
       " (0.03800430679488542, 0.27),\n",
       " (0.03928365760702279, 0.28),\n",
       " (0.05693981329086206, 0.29000000000000004),\n",
       " (0.09503726596905371, 0.3),\n",
       " (0.09708565304239447, 0.31),\n",
       " (0.09733859085346619, 0.32),\n",
       " (0.10873597688271996, 0.33),\n",
       " (0.1100949241348057, 0.34),\n",
       " (0.13905773394916388, 0.35000000000000003),\n",
       " (0.14618981169834921, 0.36000000000000004),\n",
       " (0.1538300867015463, 0.37),\n",
       " (0.15438723092893436, 0.38),\n",
       " (0.1552116753022632, 0.39),\n",
       " (0.1596801070065491, 0.4),\n",
       " (0.16261447024739883, 0.41000000000000003),\n",
       " (0.16377267741163726, 0.42000000000000004),\n",
       " (0.17183710226119997, 0.43),\n",
       " (0.17798135317658592, 0.44),\n",
       " (0.17827227133261936, 0.45),\n",
       " (0.18303450342979188, 0.46),\n",
       " (0.1852477863562838, 0.47000000000000003),\n",
       " (0.18558577655850295, 0.48000000000000004),\n",
       " (0.18598529855490198, 0.49),\n",
       " (0.18867413011644307, 0.5),\n",
       " (0.18793146795892213, 0.51),\n",
       " (0.18186141315611842, 0.52),\n",
       " (0.1814626419386306, 0.53),\n",
       " (0.17656996701502986, 0.54),\n",
       " (0.17362469864621805, 0.55),\n",
       " (0.15433997017797693, 0.56),\n",
       " (0.15393381821245625, 0.5700000000000001),\n",
       " (0.09453302555700961, 0.5800000000000001),\n",
       " (0.08491137216130659, 0.59),\n",
       " (0.08275849920687736, 0.6),\n",
       " (0.08268302325641726, 0.61),\n",
       " (0.07153258153961968, 0.62),\n",
       " (0.06929584669914712, 0.63),\n",
       " (0.0648493503738024, 0.64),\n",
       " (0.05596397851471573, 0.65),\n",
       " (0.05518463384725707, 0.66),\n",
       " (0.05062220512931897, 0.67),\n",
       " (0.04779222296984884, 0.68),\n",
       " (0.04741513313076164, 0.6900000000000001),\n",
       " (0.04215482160380733, 0.7000000000000001),\n",
       " (0.04089624672180701, 0.7100000000000001),\n",
       " (0.04089624672180701, 0.72),\n",
       " (0.039882755998240184, 0.73),\n",
       " (0.03882475723008787, 0.74),\n",
       " (0.03829147338252411, 0.75),\n",
       " (0.03819927543054094, 0.76),\n",
       " (0.038080123140350065, 0.77),\n",
       " (0.03729706432713416, 0.78),\n",
       " (0.03686579491581086, 0.79),\n",
       " (0.036239210515588524, 0.8),\n",
       " (0.03607084986489719, 0.81),\n",
       " (0.03607084986489719, 0.8200000000000001),\n",
       " (0.03592612624169103, 0.8300000000000001),\n",
       " (0.03592612624169103, 0.8400000000000001),\n",
       " (0.03575679843823465, 0.85),\n",
       " (0.03512911143733691, 0.86),\n",
       " (0.03495314901243543, 0.87),\n",
       " (0.03495314901243543, 0.88),\n",
       " (0.034846714664797024, 0.89),\n",
       " (0.03397533601935453, 0.9),\n",
       " (0.03350274042625794, 0.91),\n",
       " (0.03333479562799397, 0.92),\n",
       " (0.03322172665891048, 0.93),\n",
       " (0.03308405350957676, 0.9400000000000001),\n",
       " (0.03302586036967374, 0.9500000000000001),\n",
       " (0.03288486990961748, 0.9600000000000001),\n",
       " (0.03270697317918589, 0.97),\n",
       " (0.03231095613722481, 0.98),\n",
       " (0.031973132235166755, 0.99)]"
      ]
     },
     "execution_count": 154,
     "metadata": {},
     "output_type": "execute_result"
    }
   ],
   "source": [
    "list(zip(KS_all,cutoffs))"
   ]
  },
  {
   "cell_type": "code",
   "execution_count": 156,
   "metadata": {},
   "outputs": [
    {
     "data": {
      "text/plain": [
       "0.21000000000000002"
      ]
     },
     "execution_count": 156,
     "metadata": {},
     "output_type": "execute_result"
    }
   ],
   "source": [
    "mycutoff_act=cutoffs[KS_all_act==max(KS_all_act)][0]\n",
    "mycutoff_act"
   ]
  },
  {
   "cell_type": "code",
   "execution_count": 157,
   "metadata": {},
   "outputs": [
    {
     "data": {
      "text/plain": [
       "array([1, 0, 0, ..., 1, 1, 0])"
      ]
     },
     "execution_count": 157,
     "metadata": {},
     "output_type": "execute_result"
    }
   ],
   "source": [
    "test_classes_act=(test_score_total>mycutoff_act).astype(int)\n",
    "test_classes_act"
   ]
  },
  {
   "cell_type": "code",
   "execution_count": 158,
   "metadata": {},
   "outputs": [
    {
     "data": {
      "text/plain": [
       "(478421,)"
      ]
     },
     "execution_count": 158,
     "metadata": {},
     "output_type": "execute_result"
    }
   ],
   "source": [
    "test_classes_act.shape"
   ]
  },
  {
   "cell_type": "code",
   "execution_count": 160,
   "metadata": {},
   "outputs": [],
   "source": [
    "prediction=np.where(test_classes_act==1,'Yes','No')\n",
    "submission=pd.DataFrame(list(zip(test_clean['Complaint ID'],list(prediction))),\n",
    "                       columns=['Complaint ID','Consumer disputed?'])"
   ]
  },
  {
   "cell_type": "code",
   "execution_count": 161,
   "metadata": {},
   "outputs": [
    {
     "data": {
      "text/html": [
       "<div>\n",
       "<style scoped>\n",
       "    .dataframe tbody tr th:only-of-type {\n",
       "        vertical-align: middle;\n",
       "    }\n",
       "\n",
       "    .dataframe tbody tr th {\n",
       "        vertical-align: top;\n",
       "    }\n",
       "\n",
       "    .dataframe thead th {\n",
       "        text-align: right;\n",
       "    }\n",
       "</style>\n",
       "<table border=\"1\" class=\"dataframe\">\n",
       "  <thead>\n",
       "    <tr style=\"text-align: right;\">\n",
       "      <th></th>\n",
       "      <th>Complaint ID</th>\n",
       "      <th>Consumer disputed?</th>\n",
       "    </tr>\n",
       "  </thead>\n",
       "  <tbody>\n",
       "    <tr>\n",
       "      <th>0</th>\n",
       "      <td>675956</td>\n",
       "      <td>Yes</td>\n",
       "    </tr>\n",
       "    <tr>\n",
       "      <th>1</th>\n",
       "      <td>1858795</td>\n",
       "      <td>No</td>\n",
       "    </tr>\n",
       "    <tr>\n",
       "      <th>2</th>\n",
       "      <td>32637</td>\n",
       "      <td>No</td>\n",
       "    </tr>\n",
       "    <tr>\n",
       "      <th>3</th>\n",
       "      <td>1731374</td>\n",
       "      <td>No</td>\n",
       "    </tr>\n",
       "    <tr>\n",
       "      <th>4</th>\n",
       "      <td>501487</td>\n",
       "      <td>Yes</td>\n",
       "    </tr>\n",
       "  </tbody>\n",
       "</table>\n",
       "</div>"
      ],
      "text/plain": [
       "   Complaint ID Consumer disputed?\n",
       "0        675956                Yes\n",
       "1       1858795                 No\n",
       "2         32637                 No\n",
       "3       1731374                 No\n",
       "4        501487                Yes"
      ]
     },
     "execution_count": 161,
     "metadata": {},
     "output_type": "execute_result"
    }
   ],
   "source": [
    "submission.head()"
   ]
  },
  {
   "cell_type": "code",
   "execution_count": 162,
   "metadata": {},
   "outputs": [],
   "source": [
    "submission.to_csv('sample_submission.csv',index=False)"
   ]
  },
  {
   "cell_type": "code",
   "execution_count": 163,
   "metadata": {},
   "outputs": [],
   "source": [
    "# Random Forest with Random Search CV"
   ]
  },
  {
   "cell_type": "code",
   "execution_count": 81,
   "metadata": {},
   "outputs": [],
   "source": [
    "from sklearn.ensemble import RandomForestClassifier"
   ]
  },
  {
   "cell_type": "code",
   "execution_count": 82,
   "metadata": {},
   "outputs": [],
   "source": [
    "clf=RandomForestClassifier()"
   ]
  },
  {
   "cell_type": "code",
   "execution_count": 84,
   "metadata": {},
   "outputs": [
    {
     "name": "stdout",
     "output_type": "stream",
     "text": [
      "Help on RandomForestClassifier in module sklearn.ensemble._forest object:\n",
      "\n",
      "class RandomForestClassifier(ForestClassifier)\n",
      " |  RandomForestClassifier(n_estimators=100, *, criterion='gini', max_depth=None, min_samples_split=2, min_samples_leaf=1, min_weight_fraction_leaf=0.0, max_features='auto', max_leaf_nodes=None, min_impurity_decrease=0.0, min_impurity_split=None, bootstrap=True, oob_score=False, n_jobs=None, random_state=None, verbose=0, warm_start=False, class_weight=None, ccp_alpha=0.0, max_samples=None)\n",
      " |  \n",
      " |  A random forest classifier.\n",
      " |  \n",
      " |  A random forest is a meta estimator that fits a number of decision tree\n",
      " |  classifiers on various sub-samples of the dataset and uses averaging to\n",
      " |  improve the predictive accuracy and control over-fitting.\n",
      " |  The sub-sample size is controlled with the `max_samples` parameter if\n",
      " |  `bootstrap=True` (default), otherwise the whole dataset is used to build\n",
      " |  each tree.\n",
      " |  \n",
      " |  Read more in the :ref:`User Guide <forest>`.\n",
      " |  \n",
      " |  Parameters\n",
      " |  ----------\n",
      " |  n_estimators : int, default=100\n",
      " |      The number of trees in the forest.\n",
      " |  \n",
      " |      .. versionchanged:: 0.22\n",
      " |         The default value of ``n_estimators`` changed from 10 to 100\n",
      " |         in 0.22.\n",
      " |  \n",
      " |  criterion : {\"gini\", \"entropy\"}, default=\"gini\"\n",
      " |      The function to measure the quality of a split. Supported criteria are\n",
      " |      \"gini\" for the Gini impurity and \"entropy\" for the information gain.\n",
      " |      Note: this parameter is tree-specific.\n",
      " |  \n",
      " |  max_depth : int, default=None\n",
      " |      The maximum depth of the tree. If None, then nodes are expanded until\n",
      " |      all leaves are pure or until all leaves contain less than\n",
      " |      min_samples_split samples.\n",
      " |  \n",
      " |  min_samples_split : int or float, default=2\n",
      " |      The minimum number of samples required to split an internal node:\n",
      " |  \n",
      " |      - If int, then consider `min_samples_split` as the minimum number.\n",
      " |      - If float, then `min_samples_split` is a fraction and\n",
      " |        `ceil(min_samples_split * n_samples)` are the minimum\n",
      " |        number of samples for each split.\n",
      " |  \n",
      " |      .. versionchanged:: 0.18\n",
      " |         Added float values for fractions.\n",
      " |  \n",
      " |  min_samples_leaf : int or float, default=1\n",
      " |      The minimum number of samples required to be at a leaf node.\n",
      " |      A split point at any depth will only be considered if it leaves at\n",
      " |      least ``min_samples_leaf`` training samples in each of the left and\n",
      " |      right branches.  This may have the effect of smoothing the model,\n",
      " |      especially in regression.\n",
      " |  \n",
      " |      - If int, then consider `min_samples_leaf` as the minimum number.\n",
      " |      - If float, then `min_samples_leaf` is a fraction and\n",
      " |        `ceil(min_samples_leaf * n_samples)` are the minimum\n",
      " |        number of samples for each node.\n",
      " |  \n",
      " |      .. versionchanged:: 0.18\n",
      " |         Added float values for fractions.\n",
      " |  \n",
      " |  min_weight_fraction_leaf : float, default=0.0\n",
      " |      The minimum weighted fraction of the sum total of weights (of all\n",
      " |      the input samples) required to be at a leaf node. Samples have\n",
      " |      equal weight when sample_weight is not provided.\n",
      " |  \n",
      " |  max_features : {\"auto\", \"sqrt\", \"log2\"}, int or float, default=\"auto\"\n",
      " |      The number of features to consider when looking for the best split:\n",
      " |  \n",
      " |      - If int, then consider `max_features` features at each split.\n",
      " |      - If float, then `max_features` is a fraction and\n",
      " |        `int(max_features * n_features)` features are considered at each\n",
      " |        split.\n",
      " |      - If \"auto\", then `max_features=sqrt(n_features)`.\n",
      " |      - If \"sqrt\", then `max_features=sqrt(n_features)` (same as \"auto\").\n",
      " |      - If \"log2\", then `max_features=log2(n_features)`.\n",
      " |      - If None, then `max_features=n_features`.\n",
      " |  \n",
      " |      Note: the search for a split does not stop until at least one\n",
      " |      valid partition of the node samples is found, even if it requires to\n",
      " |      effectively inspect more than ``max_features`` features.\n",
      " |  \n",
      " |  max_leaf_nodes : int, default=None\n",
      " |      Grow trees with ``max_leaf_nodes`` in best-first fashion.\n",
      " |      Best nodes are defined as relative reduction in impurity.\n",
      " |      If None then unlimited number of leaf nodes.\n",
      " |  \n",
      " |  min_impurity_decrease : float, default=0.0\n",
      " |      A node will be split if this split induces a decrease of the impurity\n",
      " |      greater than or equal to this value.\n",
      " |  \n",
      " |      The weighted impurity decrease equation is the following::\n",
      " |  \n",
      " |          N_t / N * (impurity - N_t_R / N_t * right_impurity\n",
      " |                              - N_t_L / N_t * left_impurity)\n",
      " |  \n",
      " |      where ``N`` is the total number of samples, ``N_t`` is the number of\n",
      " |      samples at the current node, ``N_t_L`` is the number of samples in the\n",
      " |      left child, and ``N_t_R`` is the number of samples in the right child.\n",
      " |  \n",
      " |      ``N``, ``N_t``, ``N_t_R`` and ``N_t_L`` all refer to the weighted sum,\n",
      " |      if ``sample_weight`` is passed.\n",
      " |  \n",
      " |      .. versionadded:: 0.19\n",
      " |  \n",
      " |  min_impurity_split : float, default=None\n",
      " |      Threshold for early stopping in tree growth. A node will split\n",
      " |      if its impurity is above the threshold, otherwise it is a leaf.\n",
      " |  \n",
      " |      .. deprecated:: 0.19\n",
      " |         ``min_impurity_split`` has been deprecated in favor of\n",
      " |         ``min_impurity_decrease`` in 0.19. The default value of\n",
      " |         ``min_impurity_split`` has changed from 1e-7 to 0 in 0.23 and it\n",
      " |         will be removed in 0.25. Use ``min_impurity_decrease`` instead.\n",
      " |  \n",
      " |  \n",
      " |  bootstrap : bool, default=True\n",
      " |      Whether bootstrap samples are used when building trees. If False, the\n",
      " |      whole dataset is used to build each tree.\n",
      " |  \n",
      " |  oob_score : bool, default=False\n",
      " |      Whether to use out-of-bag samples to estimate\n",
      " |      the generalization accuracy.\n",
      " |  \n",
      " |  n_jobs : int, default=None\n",
      " |      The number of jobs to run in parallel. :meth:`fit`, :meth:`predict`,\n",
      " |      :meth:`decision_path` and :meth:`apply` are all parallelized over the\n",
      " |      trees. ``None`` means 1 unless in a :obj:`joblib.parallel_backend`\n",
      " |      context. ``-1`` means using all processors. See :term:`Glossary\n",
      " |      <n_jobs>` for more details.\n",
      " |  \n",
      " |  random_state : int or RandomState, default=None\n",
      " |      Controls both the randomness of the bootstrapping of the samples used\n",
      " |      when building trees (if ``bootstrap=True``) and the sampling of the\n",
      " |      features to consider when looking for the best split at each node\n",
      " |      (if ``max_features < n_features``).\n",
      " |      See :term:`Glossary <random_state>` for details.\n",
      " |  \n",
      " |  verbose : int, default=0\n",
      " |      Controls the verbosity when fitting and predicting.\n",
      " |  \n",
      " |  warm_start : bool, default=False\n",
      " |      When set to ``True``, reuse the solution of the previous call to fit\n",
      " |      and add more estimators to the ensemble, otherwise, just fit a whole\n",
      " |      new forest. See :term:`the Glossary <warm_start>`.\n",
      " |  \n",
      " |  class_weight : {\"balanced\", \"balanced_subsample\"}, dict or list of dicts,             default=None\n",
      " |      Weights associated with classes in the form ``{class_label: weight}``.\n",
      " |      If not given, all classes are supposed to have weight one. For\n",
      " |      multi-output problems, a list of dicts can be provided in the same\n",
      " |      order as the columns of y.\n",
      " |  \n",
      " |      Note that for multioutput (including multilabel) weights should be\n",
      " |      defined for each class of every column in its own dict. For example,\n",
      " |      for four-class multilabel classification weights should be\n",
      " |      [{0: 1, 1: 1}, {0: 1, 1: 5}, {0: 1, 1: 1}, {0: 1, 1: 1}] instead of\n",
      " |      [{1:1}, {2:5}, {3:1}, {4:1}].\n",
      " |  \n",
      " |      The \"balanced\" mode uses the values of y to automatically adjust\n",
      " |      weights inversely proportional to class frequencies in the input data\n",
      " |      as ``n_samples / (n_classes * np.bincount(y))``\n",
      " |  \n",
      " |      The \"balanced_subsample\" mode is the same as \"balanced\" except that\n",
      " |      weights are computed based on the bootstrap sample for every tree\n",
      " |      grown.\n",
      " |  \n",
      " |      For multi-output, the weights of each column of y will be multiplied.\n",
      " |  \n",
      " |      Note that these weights will be multiplied with sample_weight (passed\n",
      " |      through the fit method) if sample_weight is specified.\n",
      " |  \n",
      " |  ccp_alpha : non-negative float, default=0.0\n",
      " |      Complexity parameter used for Minimal Cost-Complexity Pruning. The\n",
      " |      subtree with the largest cost complexity that is smaller than\n",
      " |      ``ccp_alpha`` will be chosen. By default, no pruning is performed. See\n",
      " |      :ref:`minimal_cost_complexity_pruning` for details.\n",
      " |  \n",
      " |      .. versionadded:: 0.22\n",
      " |  \n",
      " |  max_samples : int or float, default=None\n",
      " |      If bootstrap is True, the number of samples to draw from X\n",
      " |      to train each base estimator.\n",
      " |  \n",
      " |      - If None (default), then draw `X.shape[0]` samples.\n",
      " |      - If int, then draw `max_samples` samples.\n",
      " |      - If float, then draw `max_samples * X.shape[0]` samples. Thus,\n",
      " |        `max_samples` should be in the interval `(0, 1)`.\n",
      " |  \n",
      " |      .. versionadded:: 0.22\n",
      " |  \n",
      " |  Attributes\n",
      " |  ----------\n",
      " |  base_estimator_ : DecisionTreeClassifier\n",
      " |      The child estimator template used to create the collection of fitted\n",
      " |      sub-estimators.\n",
      " |  \n",
      " |  estimators_ : list of DecisionTreeClassifier\n",
      " |      The collection of fitted sub-estimators.\n",
      " |  \n",
      " |  classes_ : ndarray of shape (n_classes,) or a list of such arrays\n",
      " |      The classes labels (single output problem), or a list of arrays of\n",
      " |      class labels (multi-output problem).\n",
      " |  \n",
      " |  n_classes_ : int or list\n",
      " |      The number of classes (single output problem), or a list containing the\n",
      " |      number of classes for each output (multi-output problem).\n",
      " |  \n",
      " |  n_features_ : int\n",
      " |      The number of features when ``fit`` is performed.\n",
      " |  \n",
      " |  n_outputs_ : int\n",
      " |      The number of outputs when ``fit`` is performed.\n",
      " |  \n",
      " |  feature_importances_ : ndarray of shape (n_features,)\n",
      " |      The impurity-based feature importances.\n",
      " |      The higher, the more important the feature.\n",
      " |      The importance of a feature is computed as the (normalized)\n",
      " |      total reduction of the criterion brought by that feature.  It is also\n",
      " |      known as the Gini importance.\n",
      " |  \n",
      " |      Warning: impurity-based feature importances can be misleading for\n",
      " |      high cardinality features (many unique values). See\n",
      " |      :func:`sklearn.inspection.permutation_importance` as an alternative.\n",
      " |  \n",
      " |  oob_score_ : float\n",
      " |      Score of the training dataset obtained using an out-of-bag estimate.\n",
      " |      This attribute exists only when ``oob_score`` is True.\n",
      " |  \n",
      " |  oob_decision_function_ : ndarray of shape (n_samples, n_classes)\n",
      " |      Decision function computed with out-of-bag estimate on the training\n",
      " |      set. If n_estimators is small it might be possible that a data point\n",
      " |      was never left out during the bootstrap. In this case,\n",
      " |      `oob_decision_function_` might contain NaN. This attribute exists\n",
      " |      only when ``oob_score`` is True.\n",
      " |  \n",
      " |  See Also\n",
      " |  --------\n",
      " |  DecisionTreeClassifier, ExtraTreesClassifier\n",
      " |  \n",
      " |  Notes\n",
      " |  -----\n",
      " |  The default values for the parameters controlling the size of the trees\n",
      " |  (e.g. ``max_depth``, ``min_samples_leaf``, etc.) lead to fully grown and\n",
      " |  unpruned trees which can potentially be very large on some data sets. To\n",
      " |  reduce memory consumption, the complexity and size of the trees should be\n",
      " |  controlled by setting those parameter values.\n",
      " |  \n",
      " |  The features are always randomly permuted at each split. Therefore,\n",
      " |  the best found split may vary, even with the same training data,\n",
      " |  ``max_features=n_features`` and ``bootstrap=False``, if the improvement\n",
      " |  of the criterion is identical for several splits enumerated during the\n",
      " |  search of the best split. To obtain a deterministic behaviour during\n",
      " |  fitting, ``random_state`` has to be fixed.\n",
      " |  \n",
      " |  References\n",
      " |  ----------\n",
      " |  .. [1] L. Breiman, \"Random Forests\", Machine Learning, 45(1), 5-32, 2001.\n",
      " |  \n",
      " |  Examples\n",
      " |  --------\n",
      " |  >>> from sklearn.ensemble import RandomForestClassifier\n",
      " |  >>> from sklearn.datasets import make_classification\n",
      " |  >>> X, y = make_classification(n_samples=1000, n_features=4,\n",
      " |  ...                            n_informative=2, n_redundant=0,\n",
      " |  ...                            random_state=0, shuffle=False)\n",
      " |  >>> clf = RandomForestClassifier(max_depth=2, random_state=0)\n",
      " |  >>> clf.fit(X, y)\n",
      " |  RandomForestClassifier(...)\n",
      " |  >>> print(clf.predict([[0, 0, 0, 0]]))\n",
      " |  [1]\n",
      " |  \n",
      " |  Method resolution order:\n",
      " |      RandomForestClassifier\n",
      " |      ForestClassifier\n",
      " |      sklearn.base.ClassifierMixin\n",
      " |      BaseForest\n",
      " |      sklearn.base.MultiOutputMixin\n",
      " |      sklearn.ensemble._base.BaseEnsemble\n",
      " |      sklearn.base.MetaEstimatorMixin\n",
      " |      sklearn.base.BaseEstimator\n",
      " |      builtins.object\n",
      " |  \n",
      " |  Methods defined here:\n",
      " |  \n",
      " |  __init__(self, n_estimators=100, *, criterion='gini', max_depth=None, min_samples_split=2, min_samples_leaf=1, min_weight_fraction_leaf=0.0, max_features='auto', max_leaf_nodes=None, min_impurity_decrease=0.0, min_impurity_split=None, bootstrap=True, oob_score=False, n_jobs=None, random_state=None, verbose=0, warm_start=False, class_weight=None, ccp_alpha=0.0, max_samples=None)\n",
      " |      Initialize self.  See help(type(self)) for accurate signature.\n",
      " |  \n",
      " |  ----------------------------------------------------------------------\n",
      " |  Data and other attributes defined here:\n",
      " |  \n",
      " |  __abstractmethods__ = frozenset()\n",
      " |  \n",
      " |  ----------------------------------------------------------------------\n",
      " |  Methods inherited from ForestClassifier:\n",
      " |  \n",
      " |  predict(self, X)\n",
      " |      Predict class for X.\n",
      " |      \n",
      " |      The predicted class of an input sample is a vote by the trees in\n",
      " |      the forest, weighted by their probability estimates. That is,\n",
      " |      the predicted class is the one with highest mean probability\n",
      " |      estimate across the trees.\n",
      " |      \n",
      " |      Parameters\n",
      " |      ----------\n",
      " |      X : {array-like, sparse matrix} of shape (n_samples, n_features)\n",
      " |          The input samples. Internally, its dtype will be converted to\n",
      " |          ``dtype=np.float32``. If a sparse matrix is provided, it will be\n",
      " |          converted into a sparse ``csr_matrix``.\n",
      " |      \n",
      " |      Returns\n",
      " |      -------\n",
      " |      y : ndarray of shape (n_samples,) or (n_samples, n_outputs)\n",
      " |          The predicted classes.\n",
      " |  \n",
      " |  predict_log_proba(self, X)\n",
      " |      Predict class log-probabilities for X.\n",
      " |      \n",
      " |      The predicted class log-probabilities of an input sample is computed as\n",
      " |      the log of the mean predicted class probabilities of the trees in the\n",
      " |      forest.\n",
      " |      \n",
      " |      Parameters\n",
      " |      ----------\n",
      " |      X : {array-like, sparse matrix} of shape (n_samples, n_features)\n",
      " |          The input samples. Internally, its dtype will be converted to\n",
      " |          ``dtype=np.float32``. If a sparse matrix is provided, it will be\n",
      " |          converted into a sparse ``csr_matrix``.\n",
      " |      \n",
      " |      Returns\n",
      " |      -------\n",
      " |      p : ndarray of shape (n_samples, n_classes), or a list of n_outputs\n",
      " |          such arrays if n_outputs > 1.\n",
      " |          The class probabilities of the input samples. The order of the\n",
      " |          classes corresponds to that in the attribute :term:`classes_`.\n",
      " |  \n",
      " |  predict_proba(self, X)\n",
      " |      Predict class probabilities for X.\n",
      " |      \n",
      " |      The predicted class probabilities of an input sample are computed as\n",
      " |      the mean predicted class probabilities of the trees in the forest.\n",
      " |      The class probability of a single tree is the fraction of samples of\n",
      " |      the same class in a leaf.\n",
      " |      \n",
      " |      Parameters\n",
      " |      ----------\n",
      " |      X : {array-like, sparse matrix} of shape (n_samples, n_features)\n",
      " |          The input samples. Internally, its dtype will be converted to\n",
      " |          ``dtype=np.float32``. If a sparse matrix is provided, it will be\n",
      " |          converted into a sparse ``csr_matrix``.\n",
      " |      \n",
      " |      Returns\n",
      " |      -------\n",
      " |      p : ndarray of shape (n_samples, n_classes), or a list of n_outputs\n",
      " |          such arrays if n_outputs > 1.\n",
      " |          The class probabilities of the input samples. The order of the\n",
      " |          classes corresponds to that in the attribute :term:`classes_`.\n",
      " |  \n",
      " |  ----------------------------------------------------------------------\n",
      " |  Methods inherited from sklearn.base.ClassifierMixin:\n",
      " |  \n",
      " |  score(self, X, y, sample_weight=None)\n",
      " |      Return the mean accuracy on the given test data and labels.\n",
      " |      \n",
      " |      In multi-label classification, this is the subset accuracy\n",
      " |      which is a harsh metric since you require for each sample that\n",
      " |      each label set be correctly predicted.\n",
      " |      \n",
      " |      Parameters\n",
      " |      ----------\n",
      " |      X : array-like of shape (n_samples, n_features)\n",
      " |          Test samples.\n",
      " |      \n",
      " |      y : array-like of shape (n_samples,) or (n_samples, n_outputs)\n",
      " |          True labels for X.\n",
      " |      \n",
      " |      sample_weight : array-like of shape (n_samples,), default=None\n",
      " |          Sample weights.\n",
      " |      \n",
      " |      Returns\n",
      " |      -------\n",
      " |      score : float\n",
      " |          Mean accuracy of self.predict(X) wrt. y.\n",
      " |  \n",
      " |  ----------------------------------------------------------------------\n",
      " |  Data descriptors inherited from sklearn.base.ClassifierMixin:\n",
      " |  \n",
      " |  __dict__\n",
      " |      dictionary for instance variables (if defined)\n",
      " |  \n",
      " |  __weakref__\n",
      " |      list of weak references to the object (if defined)\n",
      " |  \n",
      " |  ----------------------------------------------------------------------\n",
      " |  Methods inherited from BaseForest:\n",
      " |  \n",
      " |  apply(self, X)\n",
      " |      Apply trees in the forest to X, return leaf indices.\n",
      " |      \n",
      " |      Parameters\n",
      " |      ----------\n",
      " |      X : {array-like, sparse matrix} of shape (n_samples, n_features)\n",
      " |          The input samples. Internally, its dtype will be converted to\n",
      " |          ``dtype=np.float32``. If a sparse matrix is provided, it will be\n",
      " |          converted into a sparse ``csr_matrix``.\n",
      " |      \n",
      " |      Returns\n",
      " |      -------\n",
      " |      X_leaves : ndarray of shape (n_samples, n_estimators)\n",
      " |          For each datapoint x in X and for each tree in the forest,\n",
      " |          return the index of the leaf x ends up in.\n",
      " |  \n",
      " |  decision_path(self, X)\n",
      " |      Return the decision path in the forest.\n",
      " |      \n",
      " |      .. versionadded:: 0.18\n",
      " |      \n",
      " |      Parameters\n",
      " |      ----------\n",
      " |      X : {array-like, sparse matrix} of shape (n_samples, n_features)\n",
      " |          The input samples. Internally, its dtype will be converted to\n",
      " |          ``dtype=np.float32``. If a sparse matrix is provided, it will be\n",
      " |          converted into a sparse ``csr_matrix``.\n",
      " |      \n",
      " |      Returns\n",
      " |      -------\n",
      " |      indicator : sparse matrix of shape (n_samples, n_nodes)\n",
      " |          Return a node indicator matrix where non zero elements indicates\n",
      " |          that the samples goes through the nodes. The matrix is of CSR\n",
      " |          format.\n",
      " |      \n",
      " |      n_nodes_ptr : ndarray of shape (n_estimators + 1,)\n",
      " |          The columns from indicator[n_nodes_ptr[i]:n_nodes_ptr[i+1]]\n",
      " |          gives the indicator value for the i-th estimator.\n",
      " |  \n",
      " |  fit(self, X, y, sample_weight=None)\n",
      " |      Build a forest of trees from the training set (X, y).\n",
      " |      \n",
      " |      Parameters\n",
      " |      ----------\n",
      " |      X : {array-like, sparse matrix} of shape (n_samples, n_features)\n",
      " |          The training input samples. Internally, its dtype will be converted\n",
      " |          to ``dtype=np.float32``. If a sparse matrix is provided, it will be\n",
      " |          converted into a sparse ``csc_matrix``.\n",
      " |      \n",
      " |      y : array-like of shape (n_samples,) or (n_samples, n_outputs)\n",
      " |          The target values (class labels in classification, real numbers in\n",
      " |          regression).\n",
      " |      \n",
      " |      sample_weight : array-like of shape (n_samples,), default=None\n",
      " |          Sample weights. If None, then samples are equally weighted. Splits\n",
      " |          that would create child nodes with net zero or negative weight are\n",
      " |          ignored while searching for a split in each node. In the case of\n",
      " |          classification, splits are also ignored if they would result in any\n",
      " |          single class carrying a negative weight in either child node.\n",
      " |      \n",
      " |      Returns\n",
      " |      -------\n",
      " |      self : object\n",
      " |  \n",
      " |  ----------------------------------------------------------------------\n",
      " |  Readonly properties inherited from BaseForest:\n",
      " |  \n",
      " |  feature_importances_\n",
      " |      The impurity-based feature importances.\n",
      " |      \n",
      " |      The higher, the more important the feature.\n",
      " |      The importance of a feature is computed as the (normalized)\n",
      " |      total reduction of the criterion brought by that feature.  It is also\n",
      " |      known as the Gini importance.\n",
      " |      \n",
      " |      Warning: impurity-based feature importances can be misleading for\n",
      " |      high cardinality features (many unique values). See\n",
      " |      :func:`sklearn.inspection.permutation_importance` as an alternative.\n",
      " |      \n",
      " |      Returns\n",
      " |      -------\n",
      " |      feature_importances_ : ndarray of shape (n_features,)\n",
      " |          The values of this array sum to 1, unless all trees are single node\n",
      " |          trees consisting of only the root node, in which case it will be an\n",
      " |          array of zeros.\n",
      " |  \n",
      " |  ----------------------------------------------------------------------\n",
      " |  Methods inherited from sklearn.ensemble._base.BaseEnsemble:\n",
      " |  \n",
      " |  __getitem__(self, index)\n",
      " |      Return the index'th estimator in the ensemble.\n",
      " |  \n",
      " |  __iter__(self)\n",
      " |      Return iterator over estimators in the ensemble.\n",
      " |  \n",
      " |  __len__(self)\n",
      " |      Return the number of estimators in the ensemble.\n",
      " |  \n",
      " |  ----------------------------------------------------------------------\n",
      " |  Data and other attributes inherited from sklearn.ensemble._base.BaseEnsemble:\n",
      " |  \n",
      " |  __annotations__ = {'_required_parameters': typing.List[str]}\n",
      " |  \n",
      " |  ----------------------------------------------------------------------\n",
      " |  Methods inherited from sklearn.base.BaseEstimator:\n",
      " |  \n",
      " |  __getstate__(self)\n",
      " |  \n",
      " |  __repr__(self, N_CHAR_MAX=700)\n",
      " |      Return repr(self).\n",
      " |  \n",
      " |  __setstate__(self, state)\n",
      " |  \n",
      " |  get_params(self, deep=True)\n",
      " |      Get parameters for this estimator.\n",
      " |      \n",
      " |      Parameters\n",
      " |      ----------\n",
      " |      deep : bool, default=True\n",
      " |          If True, will return the parameters for this estimator and\n",
      " |          contained subobjects that are estimators.\n",
      " |      \n",
      " |      Returns\n",
      " |      -------\n",
      " |      params : mapping of string to any\n",
      " |          Parameter names mapped to their values.\n",
      " |  \n",
      " |  set_params(self, **params)\n",
      " |      Set the parameters of this estimator.\n",
      " |      \n",
      " |      The method works on simple estimators as well as on nested objects\n",
      " |      (such as pipelines). The latter have parameters of the form\n",
      " |      ``<component>__<parameter>`` so that it's possible to update each\n",
      " |      component of a nested object.\n",
      " |      \n",
      " |      Parameters\n",
      " |      ----------\n",
      " |      **params : dict\n",
      " |          Estimator parameters.\n",
      " |      \n",
      " |      Returns\n",
      " |      -------\n",
      " |      self : object\n",
      " |          Estimator instance.\n",
      "\n"
     ]
    }
   ],
   "source": [
    "help(clf)"
   ]
  },
  {
   "cell_type": "code",
   "execution_count": 85,
   "metadata": {},
   "outputs": [],
   "source": [
    "params = {\n",
    "    'n_estimators':[100,200,300,500,700,1000],\n",
    "    'max_features':[5,10,20,25,30,35],\n",
    "    'bootstrap':[True,False],\n",
    "    'criterion' : [\"gini\", \"entropy\"],\n",
    "    'max_depth':[None,5,10,15,20,30,50,70],\n",
    "    'min_samples_split':[2,5,10,15,20],\n",
    "    'min_samples_leaf':[1,2,5,10,15,20],\n",
    "    'class_weight':[None,'balanced']\n",
    "}"
   ]
  },
  {
   "cell_type": "code",
   "execution_count": 86,
   "metadata": {},
   "outputs": [],
   "source": [
    "from sklearn.model_selection import RandomizedSearchCV"
   ]
  },
  {
   "cell_type": "code",
   "execution_count": 88,
   "metadata": {},
   "outputs": [],
   "source": [
    "random_search=RandomizedSearchCV(clf,param_distributions=params,n_iter=5,scoring='roc_auc',cv=2,n_jobs=-1,verbose=2)"
   ]
  },
  {
   "cell_type": "code",
   "execution_count": 89,
   "metadata": {},
   "outputs": [
    {
     "name": "stdout",
     "output_type": "stream",
     "text": [
      "Fitting 2 folds for each of 5 candidates, totalling 10 fits\n"
     ]
    },
    {
     "name": "stderr",
     "output_type": "stream",
     "text": [
      "[Parallel(n_jobs=-1)]: Using backend LokyBackend with 4 concurrent workers.\n",
      "[Parallel(n_jobs=-1)]: Done  10 out of  10 | elapsed: 139.9min finished\n"
     ]
    },
    {
     "data": {
      "text/plain": [
       "RandomizedSearchCV(cv=2, estimator=RandomForestClassifier(), n_iter=5,\n",
       "                   n_jobs=-1,\n",
       "                   param_distributions={'bootstrap': [True, False],\n",
       "                                        'class_weight': [None, 'balanced'],\n",
       "                                        'criterion': ['gini', 'entropy'],\n",
       "                                        'max_depth': [None, 5, 10, 15, 20, 30,\n",
       "                                                      50, 70],\n",
       "                                        'max_features': [5, 10, 20, 25, 30, 35],\n",
       "                                        'min_samples_leaf': [1, 2, 5, 10, 15,\n",
       "                                                             20],\n",
       "                                        'min_samples_split': [2, 5, 10, 15, 20],\n",
       "                                        'n_estimators': [100, 200, 300, 500,\n",
       "                                                         700, 1000]},\n",
       "                   scoring='roc_auc', verbose=2)"
      ]
     },
     "execution_count": 89,
     "metadata": {},
     "output_type": "execute_result"
    }
   ],
   "source": [
    "random_search.fit(x_train,y_train)"
   ]
  },
  {
   "cell_type": "code",
   "execution_count": 92,
   "metadata": {},
   "outputs": [],
   "source": [
    "def report(results, n_top=3):\n",
    "    for i in range(1,n_top+1):\n",
    "        candidates = np.flatnonzero(results['rank_test_score']== i)\n",
    "        \n",
    "        for candidate in candidates:\n",
    "            print('Model with rank: {0}'.format(i))\n",
    "            print('Mean Validation Score: {0:.8f} (std:{1:.3f})'.format(\n",
    "                    results['mean_test_score'][candidate],\n",
    "                    results['std_test_score'][candidate]))\n",
    "            print(\"Parameters:{0}\".format(results['params'][candidate]))\n",
    "            print(\"\")"
   ]
  },
  {
   "cell_type": "code",
   "execution_count": 93,
   "metadata": {},
   "outputs": [
    {
     "name": "stdout",
     "output_type": "stream",
     "text": [
      "Model with rank: 1\n",
      "Mean Validation Score: 0.63272856 (std:0.001)\n",
      "Parameters:{'n_estimators': 500, 'min_samples_split': 20, 'min_samples_leaf': 20, 'max_features': 10, 'max_depth': 70, 'criterion': 'entropy', 'class_weight': 'balanced', 'bootstrap': False}\n",
      "\n",
      "Model with rank: 2\n",
      "Mean Validation Score: 0.63154069 (std:0.001)\n",
      "Parameters:{'n_estimators': 300, 'min_samples_split': 2, 'min_samples_leaf': 15, 'max_features': 25, 'max_depth': 10, 'criterion': 'entropy', 'class_weight': 'balanced', 'bootstrap': False}\n",
      "\n",
      "Model with rank: 3\n",
      "Mean Validation Score: 0.63084903 (std:0.001)\n",
      "Parameters:{'n_estimators': 100, 'min_samples_split': 10, 'min_samples_leaf': 20, 'max_features': 35, 'max_depth': 10, 'criterion': 'entropy', 'class_weight': None, 'bootstrap': False}\n",
      "\n"
     ]
    }
   ],
   "source": [
    "report(random_search.cv_results_,3)"
   ]
  },
  {
   "cell_type": "code",
   "execution_count": 94,
   "metadata": {},
   "outputs": [
    {
     "data": {
      "text/plain": [
       "RandomForestClassifier(bootstrap=False, class_weight='balanced',\n",
       "                       criterion='entropy', max_depth=70, max_features=10,\n",
       "                       min_samples_leaf=20, min_samples_split=20,\n",
       "                       n_estimators=500)"
      ]
     },
     "execution_count": 94,
     "metadata": {},
     "output_type": "execute_result"
    }
   ],
   "source": [
    "random_search.best_estimator_"
   ]
  },
  {
   "cell_type": "code",
   "execution_count": 95,
   "metadata": {},
   "outputs": [],
   "source": [
    "rf=RandomForestClassifier(bootstrap=False, class_weight='balanced',\n",
    "                       criterion='entropy', max_depth=70, max_features=10,\n",
    "                       min_samples_leaf=20, min_samples_split=20,\n",
    "                       n_estimators=500)"
   ]
  },
  {
   "cell_type": "code",
   "execution_count": 96,
   "metadata": {},
   "outputs": [
    {
     "data": {
      "text/plain": [
       "RandomForestClassifier(bootstrap=False, class_weight='balanced',\n",
       "                       criterion='entropy', max_depth=70, max_features=10,\n",
       "                       min_samples_leaf=20, min_samples_split=20,\n",
       "                       n_estimators=500)"
      ]
     },
     "execution_count": 96,
     "metadata": {},
     "output_type": "execute_result"
    }
   ],
   "source": [
    "rf.fit(x_train,y_train)"
   ]
  },
  {
   "cell_type": "code",
   "execution_count": 97,
   "metadata": {},
   "outputs": [
    {
     "data": {
      "text/plain": [
       "array([[0.62652471, 0.37347529],\n",
       "       [0.77081637, 0.22918363],\n",
       "       [0.30006453, 0.69993547],\n",
       "       ...,\n",
       "       [0.53884265, 0.46115735],\n",
       "       [0.68949774, 0.31050226],\n",
       "       [0.51987105, 0.48012895]])"
      ]
     },
     "execution_count": 97,
     "metadata": {},
     "output_type": "execute_result"
    }
   ],
   "source": [
    "rf.predict_proba(x_train)"
   ]
  },
  {
   "cell_type": "raw",
   "metadata": {},
   "source": [
    "rf.classes_"
   ]
  },
  {
   "cell_type": "code",
   "execution_count": 99,
   "metadata": {},
   "outputs": [
    {
     "data": {
      "text/plain": [
       "array([0.37347529, 0.22918363, 0.69993547, ..., 0.46115735, 0.31050226,\n",
       "       0.48012895])"
      ]
     },
     "execution_count": 99,
     "metadata": {},
     "output_type": "execute_result"
    }
   ],
   "source": [
    "train_score=rf.predict_proba(x_train)[:,1]\n",
    "train_score"
   ]
  },
  {
   "cell_type": "code",
   "execution_count": 100,
   "metadata": {},
   "outputs": [],
   "source": [
    "real=y_train"
   ]
  },
  {
   "cell_type": "code",
   "execution_count": 101,
   "metadata": {},
   "outputs": [
    {
     "data": {
      "text/plain": [
       "array([0.01, 0.02, 0.03, 0.04, 0.05, 0.06, 0.07, 0.08, 0.09, 0.1 , 0.11,\n",
       "       0.12, 0.13, 0.14, 0.15, 0.16, 0.17, 0.18, 0.19, 0.2 , 0.21, 0.22,\n",
       "       0.23, 0.24, 0.25, 0.26, 0.27, 0.28, 0.29, 0.3 , 0.31, 0.32, 0.33,\n",
       "       0.34, 0.35, 0.36, 0.37, 0.38, 0.39, 0.4 , 0.41, 0.42, 0.43, 0.44,\n",
       "       0.45, 0.46, 0.47, 0.48, 0.49, 0.5 , 0.51, 0.52, 0.53, 0.54, 0.55,\n",
       "       0.56, 0.57, 0.58, 0.59, 0.6 , 0.61, 0.62, 0.63, 0.64, 0.65, 0.66,\n",
       "       0.67, 0.68, 0.69, 0.7 , 0.71, 0.72, 0.73, 0.74, 0.75, 0.76, 0.77,\n",
       "       0.78, 0.79, 0.8 , 0.81, 0.82, 0.83, 0.84, 0.85, 0.86, 0.87, 0.88,\n",
       "       0.89, 0.9 , 0.91, 0.92, 0.93, 0.94, 0.95, 0.96, 0.97, 0.98, 0.99])"
      ]
     },
     "execution_count": 101,
     "metadata": {},
     "output_type": "execute_result"
    }
   ],
   "source": [
    "cutoffs=np.linspace(0.01,0.99,99)\n",
    "cutoffs"
   ]
  },
  {
   "cell_type": "code",
   "execution_count": 102,
   "metadata": {},
   "outputs": [],
   "source": [
    "KS_all =[]\n",
    "for cutoff in cutoffs:\n",
    "    \n",
    "    predicted = (train_score > cutoff).astype(int)\n",
    "    \n",
    "    TP = ((real==1)&(predicted==1)).sum()\n",
    "    FP= ((real==0) &(predicted==1)).sum()\n",
    "    TN = ((real==0)&(predicted==0)).sum()\n",
    "    FN = ((real==1)&(predicted==0)).sum()\n",
    "    \n",
    "    P = TP+FN\n",
    "    N = TN+FP\n",
    "    \n",
    "    KS = (TP/P)-(FP/N)\n",
    "    \n",
    "    KS_all.append(KS)"
   ]
  },
  {
   "cell_type": "code",
   "execution_count": 103,
   "metadata": {},
   "outputs": [
    {
     "data": {
      "text/plain": [
       "[(0.01, 0.0),\n",
       " (0.02, 0.0),\n",
       " (0.03, 0.0),\n",
       " (0.04, 0.0),\n",
       " (0.05, 0.00019903864335257815),\n",
       " (0.060000000000000005, 0.0007629814661850309),\n",
       " (0.06999999999999999, 0.0017548573722254712),\n",
       " (0.08, 0.0031547624971388633),\n",
       " (0.09, 0.004830004412023303),\n",
       " (0.09999999999999999, 0.006405727005231454),\n",
       " (0.11, 0.008118426490828834),\n",
       " (0.12, 0.01059645760056882),\n",
       " (0.13, 0.013388250223758003),\n",
       " (0.14, 0.01611853239632155),\n",
       " (0.15000000000000002, 0.019283798125965812),\n",
       " (0.16, 0.023000704588317156),\n",
       " (0.17, 0.026828184905188013),\n",
       " (0.18000000000000002, 0.03127738533236668),\n",
       " (0.19, 0.03650518662657831),\n",
       " (0.2, 0.04320117356568409),\n",
       " (0.21000000000000002, 0.050828077260542504),\n",
       " (0.22, 0.05881462400993165),\n",
       " (0.23, 0.06798903889381214),\n",
       " (0.24000000000000002, 0.07817425688660684),\n",
       " (0.25, 0.0892023426987485),\n",
       " (0.26, 0.0998328930158261),\n",
       " (0.27, 0.11095604020346073),\n",
       " (0.28, 0.12202775481185135),\n",
       " (0.29000000000000004, 0.13359138905124723),\n",
       " (0.3, 0.14559773456114766),\n",
       " (0.31, 0.15745519792356855),\n",
       " (0.32, 0.16902748899436826),\n",
       " (0.33, 0.1809789111316067),\n",
       " (0.34, 0.19284918034100873),\n",
       " (0.35000000000000003, 0.20430308426559807),\n",
       " (0.36000000000000004, 0.21568316614074035),\n",
       " (0.37, 0.22593352547781265),\n",
       " (0.38, 0.23668906418008417),\n",
       " (0.39, 0.24744249509412986),\n",
       " (0.4, 0.257614671848697),\n",
       " (0.41000000000000003, 0.26945406338281486),\n",
       " (0.42000000000000004, 0.28079458222518017),\n",
       " (0.43, 0.29180898041179304),\n",
       " (0.44, 0.3043313244284893),\n",
       " (0.45, 0.3159333333176705),\n",
       " (0.46, 0.3259257122146885),\n",
       " (0.47000000000000003, 0.33590892334091194),\n",
       " (0.48000000000000004, 0.3439399517309102),\n",
       " (0.49, 0.3500504235127168),\n",
       " (0.5, 0.35274176496198956),\n",
       " (0.51, 0.35437206122820825),\n",
       " (0.52, 0.3524679815175477),\n",
       " (0.53, 0.34884064203660636),\n",
       " (0.54, 0.34299407155192685),\n",
       " (0.55, 0.3340689606471565),\n",
       " (0.56, 0.32070438972989396),\n",
       " (0.5700000000000001, 0.3043851690334316),\n",
       " (0.5800000000000001, 0.28623188185113374),\n",
       " (0.59, 0.2666196932252538),\n",
       " (0.6, 0.244573004872758),\n",
       " (0.61, 0.21957262438513117),\n",
       " (0.62, 0.19711803042681478),\n",
       " (0.63, 0.17436964538025876),\n",
       " (0.64, 0.15225329835896234),\n",
       " (0.65, 0.12975163953699484),\n",
       " (0.66, 0.10986418321222913),\n",
       " (0.67, 0.09205722017597777),\n",
       " (0.68, 0.07715704120267111),\n",
       " (0.6900000000000001, 0.06562878506780224),\n",
       " (0.7000000000000001, 0.05583031640283789),\n",
       " (0.7100000000000001, 0.04931722107561553),\n",
       " (0.72, 0.04434646139073315),\n",
       " (0.73, 0.0414868349522411),\n",
       " (0.74, 0.03912924405092117),\n",
       " (0.75, 0.03741814141415883),\n",
       " (0.76, 0.036360297111309524),\n",
       " (0.77, 0.03570372146667396),\n",
       " (0.78, 0.035017705877962844),\n",
       " (0.79, 0.03469840283504764),\n",
       " (0.8, 0.03453004218435631),\n",
       " (0.81, 0.03427128243930159),\n",
       " (0.8200000000000001, 0.034039477032454586),\n",
       " (0.8300000000000001, 0.03368230056639897),\n",
       " (0.8400000000000001, 0.03323900946946756),\n",
       " (0.85, 0.03271195389961787),\n",
       " (0.86, 0.032187248487725646),\n",
       " (0.87, 0.03173303830586155),\n",
       " (0.88, 0.03125850840723484),\n",
       " (0.89, 0.03069689672496728),\n",
       " (0.9, 0.029957388312268126),\n",
       " (0.91, 0.029592610072002364),\n",
       " (0.92, 0.029004044051527095),\n",
       " (0.93, 0.028352033274896146),\n",
       " (0.9400000000000001, 0.027395787555859936),\n",
       " (0.9500000000000001, 0.026301868687490005),\n",
       " (0.9600000000000001, 0.024825617872476533),\n",
       " (0.97, 0.023091023164835706),\n",
       " (0.98, 0.020077011084183204),\n",
       " (0.99, 0.011871516970733327)]"
      ]
     },
     "execution_count": 103,
     "metadata": {},
     "output_type": "execute_result"
    }
   ],
   "source": [
    "list(zip(cutoffs,KS_all))"
   ]
  },
  {
   "cell_type": "code",
   "execution_count": 107,
   "metadata": {},
   "outputs": [
    {
     "data": {
      "text/plain": [
       "0.51"
      ]
     },
     "execution_count": 107,
     "metadata": {},
     "output_type": "execute_result"
    }
   ],
   "source": [
    "mycutoff=cutoffs[KS_all==max(KS_all)][0]\n",
    "mycutoff"
   ]
  },
  {
   "cell_type": "code",
   "execution_count": 108,
   "metadata": {},
   "outputs": [
    {
     "data": {
      "text/plain": [
       "array([0.32220799, 0.23833736, 0.53325689, ..., 0.43707966, 0.62234255,\n",
       "       0.60719746])"
      ]
     },
     "execution_count": 108,
     "metadata": {},
     "output_type": "execute_result"
    }
   ],
   "source": [
    "test_score=rf.predict_proba(x_val)[:,1]\n",
    "test_score"
   ]
  },
  {
   "cell_type": "code",
   "execution_count": 109,
   "metadata": {},
   "outputs": [
    {
     "data": {
      "text/plain": [
       "array([0, 0, 1, ..., 0, 1, 1])"
      ]
     },
     "execution_count": 109,
     "metadata": {},
     "output_type": "execute_result"
    }
   ],
   "source": [
    "test_classes=(test_score>mycutoff).astype(int)\n",
    "test_classes"
   ]
  },
  {
   "cell_type": "code",
   "execution_count": 110,
   "metadata": {},
   "outputs": [],
   "source": [
    "real_y=y_val"
   ]
  },
  {
   "cell_type": "code",
   "execution_count": 111,
   "metadata": {},
   "outputs": [],
   "source": [
    "TP = ((real_y==1)&(test_classes==1)).sum()\n",
    "FP= ((real_y==0) &(test_classes==1)).sum()\n",
    "TN = ((real_y==0)&(test_classes==0)).sum()\n",
    "FN = ((real_y==1)&(test_classes==0)).sum()\n",
    "    \n",
    "P = TP+FN\n",
    "N = TN+FP"
   ]
  },
  {
   "cell_type": "code",
   "execution_count": 112,
   "metadata": {},
   "outputs": [
    {
     "data": {
      "text/plain": [
       "((95685,), (95685,))"
      ]
     },
     "execution_count": 112,
     "metadata": {},
     "output_type": "execute_result"
    }
   ],
   "source": [
    "test_classes.shape,real_y.shape"
   ]
  },
  {
   "cell_type": "code",
   "execution_count": 113,
   "metadata": {},
   "outputs": [
    {
     "data": {
      "text/plain": [
       "0.18600904703618487"
      ]
     },
     "execution_count": 113,
     "metadata": {},
     "output_type": "execute_result"
    }
   ],
   "source": [
    "KS = (TP/P)-(FP/N)\n",
    "KS"
   ]
  },
  {
   "cell_type": "code",
   "execution_count": 114,
   "metadata": {},
   "outputs": [],
   "source": [
    "from sklearn.metrics import roc_auc_score"
   ]
  },
  {
   "cell_type": "code",
   "execution_count": 115,
   "metadata": {},
   "outputs": [
    {
     "data": {
      "text/plain": [
       "0.5930045235180925"
      ]
     },
     "execution_count": 115,
     "metadata": {},
     "output_type": "execute_result"
    }
   ],
   "source": [
    "score=roc_auc_score(real_y,test_classes)\n",
    "score"
   ]
  },
  {
   "cell_type": "markdown",
   "metadata": {},
   "source": [
    "# Finding the random seach for the entire training model"
   ]
  },
  {
   "cell_type": "code",
   "execution_count": 116,
   "metadata": {},
   "outputs": [
    {
     "name": "stdout",
     "output_type": "stream",
     "text": [
      "Fitting 2 folds for each of 5 candidates, totalling 10 fits\n"
     ]
    },
    {
     "name": "stderr",
     "output_type": "stream",
     "text": [
      "[Parallel(n_jobs=-1)]: Using backend LokyBackend with 4 concurrent workers.\n",
      "[Parallel(n_jobs=-1)]: Done  10 out of  10 | elapsed: 36.4min finished\n"
     ]
    },
    {
     "data": {
      "text/plain": [
       "RandomizedSearchCV(cv=2, estimator=RandomForestClassifier(), n_iter=5,\n",
       "                   n_jobs=-1,\n",
       "                   param_distributions={'bootstrap': [True, False],\n",
       "                                        'class_weight': [None, 'balanced'],\n",
       "                                        'criterion': ['gini', 'entropy'],\n",
       "                                        'max_depth': [None, 5, 10, 15, 20, 30,\n",
       "                                                      50, 70],\n",
       "                                        'max_features': [5, 10, 20, 25, 30, 35],\n",
       "                                        'min_samples_leaf': [1, 2, 5, 10, 15,\n",
       "                                                             20],\n",
       "                                        'min_samples_split': [2, 5, 10, 15, 20],\n",
       "                                        'n_estimators': [100, 200, 300, 500,\n",
       "                                                         700, 1000]},\n",
       "                   scoring='roc_auc', verbose=2)"
      ]
     },
     "execution_count": 116,
     "metadata": {},
     "output_type": "execute_result"
    }
   ],
   "source": [
    "random_search.fit(x,y)"
   ]
  },
  {
   "cell_type": "code",
   "execution_count": 118,
   "metadata": {},
   "outputs": [
    {
     "name": "stdout",
     "output_type": "stream",
     "text": [
      "Model with rank: 1\n",
      "Mean Validation Score: 0.63766926 (std:0.001)\n",
      "Parameters:{'n_estimators': 300, 'min_samples_split': 15, 'min_samples_leaf': 10, 'max_features': 10, 'max_depth': 20, 'criterion': 'entropy', 'class_weight': 'balanced', 'bootstrap': False}\n",
      "\n",
      "Model with rank: 2\n",
      "Mean Validation Score: 0.62989076 (std:0.001)\n",
      "Parameters:{'n_estimators': 500, 'min_samples_split': 20, 'min_samples_leaf': 1, 'max_features': 5, 'max_depth': 10, 'criterion': 'gini', 'class_weight': None, 'bootstrap': False}\n",
      "\n",
      "Model with rank: 3\n",
      "Mean Validation Score: 0.61863385 (std:0.001)\n",
      "Parameters:{'n_estimators': 200, 'min_samples_split': 5, 'min_samples_leaf': 20, 'max_features': 35, 'max_depth': None, 'criterion': 'gini', 'class_weight': 'balanced', 'bootstrap': False}\n",
      "\n"
     ]
    }
   ],
   "source": [
    "report(random_search.cv_results_,3)"
   ]
  },
  {
   "cell_type": "code",
   "execution_count": 119,
   "metadata": {},
   "outputs": [
    {
     "data": {
      "text/plain": [
       "RandomForestClassifier(bootstrap=False, class_weight='balanced',\n",
       "                       criterion='entropy', max_depth=20, max_features=10,\n",
       "                       min_samples_leaf=10, min_samples_split=15,\n",
       "                       n_estimators=300)"
      ]
     },
     "execution_count": 119,
     "metadata": {},
     "output_type": "execute_result"
    }
   ],
   "source": [
    "random_search.best_estimator_"
   ]
  },
  {
   "cell_type": "code",
   "execution_count": 120,
   "metadata": {},
   "outputs": [],
   "source": [
    "rf_act=RandomForestClassifier(bootstrap=False, class_weight='balanced',\n",
    "                       criterion='entropy', max_depth=20, max_features=10,\n",
    "                       min_samples_leaf=10, min_samples_split=15,\n",
    "                       n_estimators=300)"
   ]
  },
  {
   "cell_type": "code",
   "execution_count": 121,
   "metadata": {},
   "outputs": [
    {
     "data": {
      "text/plain": [
       "RandomForestClassifier(bootstrap=False, class_weight='balanced',\n",
       "                       criterion='entropy', max_depth=20, max_features=10,\n",
       "                       min_samples_leaf=10, min_samples_split=15,\n",
       "                       n_estimators=300)"
      ]
     },
     "execution_count": 121,
     "metadata": {},
     "output_type": "execute_result"
    }
   ],
   "source": [
    "rf_act.fit(x,y)"
   ]
  },
  {
   "cell_type": "code",
   "execution_count": 122,
   "metadata": {},
   "outputs": [
    {
     "data": {
      "text/plain": [
       "array([0.57480139, 0.36456127, 0.22899016, ..., 0.53023829, 0.59510978,\n",
       "       0.35381694])"
      ]
     },
     "execution_count": 122,
     "metadata": {},
     "output_type": "execute_result"
    }
   ],
   "source": [
    "train_score_tot=rf_act.predict_proba(x)[:,1]\n",
    "train_score_tot.shape"
   ]
  },
  {
   "cell_type": "code",
   "execution_count": 124,
   "metadata": {},
   "outputs": [
    {
     "data": {
      "text/plain": [
       "(119606,)"
      ]
     },
     "execution_count": 124,
     "metadata": {},
     "output_type": "execute_result"
    }
   ],
   "source": [
    "test_score_tot=rf_act.predict_proba(test_clean)[:,1]\n",
    "test_score_tot.shape"
   ]
  },
  {
   "cell_type": "code",
   "execution_count": 126,
   "metadata": {},
   "outputs": [],
   "source": [
    "KS_all_act =[]\n",
    "for cutoff in cutoffs:\n",
    "    \n",
    "    predicted = (train_score_tot > cutoff).astype(int)\n",
    "    \n",
    "    TP = ((y==1)&(predicted==1)).sum()\n",
    "    FP= ((y==0) &(predicted==1)).sum()\n",
    "    TN = ((y==0)&(predicted==0)).sum()\n",
    "    FN = ((y==1)&(predicted==0)).sum()\n",
    "    \n",
    "    P = TP+FN\n",
    "    N = TN+FP\n",
    "    \n",
    "    KS = (TP/P)-(FP/N)\n",
    "    \n",
    "    KS_all_act.append(KS)"
   ]
  },
  {
   "cell_type": "code",
   "execution_count": 127,
   "metadata": {},
   "outputs": [
    {
     "data": {
      "text/plain": [
       "[(0.01, 0.0),\n",
       " (0.02, 0.0),\n",
       " (0.03, 2.3873312289479642e-05),\n",
       " (0.04, 0.00035544709408741326),\n",
       " (0.05, 0.001249370009814621),\n",
       " (0.060000000000000005, 0.002689726517944746),\n",
       " (0.06999999999999999, 0.004466961988381701),\n",
       " (0.08, 0.005819783018117142),\n",
       " (0.09, 0.007562534815247046),\n",
       " (0.09999999999999999, 0.00935303323695591),\n",
       " (0.11, 0.011578556460383527),\n",
       " (0.12, 0.013939361786784787),\n",
       " (0.13, 0.01637784367270978),\n",
       " (0.14, 0.019153955963087888),\n",
       " (0.15000000000000002, 0.021701945491589214),\n",
       " (0.16, 0.024870641139616123),\n",
       " (0.17, 0.028781663795055756),\n",
       " (0.18000000000000002, 0.033456234179943145),\n",
       " (0.19, 0.03802920960753464),\n",
       " (0.2, 0.04369655510422532),\n",
       " (0.21000000000000002, 0.04997465763060527),\n",
       " (0.22, 0.05653468616609636),\n",
       " (0.23, 0.06432626802176811),\n",
       " (0.24000000000000002, 0.07331655015952465),\n",
       " (0.25, 0.083104863700036),\n",
       " (0.26, 0.0942069984385665),\n",
       " (0.27, 0.10552155081380155),\n",
       " (0.28, 0.11677884331838884),\n",
       " (0.29000000000000004, 0.12797556209089267),\n",
       " (0.3, 0.1397326762582054),\n",
       " (0.31, 0.15100621496606115),\n",
       " (0.32, 0.1618425121257112),\n",
       " (0.33, 0.17141171275687783),\n",
       " (0.34, 0.18084977925408874),\n",
       " (0.35000000000000003, 0.19039216095322564),\n",
       " (0.36000000000000004, 0.19859003257172192),\n",
       " (0.37, 0.20599520804239524),\n",
       " (0.38, 0.21202691286151365),\n",
       " (0.39, 0.21848445234019098),\n",
       " (0.4, 0.2248130744313993),\n",
       " (0.41000000000000003, 0.23171156007800264),\n",
       " (0.42000000000000004, 0.2385704522760843),\n",
       " (0.43, 0.24494451412672258),\n",
       " (0.44, 0.25165553760510306),\n",
       " (0.45, 0.2576127144998689),\n",
       " (0.46, 0.26585473346215904),\n",
       " (0.47000000000000003, 0.2742589663039181),\n",
       " (0.48000000000000004, 0.2818731932203644),\n",
       " (0.49, 0.2863873612782624),\n",
       " (0.5, 0.2885208033134966),\n",
       " (0.51, 0.28877766179421116),\n",
       " (0.52, 0.28588249916840497),\n",
       " (0.53, 0.27963578500342035),\n",
       " (0.54, 0.27232838786271096),\n",
       " (0.55, 0.2655687694256599),\n",
       " (0.56, 0.25370831791974485),\n",
       " (0.5700000000000001, 0.2383742732063601),\n",
       " (0.5800000000000001, 0.21096447309491118),\n",
       " (0.59, 0.18636573460382105),\n",
       " (0.6, 0.162437079335137),\n",
       " (0.61, 0.14416101852942495),\n",
       " (0.62, 0.12692674935914133),\n",
       " (0.63, 0.10928525869425881),\n",
       " (0.64, 0.09477067589437761),\n",
       " (0.65, 0.08224960854209264),\n",
       " (0.66, 0.07082735976294036),\n",
       " (0.67, 0.06224905587357547),\n",
       " (0.68, 0.05592328198712897),\n",
       " (0.6900000000000001, 0.05105565872955372),\n",
       " (0.7000000000000001, 0.04763867167938396),\n",
       " (0.7100000000000001, 0.04378652457104714),\n",
       " (0.72, 0.040807004496496796),\n",
       " (0.73, 0.03894583298536027),\n",
       " (0.74, 0.03771908139984866),\n",
       " (0.75, 0.03676913098487041),\n",
       " (0.76, 0.035907955925213494),\n",
       " (0.77, 0.03544759250686485),\n",
       " (0.78, 0.034969412398882085),\n",
       " (0.79, 0.03476387798688515),\n",
       " (0.8, 0.03459247406986327),\n",
       " (0.81, 0.03439755001888387),\n",
       " (0.8200000000000001, 0.034071807432327655),\n",
       " (0.8300000000000001, 0.03379080570176402),\n",
       " (0.8400000000000001, 0.033444593835319315),\n",
       " (0.85, 0.03307486183491708),\n",
       " (0.86, 0.032768085643956196),\n",
       " (0.87, 0.03219321749537167),\n",
       " (0.88, 0.03186747490881545),\n",
       " (0.89, 0.031474621038270346),\n",
       " (0.9, 0.031115146220553717),\n",
       " (0.91, 0.030745812483966132),\n",
       " (0.92, 0.02978834764752211),\n",
       " (0.93, 0.02930070688448305),\n",
       " (0.9400000000000001, 0.028876773373031912),\n",
       " (0.9500000000000001, 0.028147213376581125),\n",
       " (0.9600000000000001, 0.027269769597065986),\n",
       " (0.97, 0.0256529069022291),\n",
       " (0.98, 0.023513521507231516),\n",
       " (0.99, 0.01637566424465893)]"
      ]
     },
     "execution_count": 127,
     "metadata": {},
     "output_type": "execute_result"
    }
   ],
   "source": [
    "list(zip(cutoffs,KS_all_act))"
   ]
  },
  {
   "cell_type": "code",
   "execution_count": 128,
   "metadata": {},
   "outputs": [
    {
     "data": {
      "text/plain": [
       "0.51"
      ]
     },
     "execution_count": 128,
     "metadata": {},
     "output_type": "execute_result"
    }
   ],
   "source": [
    "mycutoff_act=cutoffs[KS_all_act==max(KS_all_act)][0]\n",
    "mycutoff_act"
   ]
  },
  {
   "cell_type": "code",
   "execution_count": 129,
   "metadata": {},
   "outputs": [
    {
     "data": {
      "text/plain": [
       "(119606,)"
      ]
     },
     "execution_count": 129,
     "metadata": {},
     "output_type": "execute_result"
    }
   ],
   "source": [
    "test_classes_act=(test_score_tot>mycutoff_act).astype(int)\n",
    "test_classes_act.shape"
   ]
  },
  {
   "cell_type": "code",
   "execution_count": 131,
   "metadata": {},
   "outputs": [],
   "source": [
    "prediction=np.where(test_classes_act==1,'Yes','No')\n",
    "submission=pd.DataFrame(list(zip(test_clean['Complaint ID'],list(prediction))),columns=['Complaint ID','Consumer disputed?'])"
   ]
  },
  {
   "cell_type": "code",
   "execution_count": 132,
   "metadata": {},
   "outputs": [
    {
     "data": {
      "text/html": [
       "<div>\n",
       "<style scoped>\n",
       "    .dataframe tbody tr th:only-of-type {\n",
       "        vertical-align: middle;\n",
       "    }\n",
       "\n",
       "    .dataframe tbody tr th {\n",
       "        vertical-align: top;\n",
       "    }\n",
       "\n",
       "    .dataframe thead th {\n",
       "        text-align: right;\n",
       "    }\n",
       "</style>\n",
       "<table border=\"1\" class=\"dataframe\">\n",
       "  <thead>\n",
       "    <tr style=\"text-align: right;\">\n",
       "      <th></th>\n",
       "      <th>Complaint ID</th>\n",
       "      <th>Consumer disputed?</th>\n",
       "    </tr>\n",
       "  </thead>\n",
       "  <tbody>\n",
       "    <tr>\n",
       "      <th>0</th>\n",
       "      <td>675956</td>\n",
       "      <td>Yes</td>\n",
       "    </tr>\n",
       "    <tr>\n",
       "      <th>1</th>\n",
       "      <td>1858795</td>\n",
       "      <td>No</td>\n",
       "    </tr>\n",
       "    <tr>\n",
       "      <th>2</th>\n",
       "      <td>32637</td>\n",
       "      <td>Yes</td>\n",
       "    </tr>\n",
       "    <tr>\n",
       "      <th>3</th>\n",
       "      <td>1731374</td>\n",
       "      <td>No</td>\n",
       "    </tr>\n",
       "    <tr>\n",
       "      <th>4</th>\n",
       "      <td>501487</td>\n",
       "      <td>Yes</td>\n",
       "    </tr>\n",
       "  </tbody>\n",
       "</table>\n",
       "</div>"
      ],
      "text/plain": [
       "   Complaint ID Consumer disputed?\n",
       "0        675956                Yes\n",
       "1       1858795                 No\n",
       "2         32637                Yes\n",
       "3       1731374                 No\n",
       "4        501487                Yes"
      ]
     },
     "execution_count": 132,
     "metadata": {},
     "output_type": "execute_result"
    }
   ],
   "source": [
    "submission.head()"
   ]
  },
  {
   "cell_type": "code",
   "execution_count": 133,
   "metadata": {},
   "outputs": [],
   "source": [
    "submission.to_csv('sample_submission.csv',index=False)"
   ]
  },
  {
   "cell_type": "markdown",
   "metadata": {},
   "source": [
    "# Boosting machines"
   ]
  },
  {
   "cell_type": "code",
   "execution_count": 140,
   "metadata": {},
   "outputs": [],
   "source": [
    "base_clf=DecisionTreeClassifier(max_leaf_nodes=4,class_weight='balanced')"
   ]
  },
  {
   "cell_type": "code",
   "execution_count": 142,
   "metadata": {},
   "outputs": [],
   "source": [
    "from sklearn.ensemble import AdaBoostClassifier"
   ]
  },
  {
   "cell_type": "code",
   "execution_count": 143,
   "metadata": {},
   "outputs": [],
   "source": [
    "adb_params={'n_estimators':[50,100,500],\n",
    "           'learning_rate': [0.01,.1,1]\n",
    "           }\n",
    "adb=AdaBoostClassifier(base_estimator=base_clf)"
   ]
  },
  {
   "cell_type": "code",
   "execution_count": 144,
   "metadata": {},
   "outputs": [],
   "source": [
    "from sklearn.model_selection import GridSearchCV"
   ]
  },
  {
   "cell_type": "code",
   "execution_count": 145,
   "metadata": {},
   "outputs": [],
   "source": [
    "complete_search=GridSearchCV(adb,scoring='roc_auc',param_grid=adb_params,cv=2,n_jobs=-1,verbose=10)"
   ]
  },
  {
   "cell_type": "code",
   "execution_count": 147,
   "metadata": {},
   "outputs": [
    {
     "name": "stdout",
     "output_type": "stream",
     "text": [
      "Fitting 2 folds for each of 9 candidates, totalling 18 fits\n"
     ]
    },
    {
     "name": "stderr",
     "output_type": "stream",
     "text": [
      "[Parallel(n_jobs=-1)]: Using backend LokyBackend with 4 concurrent workers.\n",
      "[Parallel(n_jobs=-1)]: Done   5 tasks      | elapsed:  6.2min\n",
      "[Parallel(n_jobs=-1)]: Done  10 tasks      | elapsed: 20.7min\n",
      "[Parallel(n_jobs=-1)]: Done  13 out of  18 | elapsed: 24.4min remaining:  9.4min\n",
      "[Parallel(n_jobs=-1)]: Done  15 out of  18 | elapsed: 24.6min remaining:  4.9min\n",
      "[Parallel(n_jobs=-1)]: Done  18 out of  18 | elapsed: 33.1min finished\n"
     ]
    },
    {
     "data": {
      "text/plain": [
       "GridSearchCV(cv=2,\n",
       "             estimator=AdaBoostClassifier(base_estimator=DecisionTreeClassifier(class_weight='balanced',\n",
       "                                                                                max_leaf_nodes=4)),\n",
       "             n_jobs=-1,\n",
       "             param_grid={'learning_rate': [0.01, 0.1, 1],\n",
       "                         'n_estimators': [50, 100, 500]},\n",
       "             scoring='roc_auc', verbose=10)"
      ]
     },
     "execution_count": 147,
     "metadata": {},
     "output_type": "execute_result"
    }
   ],
   "source": [
    "complete_search.fit(x_train,y_train)"
   ]
  },
  {
   "cell_type": "code",
   "execution_count": 148,
   "metadata": {},
   "outputs": [],
   "source": [
    "def report(results,n_top=5):\n",
    "    for i in range(1,n_top+1):\n",
    "        cands = np.flatnonzero(results['rank_test_score']==i)\n",
    "        for c in cands:\n",
    "            print(f\"Model with rank {i}\")\n",
    "            print(f\"Mean validation score:{results['mean_test_score'][c]} (std:{results['std_test_score'][c]})\")\n",
    "            print(f\"Parameters:{results['params'][c]}\")\n",
    "            print(' ')"
   ]
  },
  {
   "cell_type": "code",
   "execution_count": 149,
   "metadata": {},
   "outputs": [
    {
     "name": "stdout",
     "output_type": "stream",
     "text": [
      "Model with rank 1\n",
      "Mean validation score:0.6321080473925222 (std:0.0004012953816689979)\n",
      "Parameters:{'learning_rate': 0.1, 'n_estimators': 500}\n",
      " \n",
      "Model with rank 2\n",
      "Mean validation score:0.6296701144975976 (std:0.0010279181325779652)\n",
      "Parameters:{'learning_rate': 1, 'n_estimators': 50}\n",
      " \n",
      "Model with rank 3\n",
      "Mean validation score:0.6287557118906426 (std:0.0017918934541293896)\n",
      "Parameters:{'learning_rate': 1, 'n_estimators': 100}\n",
      " \n",
      "Model with rank 4\n",
      "Mean validation score:0.6269103331188185 (std:0.0002704444568720765)\n",
      "Parameters:{'learning_rate': 0.1, 'n_estimators': 100}\n",
      " \n",
      "Model with rank 5\n",
      "Mean validation score:0.622860233314499 (std:0.0005780150059654932)\n",
      "Parameters:{'learning_rate': 0.1, 'n_estimators': 50}\n",
      " \n"
     ]
    }
   ],
   "source": [
    "report(complete_search.cv_results_,5)"
   ]
  },
  {
   "cell_type": "code",
   "execution_count": null,
   "metadata": {},
   "outputs": [],
   "source": [
    "complete_search_best_estimator_"
   ]
  },
  {
   "cell_type": "code",
   "execution_count": null,
   "metadata": {},
   "outputs": [],
   "source": [
    "adb_best=complete_search_best_estimator_"
   ]
  },
  {
   "cell_type": "code",
   "execution_count": null,
   "metadata": {},
   "outputs": [],
   "source": [
    "adb_best.fit(x_train,y_train)"
   ]
  },
  {
   "cell_type": "code",
   "execution_count": null,
   "metadata": {},
   "outputs": [],
   "source": [
    "pred=adb_best.predict_proba(x_val)[:,1]"
   ]
  },
  {
   "cell_type": "code",
   "execution_count": null,
   "metadata": {},
   "outputs": [],
   "source": [
    "adb_best.classes"
   ]
  },
  {
   "cell_type": "code",
   "execution_count": null,
   "metadata": {},
   "outputs": [],
   "source": [
    "from sklearn.metrics import 'roc_auc_score'"
   ]
  },
  {
   "cell_type": "code",
   "execution_count": null,
   "metadata": {},
   "outputs": [],
   "source": [
    "roc_auc_score(y_val,pred)"
   ]
  },
  {
   "cell_type": "code",
   "execution_count": null,
   "metadata": {},
   "outputs": [],
   "source": []
  }
 ],
 "metadata": {
  "kernelspec": {
   "display_name": "Python 3",
   "language": "python",
   "name": "python3"
  },
  "language_info": {
   "codemirror_mode": {
    "name": "ipython",
    "version": 3
   },
   "file_extension": ".py",
   "mimetype": "text/x-python",
   "name": "python",
   "nbconvert_exporter": "python",
   "pygments_lexer": "ipython3",
   "version": "3.8.3"
  }
 },
 "nbformat": 4,
 "nbformat_minor": 4
}
